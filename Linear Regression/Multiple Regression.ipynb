{
 "cells": [
  {
   "cell_type": "markdown",
   "id": "cdb34c35",
   "metadata": {},
   "source": [
    "## Multiple Regression"
   ]
  },
  {
   "cell_type": "code",
   "execution_count": 1,
   "id": "85a67a8d",
   "metadata": {},
   "outputs": [],
   "source": [
    "using CSV"
   ]
  },
  {
   "cell_type": "code",
   "execution_count": 2,
   "id": "d1d9545e",
   "metadata": {},
   "outputs": [],
   "source": [
    "using DataFrames"
   ]
  },
  {
   "cell_type": "code",
   "execution_count": 4,
   "id": "73d24e38",
   "metadata": {},
   "outputs": [
    {
     "data": {
      "text/html": [
       "<table class=\"data-frame\"><thead><tr><th></th><th>Salary</th><th>Years_Previous_Experience</th><th>Years_Employed</th><th>Years_Education</th><th>Gender</th><th>Department</th></tr><tr><th></th><th>Int64</th><th>Int64</th><th>Int64</th><th>Int64</th><th>String</th><th>String</th></tr></thead><tbody><p>46 rows × 7 columns (omitted printing of 1 columns)</p><tr><th>1</th><td>32782</td><td>1</td><td>0</td><td>7</td><td>Male</td><td>A</td></tr><tr><th>2</th><td>32920</td><td>3</td><td>15</td><td>9</td><td>Female</td><td>A</td></tr><tr><th>3</th><td>29548</td><td>6</td><td>5</td><td>1</td><td>Male</td><td>A</td></tr><tr><th>4</th><td>39828</td><td>6</td><td>18</td><td>5</td><td>Female</td><td>A</td></tr><tr><th>5</th><td>31528</td><td>11</td><td>3</td><td>3</td><td>Male</td><td>A</td></tr><tr><th>6</th><td>38985</td><td>7</td><td>18</td><td>9</td><td>Male</td><td>A</td></tr><tr><th>7</th><td>41889</td><td>16</td><td>22</td><td>7</td><td>Male</td><td>A</td></tr><tr><th>8</th><td>38791</td><td>4</td><td>21</td><td>5</td><td>Male</td><td>A</td></tr><tr><th>9</th><td>28985</td><td>1</td><td>0</td><td>4</td><td>Female</td><td>A</td></tr><tr><th>10</th><td>24749</td><td>2</td><td>6</td><td>0</td><td>Female</td><td>A</td></tr><tr><th>11</th><td>35467</td><td>6</td><td>3</td><td>6</td><td>Female</td><td>B</td></tr><tr><th>12</th><td>35468</td><td>5</td><td>9</td><td>4</td><td>Female</td><td>B</td></tr><tr><th>13</th><td>29876</td><td>0</td><td>2</td><td>3</td><td>Female</td><td>B</td></tr><tr><th>14</th><td>43674</td><td>9</td><td>6</td><td>4</td><td>Male</td><td>B</td></tr><tr><th>15</th><td>36431</td><td>4</td><td>9</td><td>4</td><td>Female</td><td>B</td></tr><tr><th>16</th><td>26578</td><td>6</td><td>0</td><td>2</td><td>Female</td><td>B</td></tr><tr><th>17</th><td>36571</td><td>1</td><td>6</td><td>4</td><td>Male</td><td>B</td></tr><tr><th>18</th><td>56326</td><td>3</td><td>12</td><td>8</td><td>Male</td><td>B</td></tr><tr><th>19</th><td>23654</td><td>0</td><td>0</td><td>0</td><td>Female</td><td>C</td></tr><tr><th>20</th><td>36578</td><td>4</td><td>4</td><td>8</td><td>Male</td><td>C</td></tr><tr><th>21</th><td>37548</td><td>9</td><td>19</td><td>4</td><td>Male</td><td>C</td></tr><tr><th>22</th><td>53234</td><td>0</td><td>25</td><td>6</td><td>Male</td><td>C</td></tr><tr><th>23</th><td>54679</td><td>3</td><td>20</td><td>6</td><td>Female</td><td>C</td></tr><tr><th>24</th><td>47536</td><td>5</td><td>15</td><td>6</td><td>Male</td><td>C</td></tr><tr><th>25</th><td>31425</td><td>6</td><td>7</td><td>5</td><td>Female</td><td>C</td></tr><tr><th>26</th><td>65487</td><td>0</td><td>27</td><td>12</td><td>Female</td><td>D</td></tr><tr><th>27</th><td>46184</td><td>3</td><td>20</td><td>4</td><td>Male</td><td>D</td></tr><tr><th>28</th><td>54899</td><td>5</td><td>12</td><td>8</td><td>Female</td><td>D</td></tr><tr><th>29</th><td>34869</td><td>5</td><td>7</td><td>4</td><td>Female</td><td>D</td></tr><tr><th>30</th><td>35487</td><td>2</td><td>8</td><td>2</td><td>Female</td><td>D</td></tr><tr><th>&vellip;</th><td>&vellip;</td><td>&vellip;</td><td>&vellip;</td><td>&vellip;</td><td>&vellip;</td><td>&vellip;</td></tr></tbody></table>"
      ],
      "text/latex": [
       "\\begin{tabular}{r|ccccccc}\n",
       "\t& Salary & Years\\_Previous\\_Experience & Years\\_Employed & Years\\_Education & Gender & Department & \\\\\n",
       "\t\\hline\n",
       "\t& Int64 & Int64 & Int64 & Int64 & String & String & \\\\\n",
       "\t\\hline\n",
       "\t1 & 32782 & 1 & 0 & 7 & Male & A & $\\dots$ \\\\\n",
       "\t2 & 32920 & 3 & 15 & 9 & Female & A & $\\dots$ \\\\\n",
       "\t3 & 29548 & 6 & 5 & 1 & Male & A & $\\dots$ \\\\\n",
       "\t4 & 39828 & 6 & 18 & 5 & Female & A & $\\dots$ \\\\\n",
       "\t5 & 31528 & 11 & 3 & 3 & Male & A & $\\dots$ \\\\\n",
       "\t6 & 38985 & 7 & 18 & 9 & Male & A & $\\dots$ \\\\\n",
       "\t7 & 41889 & 16 & 22 & 7 & Male & A & $\\dots$ \\\\\n",
       "\t8 & 38791 & 4 & 21 & 5 & Male & A & $\\dots$ \\\\\n",
       "\t9 & 28985 & 1 & 0 & 4 & Female & A & $\\dots$ \\\\\n",
       "\t10 & 24749 & 2 & 6 & 0 & Female & A & $\\dots$ \\\\\n",
       "\t11 & 35467 & 6 & 3 & 6 & Female & B & $\\dots$ \\\\\n",
       "\t12 & 35468 & 5 & 9 & 4 & Female & B & $\\dots$ \\\\\n",
       "\t13 & 29876 & 0 & 2 & 3 & Female & B & $\\dots$ \\\\\n",
       "\t14 & 43674 & 9 & 6 & 4 & Male & B & $\\dots$ \\\\\n",
       "\t15 & 36431 & 4 & 9 & 4 & Female & B & $\\dots$ \\\\\n",
       "\t16 & 26578 & 6 & 0 & 2 & Female & B & $\\dots$ \\\\\n",
       "\t17 & 36571 & 1 & 6 & 4 & Male & B & $\\dots$ \\\\\n",
       "\t18 & 56326 & 3 & 12 & 8 & Male & B & $\\dots$ \\\\\n",
       "\t19 & 23654 & 0 & 0 & 0 & Female & C & $\\dots$ \\\\\n",
       "\t20 & 36578 & 4 & 4 & 8 & Male & C & $\\dots$ \\\\\n",
       "\t21 & 37548 & 9 & 19 & 4 & Male & C & $\\dots$ \\\\\n",
       "\t22 & 53234 & 0 & 25 & 6 & Male & C & $\\dots$ \\\\\n",
       "\t23 & 54679 & 3 & 20 & 6 & Female & C & $\\dots$ \\\\\n",
       "\t24 & 47536 & 5 & 15 & 6 & Male & C & $\\dots$ \\\\\n",
       "\t25 & 31425 & 6 & 7 & 5 & Female & C & $\\dots$ \\\\\n",
       "\t26 & 65487 & 0 & 27 & 12 & Female & D & $\\dots$ \\\\\n",
       "\t27 & 46184 & 3 & 20 & 4 & Male & D & $\\dots$ \\\\\n",
       "\t28 & 54899 & 5 & 12 & 8 & Female & D & $\\dots$ \\\\\n",
       "\t29 & 34869 & 5 & 7 & 4 & Female & D & $\\dots$ \\\\\n",
       "\t30 & 35487 & 2 & 8 & 2 & Female & D & $\\dots$ \\\\\n",
       "\t$\\dots$ & $\\dots$ & $\\dots$ & $\\dots$ & $\\dots$ & $\\dots$ & $\\dots$ &  \\\\\n",
       "\\end{tabular}\n"
      ],
      "text/plain": [
       "46×7 typename(DataFrame). Omitted printing of 3 columns\n",
       "│ Row │ Salary │ Years_Previous_Experience │ Years_Employed │ Years_Education │\n",
       "│     │ \u001b[90mInt64\u001b[39m  │ \u001b[90mInt64\u001b[39m                     │ \u001b[90mInt64\u001b[39m          │ \u001b[90mInt64\u001b[39m           │\n",
       "├─────┼────────┼───────────────────────────┼────────────────┼─────────────────┤\n",
       "│ 1   │ 32782  │ 1                         │ 0              │ 7               │\n",
       "│ 2   │ 32920  │ 3                         │ 15             │ 9               │\n",
       "│ 3   │ 29548  │ 6                         │ 5              │ 1               │\n",
       "│ 4   │ 39828  │ 6                         │ 18             │ 5               │\n",
       "│ 5   │ 31528  │ 11                        │ 3              │ 3               │\n",
       "│ 6   │ 38985  │ 7                         │ 18             │ 9               │\n",
       "│ 7   │ 41889  │ 16                        │ 22             │ 7               │\n",
       "│ 8   │ 38791  │ 4                         │ 21             │ 5               │\n",
       "│ 9   │ 28985  │ 1                         │ 0              │ 4               │\n",
       "│ 10  │ 24749  │ 2                         │ 6              │ 0               │\n",
       "⋮\n",
       "│ 36  │ 36487  │ 5                         │ 6              │ 2               │\n",
       "│ 37  │ 34632  │ 4                         │ 5              │ 4               │\n",
       "│ 38  │ 46211  │ 5                         │ 14             │ 6               │\n",
       "│ 39  │ 51698  │ 6                         │ 18             │ 6               │\n",
       "│ 40  │ 69246  │ 3                         │ 22             │ 10              │\n",
       "│ 41  │ 48695  │ 19                        │ 6              │ 8               │\n",
       "│ 42  │ 34987  │ 6                         │ 9              │ 2               │\n",
       "│ 43  │ 35631  │ 4                         │ 6              │ 4               │\n",
       "│ 44  │ 39743  │ 6                         │ 9              │ 5               │\n",
       "│ 45  │ 41255  │ 4                         │ 9              │ 6               │\n",
       "│ 46  │ 26452  │ 3                         │ 1              │ 2               │"
      ]
     },
     "execution_count": 4,
     "metadata": {},
     "output_type": "execute_result"
    }
   ],
   "source": [
    "s2 = CSV.read(\"../../JuliaDataset/salary.csv\", DataFrame)"
   ]
  },
  {
   "cell_type": "code",
   "execution_count": 5,
   "id": "5dc0e555",
   "metadata": {},
   "outputs": [
    {
     "data": {
      "text/plain": [
       "7-element Vector{Symbol}:\n",
       " :Salary\n",
       " :Years_Previous_Experience\n",
       " :Years_Employed\n",
       " :Years_Education\n",
       " :Gender\n",
       " :Department\n",
       " :Number_Supervised"
      ]
     },
     "execution_count": 5,
     "metadata": {},
     "output_type": "execute_result"
    }
   ],
   "source": [
    "names(s2)"
   ]
  },
  {
   "cell_type": "code",
   "execution_count": 6,
   "id": "b8dc8ec7",
   "metadata": {},
   "outputs": [],
   "source": [
    "using GLM"
   ]
  },
  {
   "cell_type": "code",
   "execution_count": 7,
   "id": "2d67f2b1",
   "metadata": {},
   "outputs": [
    {
     "data": {
      "text/plain": [
       "StatsModels.TableRegressionModel{LinearModel{GLM.LmResp{Vector{Float64}}, GLM.DensePredChol{Float64, LinearAlgebra.CholeskyPivoted{Float64, Matrix{Float64}}}}, Matrix{Float64}}\n",
       "\n",
       "Salary ~ 1 + Years_Previous_Experience + Years_Employed + Years_Education + Gender\n",
       "\n",
       "Coefficients:\n",
       "───────────────────────────────────────────────────────────────────────────────────────\n",
       "                               Coef.  Std. Error      t  Pr(>|t|)  Lower 95%  Upper 95%\n",
       "───────────────────────────────────────────────────────────────────────────────────────\n",
       "(Intercept)                23167.1      2072.0    11.18    <1e-13   18982.6   27351.6\n",
       "Years_Previous_Experience   -114.747     239.075  -0.48    0.6338    -597.57    368.075\n",
       "Years_Employed               656.497     144.942   4.53    <1e-04     363.78    949.214\n",
       "Years_Education             1903.99      386.932   4.92    <1e-04    1122.56   2685.41\n",
       "Gender: Male                1468.1      1804.27    0.81    0.4205   -2175.69   5111.9\n",
       "───────────────────────────────────────────────────────────────────────────────────────"
      ]
     },
     "execution_count": 7,
     "metadata": {},
     "output_type": "execute_result"
    }
   ],
   "source": [
    "ols = lm(@formula(Salary ~ Years_Previous_Experience + Years_Employed + Years_Education + Gender) , s2)"
   ]
  },
  {
   "cell_type": "code",
   "execution_count": 8,
   "id": "c17cec03",
   "metadata": {},
   "outputs": [
    {
     "data": {
      "text/plain": [
       "1-element Vector{Union{Missing, Float64}}:\n",
       " 51504.78590840759"
      ]
     },
     "execution_count": 8,
     "metadata": {},
     "output_type": "execute_result"
    }
   ],
   "source": [
    "predict(ols, DataFrame(Years_Previous_Experience = [5], Years_Employed = [7], Years_Education = [12],Gender = [\"Male\"]   ))"
   ]
  },
  {
   "cell_type": "code",
   "execution_count": 9,
   "id": "e35f6cc0",
   "metadata": {},
   "outputs": [
    {
     "data": {
      "text/plain": [
       "1-element Vector{Union{Missing, Float64}}:\n",
       " 50036.684170866"
      ]
     },
     "execution_count": 9,
     "metadata": {},
     "output_type": "execute_result"
    }
   ],
   "source": [
    "predict(ols, DataFrame(Years_Previous_Experience = [5], Years_Employed = [7], Years_Education = [12],Gender = [\"Female\"]   ))"
   ]
  },
  {
   "cell_type": "code",
   "execution_count": 10,
   "id": "ff561352",
   "metadata": {},
   "outputs": [
    {
     "data": {
      "text/plain": [
       "2-element Vector{Union{Missing, Float64}}:\n",
       " 50036.684170866\n",
       " 58644.48357131525"
      ]
     },
     "execution_count": 10,
     "metadata": {},
     "output_type": "execute_result"
    }
   ],
   "source": [
    "predict(ols, DataFrame(Years_Previous_Experience = [5 , 4], Years_Employed = [7, 9], Years_Education = [12, 15],Gender = [\"Female\", \"Male\"]   ))"
   ]
  },
  {
   "cell_type": "code",
   "execution_count": null,
   "id": "909dc007",
   "metadata": {},
   "outputs": [],
   "source": []
  }
 ],
 "metadata": {
  "kernelspec": {
   "display_name": "Julia 1.6.1",
   "language": "julia",
   "name": "julia-1.6"
  },
  "language_info": {
   "file_extension": ".jl",
   "mimetype": "application/julia",
   "name": "julia",
   "version": "1.6.1"
  }
 },
 "nbformat": 4,
 "nbformat_minor": 5
}
