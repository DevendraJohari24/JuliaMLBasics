{
 "cells": [
  {
   "cell_type": "markdown",
   "id": "180cf4d2",
   "metadata": {},
   "source": [
    "## DataFrames"
   ]
  },
  {
   "cell_type": "code",
   "execution_count": 1,
   "id": "39c16778",
   "metadata": {},
   "outputs": [],
   "source": [
    "using Pkg"
   ]
  },
  {
   "cell_type": "code",
   "execution_count": 2,
   "id": "c5404945",
   "metadata": {},
   "outputs": [],
   "source": [
    "Pkg.add(\"DataFrames\")"
   ]
  },
  {
   "cell_type": "code",
   "execution_count": 3,
   "id": "9de0e91e",
   "metadata": {},
   "outputs": [],
   "source": [
    "using DataFrames"
   ]
  },
  {
   "cell_type": "code",
   "execution_count": 4,
   "id": "258b6229",
   "metadata": {},
   "outputs": [
    {
     "data": {
      "text/html": [
       "<table class=\"data-frame\"><thead><tr><th></th></tr><tr><th></th></tr></thead><tbody><p>0 rows × 0 columns</p></tbody></table>"
      ],
      "text/latex": [
       "\\begin{tabular}{r|}\n",
       "\t& \\\\\n",
       "\t\\hline\n",
       "\t& \\\\\n",
       "\t\\hline\n",
       "\\end{tabular}\n"
      ],
      "text/plain": [
       "0×0 typename(DataFrame)\n"
      ]
     },
     "execution_count": 4,
     "metadata": {},
     "output_type": "execute_result"
    }
   ],
   "source": [
    "DataFrame()"
   ]
  },
  {
   "cell_type": "code",
   "execution_count": 5,
   "id": "6f46fc39",
   "metadata": {},
   "outputs": [
    {
     "data": {
      "text/html": [
       "<table class=\"data-frame\"><thead><tr><th></th><th>A</th><th>B</th></tr><tr><th></th><th>Int64</th><th>Float64</th></tr></thead><tbody><p>4 rows × 2 columns</p><tr><th>1</th><td>1</td><td>0.959313</td></tr><tr><th>2</th><td>2</td><td>0.309681</td></tr><tr><th>3</th><td>3</td><td>0.695631</td></tr><tr><th>4</th><td>4</td><td>0.992385</td></tr></tbody></table>"
      ],
      "text/latex": [
       "\\begin{tabular}{r|cc}\n",
       "\t& A & B\\\\\n",
       "\t\\hline\n",
       "\t& Int64 & Float64\\\\\n",
       "\t\\hline\n",
       "\t1 & 1 & 0.959313 \\\\\n",
       "\t2 & 2 & 0.309681 \\\\\n",
       "\t3 & 3 & 0.695631 \\\\\n",
       "\t4 & 4 & 0.992385 \\\\\n",
       "\\end{tabular}\n"
      ],
      "text/plain": [
       "4×2 typename(DataFrame)\n",
       "│ Row │ A     │ B        │\n",
       "│     │ \u001b[90mInt64\u001b[39m │ \u001b[90mFloat64\u001b[39m  │\n",
       "├─────┼───────┼──────────┤\n",
       "│ 1   │ 1     │ 0.959313 │\n",
       "│ 2   │ 2     │ 0.309681 │\n",
       "│ 3   │ 3     │ 0.695631 │\n",
       "│ 4   │ 4     │ 0.992385 │"
      ]
     },
     "execution_count": 5,
     "metadata": {},
     "output_type": "execute_result"
    }
   ],
   "source": [
    "DataFrame(A=1:4, B=rand(4))"
   ]
  },
  {
   "cell_type": "code",
   "execution_count": 6,
   "id": "8b5a680e",
   "metadata": {},
   "outputs": [
    {
     "data": {
      "text/html": [
       "<table class=\"data-frame\"><thead><tr><th></th><th>x1</th><th>x2</th><th>x3</th></tr><tr><th></th><th>Float64</th><th>Float64</th><th>Float64</th></tr></thead><tbody><p>10 rows × 3 columns</p><tr><th>1</th><td>0.0764174</td><td>0.489536</td><td>0.369761</td></tr><tr><th>2</th><td>0.259316</td><td>0.511888</td><td>0.0200698</td></tr><tr><th>3</th><td>0.525194</td><td>0.224486</td><td>0.536038</td></tr><tr><th>4</th><td>0.83733</td><td>0.172144</td><td>0.0517413</td></tr><tr><th>5</th><td>0.687664</td><td>0.448395</td><td>0.495353</td></tr><tr><th>6</th><td>0.93195</td><td>0.403378</td><td>0.905035</td></tr><tr><th>7</th><td>0.121481</td><td>0.292454</td><td>0.092835</td></tr><tr><th>8</th><td>0.0984133</td><td>0.037998</td><td>0.490803</td></tr><tr><th>9</th><td>0.294137</td><td>0.185524</td><td>0.354395</td></tr><tr><th>10</th><td>0.660684</td><td>0.613865</td><td>0.543181</td></tr></tbody></table>"
      ],
      "text/latex": [
       "\\begin{tabular}{r|ccc}\n",
       "\t& x1 & x2 & x3\\\\\n",
       "\t\\hline\n",
       "\t& Float64 & Float64 & Float64\\\\\n",
       "\t\\hline\n",
       "\t1 & 0.0764174 & 0.489536 & 0.369761 \\\\\n",
       "\t2 & 0.259316 & 0.511888 & 0.0200698 \\\\\n",
       "\t3 & 0.525194 & 0.224486 & 0.536038 \\\\\n",
       "\t4 & 0.83733 & 0.172144 & 0.0517413 \\\\\n",
       "\t5 & 0.687664 & 0.448395 & 0.495353 \\\\\n",
       "\t6 & 0.93195 & 0.403378 & 0.905035 \\\\\n",
       "\t7 & 0.121481 & 0.292454 & 0.092835 \\\\\n",
       "\t8 & 0.0984133 & 0.037998 & 0.490803 \\\\\n",
       "\t9 & 0.294137 & 0.185524 & 0.354395 \\\\\n",
       "\t10 & 0.660684 & 0.613865 & 0.543181 \\\\\n",
       "\\end{tabular}\n"
      ],
      "text/plain": [
       "10×3 typename(DataFrame)\n",
       "│ Row │ x1        │ x2       │ x3        │\n",
       "│     │ \u001b[90mFloat64\u001b[39m   │ \u001b[90mFloat64\u001b[39m  │ \u001b[90mFloat64\u001b[39m   │\n",
       "├─────┼───────────┼──────────┼───────────┤\n",
       "│ 1   │ 0.0764174 │ 0.489536 │ 0.369761  │\n",
       "│ 2   │ 0.259316  │ 0.511888 │ 0.0200698 │\n",
       "│ 3   │ 0.525194  │ 0.224486 │ 0.536038  │\n",
       "│ 4   │ 0.83733   │ 0.172144 │ 0.0517413 │\n",
       "│ 5   │ 0.687664  │ 0.448395 │ 0.495353  │\n",
       "│ 6   │ 0.93195   │ 0.403378 │ 0.905035  │\n",
       "│ 7   │ 0.121481  │ 0.292454 │ 0.092835  │\n",
       "│ 8   │ 0.0984133 │ 0.037998 │ 0.490803  │\n",
       "│ 9   │ 0.294137  │ 0.185524 │ 0.354395  │\n",
       "│ 10  │ 0.660684  │ 0.613865 │ 0.543181  │"
      ]
     },
     "execution_count": 6,
     "metadata": {},
     "output_type": "execute_result"
    }
   ],
   "source": [
    "DataFrame(rand(10,3))"
   ]
  },
  {
   "cell_type": "code",
   "execution_count": 10,
   "id": "3f7660ee",
   "metadata": {},
   "outputs": [
    {
     "data": {
      "text/html": [
       "<table class=\"data-frame\"><thead><tr><th></th><th>x1</th><th>x2</th><th>x3</th></tr><tr><th></th><th>Float64</th><th>Float64</th><th>Float64</th></tr></thead><tbody><p>10 rows × 3 columns</p><tr><th>1</th><td>1.63295</td><td>0.438967</td><td>-0.0793272</td></tr><tr><th>2</th><td>0.468157</td><td>-0.38645</td><td>-0.171288</td></tr><tr><th>3</th><td>-1.06414</td><td>0.867431</td><td>-0.228558</td></tr><tr><th>4</th><td>0.859518</td><td>0.795225</td><td>0.710399</td></tr><tr><th>5</th><td>-0.662665</td><td>1.49314</td><td>0.485979</td></tr><tr><th>6</th><td>-0.689374</td><td>0.232254</td><td>-0.775774</td></tr><tr><th>7</th><td>0.260577</td><td>0.928602</td><td>0.00350043</td></tr><tr><th>8</th><td>1.31575</td><td>0.675672</td><td>-0.556424</td></tr><tr><th>9</th><td>1.75222</td><td>-0.645325</td><td>0.650483</td></tr><tr><th>10</th><td>0.048894</td><td>1.7881</td><td>0.184979</td></tr></tbody></table>"
      ],
      "text/latex": [
       "\\begin{tabular}{r|ccc}\n",
       "\t& x1 & x2 & x3\\\\\n",
       "\t\\hline\n",
       "\t& Float64 & Float64 & Float64\\\\\n",
       "\t\\hline\n",
       "\t1 & 1.63295 & 0.438967 & -0.0793272 \\\\\n",
       "\t2 & 0.468157 & -0.38645 & -0.171288 \\\\\n",
       "\t3 & -1.06414 & 0.867431 & -0.228558 \\\\\n",
       "\t4 & 0.859518 & 0.795225 & 0.710399 \\\\\n",
       "\t5 & -0.662665 & 1.49314 & 0.485979 \\\\\n",
       "\t6 & -0.689374 & 0.232254 & -0.775774 \\\\\n",
       "\t7 & 0.260577 & 0.928602 & 0.00350043 \\\\\n",
       "\t8 & 1.31575 & 0.675672 & -0.556424 \\\\\n",
       "\t9 & 1.75222 & -0.645325 & 0.650483 \\\\\n",
       "\t10 & 0.048894 & 1.7881 & 0.184979 \\\\\n",
       "\\end{tabular}\n"
      ],
      "text/plain": [
       "10×3 typename(DataFrame)\n",
       "│ Row │ x1        │ x2        │ x3         │\n",
       "│     │ \u001b[90mFloat64\u001b[39m   │ \u001b[90mFloat64\u001b[39m   │ \u001b[90mFloat64\u001b[39m    │\n",
       "├─────┼───────────┼───────────┼────────────┤\n",
       "│ 1   │ 1.63295   │ 0.438967  │ -0.0793272 │\n",
       "│ 2   │ 0.468157  │ -0.38645  │ -0.171288  │\n",
       "│ 3   │ -1.06414  │ 0.867431  │ -0.228558  │\n",
       "│ 4   │ 0.859518  │ 0.795225  │ 0.710399   │\n",
       "│ 5   │ -0.662665 │ 1.49314   │ 0.485979   │\n",
       "│ 6   │ -0.689374 │ 0.232254  │ -0.775774  │\n",
       "│ 7   │ 0.260577  │ 0.928602  │ 0.00350043 │\n",
       "│ 8   │ 1.31575   │ 0.675672  │ -0.556424  │\n",
       "│ 9   │ 1.75222   │ -0.645325 │ 0.650483   │\n",
       "│ 10  │ 0.048894  │ 1.7881    │ 0.184979   │"
      ]
     },
     "execution_count": 10,
     "metadata": {},
     "output_type": "execute_result"
    }
   ],
   "source": [
    "X1 = DataFrame(randn(10,3))"
   ]
  },
  {
   "cell_type": "code",
   "execution_count": 11,
   "id": "cede1bc5",
   "metadata": {},
   "outputs": [
    {
     "data": {
      "text/plain": [
       "10×3 Matrix{Float64}:\n",
       "  1.63295    0.438967  -0.0793272\n",
       "  0.468157  -0.38645   -0.171288\n",
       " -1.06414    0.867431  -0.228558\n",
       "  0.859518   0.795225   0.710399\n",
       " -0.662665   1.49314    0.485979\n",
       " -0.689374   0.232254  -0.775774\n",
       "  0.260577   0.928602   0.00350043\n",
       "  1.31575    0.675672  -0.556424\n",
       "  1.75222   -0.645325   0.650483\n",
       "  0.048894   1.7881     0.184979"
      ]
     },
     "execution_count": 11,
     "metadata": {},
     "output_type": "execute_result"
    }
   ],
   "source": [
    "Matrix(X1)"
   ]
  },
  {
   "cell_type": "code",
   "execution_count": 12,
   "id": "0efa74a9",
   "metadata": {},
   "outputs": [],
   "source": [
    "Pkg.add(\"Tables\")"
   ]
  },
  {
   "cell_type": "code",
   "execution_count": 13,
   "id": "89866b9b",
   "metadata": {},
   "outputs": [],
   "source": [
    "using Tables"
   ]
  },
  {
   "cell_type": "code",
   "execution_count": 14,
   "id": "86e2c34e",
   "metadata": {},
   "outputs": [
    {
     "data": {
      "text/plain": [
       "(x1 = [1.6329528820151482, 0.4681566199272197, -1.0641357766040007, 0.8595184414234456, -0.6626651992428959, -0.6893742392396299, 0.2605767873500559, 1.3157493313468978, 1.7522228531771022, 0.04889401042732591], x2 = [0.4389666312538945, -0.38645013488076846, 0.8674314846468479, 0.795224815513787, 1.4931365990061687, 0.2322544685390851, 0.9286019659596747, 0.6756719155218174, -0.6453251168072432, 1.7881015322473266], x3 = [-0.07932724112972733, -0.1712881155911032, -0.22855770628368077, 0.7103985459204429, 0.48597851809843867, -0.7757737110124449, 0.0035004329499658607, -0.5564236212520725, 0.6504833030789151, 0.18497863920278595])"
      ]
     },
     "execution_count": 14,
     "metadata": {},
     "output_type": "execute_result"
    }
   ],
   "source": [
    "tv = Tables.columntable(X1)"
   ]
  },
  {
   "cell_type": "code",
   "execution_count": 15,
   "id": "0673996a",
   "metadata": {},
   "outputs": [
    {
     "data": {
      "text/plain": [
       "NamedTuple{(:x1, :x2, :x3), Tuple{Vector{Float64}, Vector{Float64}, Vector{Float64}}}"
      ]
     },
     "execution_count": 15,
     "metadata": {},
     "output_type": "execute_result"
    }
   ],
   "source": [
    "typeof(tv)"
   ]
  },
  {
   "cell_type": "code",
   "execution_count": 17,
   "id": "f2285b05",
   "metadata": {},
   "outputs": [
    {
     "data": {
      "text/plain": [
       "10-element Vector{Float64}:\n",
       "  1.6329528820151482\n",
       "  0.4681566199272197\n",
       " -1.0641357766040007\n",
       "  0.8595184414234456\n",
       " -0.6626651992428959\n",
       " -0.6893742392396299\n",
       "  0.2605767873500559\n",
       "  1.3157493313468978\n",
       "  1.7522228531771022\n",
       "  0.04889401042732591"
      ]
     },
     "execution_count": 17,
     "metadata": {},
     "output_type": "execute_result"
    }
   ],
   "source": [
    "tv.x1"
   ]
  },
  {
   "cell_type": "code",
   "execution_count": 18,
   "id": "7bd42868",
   "metadata": {},
   "outputs": [
    {
     "data": {
      "text/plain": [
       "10-element Vector{Float64}:\n",
       "  0.4389666312538945\n",
       " -0.38645013488076846\n",
       "  0.8674314846468479\n",
       "  0.795224815513787\n",
       "  1.4931365990061687\n",
       "  0.2322544685390851\n",
       "  0.9286019659596747\n",
       "  0.6756719155218174\n",
       " -0.6453251168072432\n",
       "  1.7881015322473266"
      ]
     },
     "execution_count": 18,
     "metadata": {},
     "output_type": "execute_result"
    }
   ],
   "source": [
    "tv.x2"
   ]
  },
  {
   "cell_type": "code",
   "execution_count": 19,
   "id": "44ad7bf3",
   "metadata": {},
   "outputs": [
    {
     "data": {
      "text/plain": [
       "10-element Vector{Float64}:\n",
       " -0.07932724112972733\n",
       " -0.1712881155911032\n",
       " -0.22855770628368077\n",
       "  0.7103985459204429\n",
       "  0.48597851809843867\n",
       " -0.7757737110124449\n",
       "  0.0035004329499658607\n",
       " -0.5564236212520725\n",
       "  0.6504833030789151\n",
       "  0.18497863920278595"
      ]
     },
     "execution_count": 19,
     "metadata": {},
     "output_type": "execute_result"
    }
   ],
   "source": [
    "tv.x3"
   ]
  },
  {
   "cell_type": "markdown",
   "id": "a4ae9615",
   "metadata": {},
   "source": [
    "## More on DataFrames"
   ]
  },
  {
   "cell_type": "code",
   "execution_count": 22,
   "id": "05fe0095",
   "metadata": {},
   "outputs": [
    {
     "data": {
      "text/html": [
       "<table class=\"data-frame\"><thead><tr><th></th><th>x1</th><th>x2</th><th>x3</th></tr><tr><th></th><th>Float64</th><th>Float64</th><th>Float64</th></tr></thead><tbody><p>10 rows × 3 columns</p><tr><th>1</th><td>1.63295</td><td>0.438967</td><td>-0.0793272</td></tr><tr><th>2</th><td>0.468157</td><td>-0.38645</td><td>-0.171288</td></tr><tr><th>3</th><td>-1.06414</td><td>0.867431</td><td>-0.228558</td></tr><tr><th>4</th><td>0.859518</td><td>0.795225</td><td>0.710399</td></tr><tr><th>5</th><td>-0.662665</td><td>1.49314</td><td>0.485979</td></tr><tr><th>6</th><td>-0.689374</td><td>0.232254</td><td>-0.775774</td></tr><tr><th>7</th><td>0.260577</td><td>0.928602</td><td>0.00350043</td></tr><tr><th>8</th><td>1.31575</td><td>0.675672</td><td>-0.556424</td></tr><tr><th>9</th><td>1.75222</td><td>-0.645325</td><td>0.650483</td></tr><tr><th>10</th><td>0.048894</td><td>1.7881</td><td>0.184979</td></tr></tbody></table>"
      ],
      "text/latex": [
       "\\begin{tabular}{r|ccc}\n",
       "\t& x1 & x2 & x3\\\\\n",
       "\t\\hline\n",
       "\t& Float64 & Float64 & Float64\\\\\n",
       "\t\\hline\n",
       "\t1 & 1.63295 & 0.438967 & -0.0793272 \\\\\n",
       "\t2 & 0.468157 & -0.38645 & -0.171288 \\\\\n",
       "\t3 & -1.06414 & 0.867431 & -0.228558 \\\\\n",
       "\t4 & 0.859518 & 0.795225 & 0.710399 \\\\\n",
       "\t5 & -0.662665 & 1.49314 & 0.485979 \\\\\n",
       "\t6 & -0.689374 & 0.232254 & -0.775774 \\\\\n",
       "\t7 & 0.260577 & 0.928602 & 0.00350043 \\\\\n",
       "\t8 & 1.31575 & 0.675672 & -0.556424 \\\\\n",
       "\t9 & 1.75222 & -0.645325 & 0.650483 \\\\\n",
       "\t10 & 0.048894 & 1.7881 & 0.184979 \\\\\n",
       "\\end{tabular}\n"
      ],
      "text/plain": [
       "10×3 typename(DataFrame)\n",
       "│ Row │ x1        │ x2        │ x3         │\n",
       "│     │ \u001b[90mFloat64\u001b[39m   │ \u001b[90mFloat64\u001b[39m   │ \u001b[90mFloat64\u001b[39m    │\n",
       "├─────┼───────────┼───────────┼────────────┤\n",
       "│ 1   │ 1.63295   │ 0.438967  │ -0.0793272 │\n",
       "│ 2   │ 0.468157  │ -0.38645  │ -0.171288  │\n",
       "│ 3   │ -1.06414  │ 0.867431  │ -0.228558  │\n",
       "│ 4   │ 0.859518  │ 0.795225  │ 0.710399   │\n",
       "│ 5   │ -0.662665 │ 1.49314   │ 0.485979   │\n",
       "│ 6   │ -0.689374 │ 0.232254  │ -0.775774  │\n",
       "│ 7   │ 0.260577  │ 0.928602  │ 0.00350043 │\n",
       "│ 8   │ 1.31575   │ 0.675672  │ -0.556424  │\n",
       "│ 9   │ 1.75222   │ -0.645325 │ 0.650483   │\n",
       "│ 10  │ 0.048894  │ 1.7881    │ 0.184979   │"
      ]
     },
     "execution_count": 22,
     "metadata": {},
     "output_type": "execute_result"
    }
   ],
   "source": [
    "X1"
   ]
  },
  {
   "cell_type": "code",
   "execution_count": 23,
   "id": "85003257",
   "metadata": {},
   "outputs": [
    {
     "data": {
      "text/plain": [
       "3-element Vector{Symbol}:\n",
       " :x1\n",
       " :x2\n",
       " :x3"
      ]
     },
     "execution_count": 23,
     "metadata": {},
     "output_type": "execute_result"
    }
   ],
   "source": [
    "names(X1)"
   ]
  },
  {
   "cell_type": "code",
   "execution_count": 24,
   "id": "302ead57",
   "metadata": {},
   "outputs": [
    {
     "data": {
      "text/plain": [
       "(10, 3)"
      ]
     },
     "execution_count": 24,
     "metadata": {},
     "output_type": "execute_result"
    }
   ],
   "source": [
    "size(X1)"
   ]
  },
  {
   "cell_type": "code",
   "execution_count": 25,
   "id": "48e8bcf5",
   "metadata": {},
   "outputs": [
    {
     "data": {
      "text/plain": [
       "10"
      ]
     },
     "execution_count": 25,
     "metadata": {},
     "output_type": "execute_result"
    }
   ],
   "source": [
    "size(X1, 1)"
   ]
  },
  {
   "cell_type": "code",
   "execution_count": 26,
   "id": "60ebc4b8",
   "metadata": {},
   "outputs": [
    {
     "data": {
      "text/plain": [
       "3"
      ]
     },
     "execution_count": 26,
     "metadata": {},
     "output_type": "execute_result"
    }
   ],
   "source": [
    "size(X1, 2)"
   ]
  },
  {
   "cell_type": "code",
   "execution_count": 27,
   "id": "327e1852",
   "metadata": {},
   "outputs": [
    {
     "data": {
      "text/plain": [
       "10"
      ]
     },
     "execution_count": 27,
     "metadata": {},
     "output_type": "execute_result"
    }
   ],
   "source": [
    "nrow(X1)"
   ]
  },
  {
   "cell_type": "code",
   "execution_count": 28,
   "id": "23d25acd",
   "metadata": {},
   "outputs": [
    {
     "data": {
      "text/plain": [
       "3"
      ]
     },
     "execution_count": 28,
     "metadata": {},
     "output_type": "execute_result"
    }
   ],
   "source": [
    "ncol(X1)"
   ]
  },
  {
   "cell_type": "code",
   "execution_count": 29,
   "id": "310d6f7d",
   "metadata": {},
   "outputs": [
    {
     "data": {
      "text/html": [
       "<table class=\"data-frame\"><thead><tr><th></th><th>variable</th><th>mean</th><th>min</th><th>median</th><th>max</th><th>nunique</th><th>nmissing</th><th>eltype</th></tr><tr><th></th><th>Symbol</th><th>Float64</th><th>Float64</th><th>Float64</th><th>Float64</th><th>Nothing</th><th>Nothing</th><th>DataType</th></tr></thead><tbody><p>3 rows × 8 columns</p><tr><th>1</th><td>x1</td><td>0.39219</td><td>-1.06414</td><td>0.364367</td><td>1.75222</td><td></td><td></td><td>Float64</td></tr><tr><th>2</th><td>x2</td><td>0.618761</td><td>-0.645325</td><td>0.735448</td><td>1.7881</td><td></td><td></td><td>Float64</td></tr><tr><th>3</th><td>x3</td><td>0.0223969</td><td>-0.775774</td><td>-0.0379134</td><td>0.710399</td><td></td><td></td><td>Float64</td></tr></tbody></table>"
      ],
      "text/latex": [
       "\\begin{tabular}{r|cccccccc}\n",
       "\t& variable & mean & min & median & max & nunique & nmissing & eltype\\\\\n",
       "\t\\hline\n",
       "\t& Symbol & Float64 & Float64 & Float64 & Float64 & Nothing & Nothing & DataType\\\\\n",
       "\t\\hline\n",
       "\t1 & x1 & 0.39219 & -1.06414 & 0.364367 & 1.75222 &  &  & Float64 \\\\\n",
       "\t2 & x2 & 0.618761 & -0.645325 & 0.735448 & 1.7881 &  &  & Float64 \\\\\n",
       "\t3 & x3 & 0.0223969 & -0.775774 & -0.0379134 & 0.710399 &  &  & Float64 \\\\\n",
       "\\end{tabular}\n"
      ],
      "text/plain": [
       "3×8 typename(DataFrame). Omitted printing of 2 columns\n",
       "│ Row │ variable │ mean      │ min       │ median     │ max      │ nunique │\n",
       "│     │ \u001b[90mSymbol\u001b[39m   │ \u001b[90mFloat64\u001b[39m   │ \u001b[90mFloat64\u001b[39m   │ \u001b[90mFloat64\u001b[39m    │ \u001b[90mFloat64\u001b[39m  │ \u001b[90mNothing\u001b[39m │\n",
       "├─────┼──────────┼───────────┼───────────┼────────────┼──────────┼─────────┤\n",
       "│ 1   │ x1       │ 0.39219   │ -1.06414  │ 0.364367   │ 1.75222  │         │\n",
       "│ 2   │ x2       │ 0.618761  │ -0.645325 │ 0.735448   │ 1.7881   │         │\n",
       "│ 3   │ x3       │ 0.0223969 │ -0.775774 │ -0.0379134 │ 0.710399 │         │"
      ]
     },
     "execution_count": 29,
     "metadata": {},
     "output_type": "execute_result"
    }
   ],
   "source": [
    "describe(X1)"
   ]
  },
  {
   "cell_type": "code",
   "execution_count": 31,
   "id": "a3b6d0d2",
   "metadata": {},
   "outputs": [
    {
     "data": {
      "text/html": [
       "<table class=\"data-frame\"><thead><tr><th></th><th>variable</th><th>mean</th><th>min</th><th>median</th><th>max</th><th>nunique</th><th>nmissing</th><th>eltype</th></tr><tr><th></th><th>Symbol</th><th>Float64</th><th>Float64</th><th>Float64</th><th>Float64</th><th>Nothing</th><th>Nothing</th><th>DataType</th></tr></thead><tbody><p>2 rows × 8 columns</p><tr><th>1</th><td>x1</td><td>0.39219</td><td>-1.06414</td><td>0.364367</td><td>1.75222</td><td></td><td></td><td>Float64</td></tr><tr><th>2</th><td>x2</td><td>0.618761</td><td>-0.645325</td><td>0.735448</td><td>1.7881</td><td></td><td></td><td>Float64</td></tr></tbody></table>"
      ],
      "text/latex": [
       "\\begin{tabular}{r|cccccccc}\n",
       "\t& variable & mean & min & median & max & nunique & nmissing & eltype\\\\\n",
       "\t\\hline\n",
       "\t& Symbol & Float64 & Float64 & Float64 & Float64 & Nothing & Nothing & DataType\\\\\n",
       "\t\\hline\n",
       "\t1 & x1 & 0.39219 & -1.06414 & 0.364367 & 1.75222 &  &  & Float64 \\\\\n",
       "\t2 & x2 & 0.618761 & -0.645325 & 0.735448 & 1.7881 &  &  & Float64 \\\\\n",
       "\\end{tabular}\n"
      ],
      "text/plain": [
       "2×8 typename(DataFrame). Omitted printing of 2 columns\n",
       "│ Row │ variable │ mean     │ min       │ median   │ max     │ nunique │\n",
       "│     │ \u001b[90mSymbol\u001b[39m   │ \u001b[90mFloat64\u001b[39m  │ \u001b[90mFloat64\u001b[39m   │ \u001b[90mFloat64\u001b[39m  │ \u001b[90mFloat64\u001b[39m │ \u001b[90mNothing\u001b[39m │\n",
       "├─────┼──────────┼──────────┼───────────┼──────────┼─────────┼─────────┤\n",
       "│ 1   │ x1       │ 0.39219  │ -1.06414  │ 0.364367 │ 1.75222 │         │\n",
       "│ 2   │ x2       │ 0.618761 │ -0.645325 │ 0.735448 │ 1.7881  │         │"
      ]
     },
     "execution_count": 31,
     "metadata": {},
     "output_type": "execute_result"
    }
   ],
   "source": [
    "describe(X1, cols=1:2)"
   ]
  },
  {
   "cell_type": "code",
   "execution_count": 32,
   "id": "b71c5232",
   "metadata": {},
   "outputs": [
    {
     "data": {
      "text/plain": [
       "3-element Vector{DataType}:\n",
       " Float64\n",
       " Float64\n",
       " Float64"
      ]
     },
     "execution_count": 32,
     "metadata": {},
     "output_type": "execute_result"
    }
   ],
   "source": [
    "eltype.(eachcol(X1))"
   ]
  },
  {
   "cell_type": "code",
   "execution_count": 33,
   "id": "16e15180",
   "metadata": {},
   "outputs": [
    {
     "data": {
      "text/html": [
       "<p>DataFrameRow (3 columns)</p><table class=\"data-frame\"><thead><tr><th></th><th>x1</th><th>x2</th><th>x3</th></tr><tr><th></th><th>Float64</th><th>Float64</th><th>Float64</th></tr></thead><tbody><tr><th>1</th><td>1.63295</td><td>0.438967</td><td>-0.0793272</td></tr></tbody></table>"
      ],
      "text/latex": [
       "\\begin{tabular}{r|ccc}\n",
       "\t& x1 & x2 & x3\\\\\n",
       "\t\\hline\n",
       "\t& Float64 & Float64 & Float64\\\\\n",
       "\t\\hline\n",
       "\t1 & 1.63295 & 0.438967 & -0.0793272 \\\\\n",
       "\\end{tabular}\n"
      ],
      "text/plain": [
       "DataFrameRow\n",
       "│ Row │ x1      │ x2       │ x3         │\n",
       "│     │ \u001b[90mFloat64\u001b[39m │ \u001b[90mFloat64\u001b[39m  │ \u001b[90mFloat64\u001b[39m    │\n",
       "├─────┼─────────┼──────────┼────────────┤\n",
       "│ 1   │ 1.63295 │ 0.438967 │ -0.0793272 │"
      ]
     },
     "execution_count": 33,
     "metadata": {},
     "output_type": "execute_result"
    }
   ],
   "source": [
    "first(X1)"
   ]
  },
  {
   "cell_type": "code",
   "execution_count": 34,
   "id": "b4cdf9d6",
   "metadata": {},
   "outputs": [
    {
     "data": {
      "text/html": [
       "<table class=\"data-frame\"><thead><tr><th></th><th>x1</th><th>x2</th><th>x3</th></tr><tr><th></th><th>Float64</th><th>Float64</th><th>Float64</th></tr></thead><tbody><p>5 rows × 3 columns</p><tr><th>1</th><td>1.63295</td><td>0.438967</td><td>-0.0793272</td></tr><tr><th>2</th><td>0.468157</td><td>-0.38645</td><td>-0.171288</td></tr><tr><th>3</th><td>-1.06414</td><td>0.867431</td><td>-0.228558</td></tr><tr><th>4</th><td>0.859518</td><td>0.795225</td><td>0.710399</td></tr><tr><th>5</th><td>-0.662665</td><td>1.49314</td><td>0.485979</td></tr></tbody></table>"
      ],
      "text/latex": [
       "\\begin{tabular}{r|ccc}\n",
       "\t& x1 & x2 & x3\\\\\n",
       "\t\\hline\n",
       "\t& Float64 & Float64 & Float64\\\\\n",
       "\t\\hline\n",
       "\t1 & 1.63295 & 0.438967 & -0.0793272 \\\\\n",
       "\t2 & 0.468157 & -0.38645 & -0.171288 \\\\\n",
       "\t3 & -1.06414 & 0.867431 & -0.228558 \\\\\n",
       "\t4 & 0.859518 & 0.795225 & 0.710399 \\\\\n",
       "\t5 & -0.662665 & 1.49314 & 0.485979 \\\\\n",
       "\\end{tabular}\n"
      ],
      "text/plain": [
       "5×3 typename(DataFrame)\n",
       "│ Row │ x1        │ x2       │ x3         │\n",
       "│     │ \u001b[90mFloat64\u001b[39m   │ \u001b[90mFloat64\u001b[39m  │ \u001b[90mFloat64\u001b[39m    │\n",
       "├─────┼───────────┼──────────┼────────────┤\n",
       "│ 1   │ 1.63295   │ 0.438967 │ -0.0793272 │\n",
       "│ 2   │ 0.468157  │ -0.38645 │ -0.171288  │\n",
       "│ 3   │ -1.06414  │ 0.867431 │ -0.228558  │\n",
       "│ 4   │ 0.859518  │ 0.795225 │ 0.710399   │\n",
       "│ 5   │ -0.662665 │ 1.49314  │ 0.485979   │"
      ]
     },
     "execution_count": 34,
     "metadata": {},
     "output_type": "execute_result"
    }
   ],
   "source": [
    "first(X1, 5)"
   ]
  },
  {
   "cell_type": "code",
   "execution_count": 35,
   "id": "485f47a5",
   "metadata": {},
   "outputs": [
    {
     "data": {
      "text/html": [
       "<p>DataFrameRow (3 columns)</p><table class=\"data-frame\"><thead><tr><th></th><th>x1</th><th>x2</th><th>x3</th></tr><tr><th></th><th>Float64</th><th>Float64</th><th>Float64</th></tr></thead><tbody><tr><th>10</th><td>0.048894</td><td>1.7881</td><td>0.184979</td></tr></tbody></table>"
      ],
      "text/latex": [
       "\\begin{tabular}{r|ccc}\n",
       "\t& x1 & x2 & x3\\\\\n",
       "\t\\hline\n",
       "\t& Float64 & Float64 & Float64\\\\\n",
       "\t\\hline\n",
       "\t10 & 0.048894 & 1.7881 & 0.184979 \\\\\n",
       "\\end{tabular}\n"
      ],
      "text/plain": [
       "DataFrameRow\n",
       "│ Row │ x1       │ x2      │ x3       │\n",
       "│     │ \u001b[90mFloat64\u001b[39m  │ \u001b[90mFloat64\u001b[39m │ \u001b[90mFloat64\u001b[39m  │\n",
       "├─────┼──────────┼─────────┼──────────┤\n",
       "│ 10  │ 0.048894 │ 1.7881  │ 0.184979 │"
      ]
     },
     "execution_count": 35,
     "metadata": {},
     "output_type": "execute_result"
    }
   ],
   "source": [
    "last(X1)"
   ]
  },
  {
   "cell_type": "code",
   "execution_count": 36,
   "id": "ff3fafbb",
   "metadata": {},
   "outputs": [
    {
     "data": {
      "text/html": [
       "<table class=\"data-frame\"><thead><tr><th></th><th>x1</th><th>x2</th><th>x3</th></tr><tr><th></th><th>Float64</th><th>Float64</th><th>Float64</th></tr></thead><tbody><p>2 rows × 3 columns</p><tr><th>1</th><td>1.75222</td><td>-0.645325</td><td>0.650483</td></tr><tr><th>2</th><td>0.048894</td><td>1.7881</td><td>0.184979</td></tr></tbody></table>"
      ],
      "text/latex": [
       "\\begin{tabular}{r|ccc}\n",
       "\t& x1 & x2 & x3\\\\\n",
       "\t\\hline\n",
       "\t& Float64 & Float64 & Float64\\\\\n",
       "\t\\hline\n",
       "\t1 & 1.75222 & -0.645325 & 0.650483 \\\\\n",
       "\t2 & 0.048894 & 1.7881 & 0.184979 \\\\\n",
       "\\end{tabular}\n"
      ],
      "text/plain": [
       "2×3 typename(DataFrame)\n",
       "│ Row │ x1       │ x2        │ x3       │\n",
       "│     │ \u001b[90mFloat64\u001b[39m  │ \u001b[90mFloat64\u001b[39m   │ \u001b[90mFloat64\u001b[39m  │\n",
       "├─────┼──────────┼───────────┼──────────┤\n",
       "│ 1   │ 1.75222  │ -0.645325 │ 0.650483 │\n",
       "│ 2   │ 0.048894 │ 1.7881    │ 0.184979 │"
      ]
     },
     "execution_count": 36,
     "metadata": {},
     "output_type": "execute_result"
    }
   ],
   "source": [
    "last(X1, 2)"
   ]
  },
  {
   "cell_type": "code",
   "execution_count": 37,
   "id": "8dd3626e",
   "metadata": {},
   "outputs": [
    {
     "data": {
      "text/html": [
       "<table class=\"data-frame\"><thead><tr><th></th><th>x1</th><th>x2</th><th>x3</th></tr><tr><th></th><th>Float64</th><th>Float64</th><th>Float64</th></tr></thead><tbody><p>10 rows × 3 columns</p><tr><th>1</th><td>1.63295</td><td>0.438967</td><td>-0.0793272</td></tr><tr><th>2</th><td>0.468157</td><td>-0.38645</td><td>-0.171288</td></tr><tr><th>3</th><td>-1.06414</td><td>0.867431</td><td>-0.228558</td></tr><tr><th>4</th><td>0.859518</td><td>0.795225</td><td>0.710399</td></tr><tr><th>5</th><td>-0.662665</td><td>1.49314</td><td>0.485979</td></tr><tr><th>6</th><td>-0.689374</td><td>0.232254</td><td>-0.775774</td></tr><tr><th>7</th><td>0.260577</td><td>0.928602</td><td>0.00350043</td></tr><tr><th>8</th><td>1.31575</td><td>0.675672</td><td>-0.556424</td></tr><tr><th>9</th><td>1.75222</td><td>-0.645325</td><td>0.650483</td></tr><tr><th>10</th><td>0.048894</td><td>1.7881</td><td>0.184979</td></tr></tbody></table>"
      ],
      "text/latex": [
       "\\begin{tabular}{r|ccc}\n",
       "\t& x1 & x2 & x3\\\\\n",
       "\t\\hline\n",
       "\t& Float64 & Float64 & Float64\\\\\n",
       "\t\\hline\n",
       "\t1 & 1.63295 & 0.438967 & -0.0793272 \\\\\n",
       "\t2 & 0.468157 & -0.38645 & -0.171288 \\\\\n",
       "\t3 & -1.06414 & 0.867431 & -0.228558 \\\\\n",
       "\t4 & 0.859518 & 0.795225 & 0.710399 \\\\\n",
       "\t5 & -0.662665 & 1.49314 & 0.485979 \\\\\n",
       "\t6 & -0.689374 & 0.232254 & -0.775774 \\\\\n",
       "\t7 & 0.260577 & 0.928602 & 0.00350043 \\\\\n",
       "\t8 & 1.31575 & 0.675672 & -0.556424 \\\\\n",
       "\t9 & 1.75222 & -0.645325 & 0.650483 \\\\\n",
       "\t10 & 0.048894 & 1.7881 & 0.184979 \\\\\n",
       "\\end{tabular}\n"
      ],
      "text/plain": [
       "10×3 typename(DataFrame)\n",
       "│ Row │ x1        │ x2        │ x3         │\n",
       "│     │ \u001b[90mFloat64\u001b[39m   │ \u001b[90mFloat64\u001b[39m   │ \u001b[90mFloat64\u001b[39m    │\n",
       "├─────┼───────────┼───────────┼────────────┤\n",
       "│ 1   │ 1.63295   │ 0.438967  │ -0.0793272 │\n",
       "│ 2   │ 0.468157  │ -0.38645  │ -0.171288  │\n",
       "│ 3   │ -1.06414  │ 0.867431  │ -0.228558  │\n",
       "│ 4   │ 0.859518  │ 0.795225  │ 0.710399   │\n",
       "│ 5   │ -0.662665 │ 1.49314   │ 0.485979   │\n",
       "│ 6   │ -0.689374 │ 0.232254  │ -0.775774  │\n",
       "│ 7   │ 0.260577  │ 0.928602  │ 0.00350043 │\n",
       "│ 8   │ 1.31575   │ 0.675672  │ -0.556424  │\n",
       "│ 9   │ 1.75222   │ -0.645325 │ 0.650483   │\n",
       "│ 10  │ 0.048894  │ 1.7881    │ 0.184979   │"
      ]
     },
     "execution_count": 37,
     "metadata": {},
     "output_type": "execute_result"
    }
   ],
   "source": [
    "X1"
   ]
  },
  {
   "cell_type": "code",
   "execution_count": 38,
   "id": "dd3268e9",
   "metadata": {},
   "outputs": [
    {
     "data": {
      "text/html": [
       "<table class=\"data-frame\"><thead><tr><th></th><th>x1</th><th>x2</th></tr><tr><th></th><th>Float64</th><th>Float64</th></tr></thead><tbody><p>7 rows × 2 columns</p><tr><th>1</th><td>1.63295</td><td>0.438967</td></tr><tr><th>2</th><td>0.468157</td><td>-0.38645</td></tr><tr><th>3</th><td>-1.06414</td><td>0.867431</td></tr><tr><th>4</th><td>0.859518</td><td>0.795225</td></tr><tr><th>5</th><td>-0.662665</td><td>1.49314</td></tr><tr><th>6</th><td>-0.689374</td><td>0.232254</td></tr><tr><th>7</th><td>0.260577</td><td>0.928602</td></tr></tbody></table>"
      ],
      "text/latex": [
       "\\begin{tabular}{r|cc}\n",
       "\t& x1 & x2\\\\\n",
       "\t\\hline\n",
       "\t& Float64 & Float64\\\\\n",
       "\t\\hline\n",
       "\t1 & 1.63295 & 0.438967 \\\\\n",
       "\t2 & 0.468157 & -0.38645 \\\\\n",
       "\t3 & -1.06414 & 0.867431 \\\\\n",
       "\t4 & 0.859518 & 0.795225 \\\\\n",
       "\t5 & -0.662665 & 1.49314 \\\\\n",
       "\t6 & -0.689374 & 0.232254 \\\\\n",
       "\t7 & 0.260577 & 0.928602 \\\\\n",
       "\\end{tabular}\n"
      ],
      "text/plain": [
       "7×2 typename(DataFrame)\n",
       "│ Row │ x1        │ x2       │\n",
       "│     │ \u001b[90mFloat64\u001b[39m   │ \u001b[90mFloat64\u001b[39m  │\n",
       "├─────┼───────────┼──────────┤\n",
       "│ 1   │ 1.63295   │ 0.438967 │\n",
       "│ 2   │ 0.468157  │ -0.38645 │\n",
       "│ 3   │ -1.06414  │ 0.867431 │\n",
       "│ 4   │ 0.859518  │ 0.795225 │\n",
       "│ 5   │ -0.662665 │ 1.49314  │\n",
       "│ 6   │ -0.689374 │ 0.232254 │\n",
       "│ 7   │ 0.260577  │ 0.928602 │"
      ]
     },
     "execution_count": 38,
     "metadata": {},
     "output_type": "execute_result"
    }
   ],
   "source": [
    "#X1[ Row, Column ]\n",
    "X1[1:7, 1:2]"
   ]
  },
  {
   "cell_type": "code",
   "execution_count": 39,
   "id": "c890e83b",
   "metadata": {},
   "outputs": [
    {
     "data": {
      "text/html": [
       "<table class=\"data-frame\"><thead><tr><th></th><th>x1</th><th>x2</th><th>x3</th></tr><tr><th></th><th>Float64</th><th>Float64</th><th>Float64</th></tr></thead><tbody><p>7 rows × 3 columns</p><tr><th>1</th><td>1.63295</td><td>0.438967</td><td>-0.0793272</td></tr><tr><th>2</th><td>0.468157</td><td>-0.38645</td><td>-0.171288</td></tr><tr><th>3</th><td>-1.06414</td><td>0.867431</td><td>-0.228558</td></tr><tr><th>4</th><td>0.859518</td><td>0.795225</td><td>0.710399</td></tr><tr><th>5</th><td>-0.662665</td><td>1.49314</td><td>0.485979</td></tr><tr><th>6</th><td>-0.689374</td><td>0.232254</td><td>-0.775774</td></tr><tr><th>7</th><td>0.260577</td><td>0.928602</td><td>0.00350043</td></tr></tbody></table>"
      ],
      "text/latex": [
       "\\begin{tabular}{r|ccc}\n",
       "\t& x1 & x2 & x3\\\\\n",
       "\t\\hline\n",
       "\t& Float64 & Float64 & Float64\\\\\n",
       "\t\\hline\n",
       "\t1 & 1.63295 & 0.438967 & -0.0793272 \\\\\n",
       "\t2 & 0.468157 & -0.38645 & -0.171288 \\\\\n",
       "\t3 & -1.06414 & 0.867431 & -0.228558 \\\\\n",
       "\t4 & 0.859518 & 0.795225 & 0.710399 \\\\\n",
       "\t5 & -0.662665 & 1.49314 & 0.485979 \\\\\n",
       "\t6 & -0.689374 & 0.232254 & -0.775774 \\\\\n",
       "\t7 & 0.260577 & 0.928602 & 0.00350043 \\\\\n",
       "\\end{tabular}\n"
      ],
      "text/plain": [
       "7×3 typename(DataFrame)\n",
       "│ Row │ x1        │ x2       │ x3         │\n",
       "│     │ \u001b[90mFloat64\u001b[39m   │ \u001b[90mFloat64\u001b[39m  │ \u001b[90mFloat64\u001b[39m    │\n",
       "├─────┼───────────┼──────────┼────────────┤\n",
       "│ 1   │ 1.63295   │ 0.438967 │ -0.0793272 │\n",
       "│ 2   │ 0.468157  │ -0.38645 │ -0.171288  │\n",
       "│ 3   │ -1.06414  │ 0.867431 │ -0.228558  │\n",
       "│ 4   │ 0.859518  │ 0.795225 │ 0.710399   │\n",
       "│ 5   │ -0.662665 │ 1.49314  │ 0.485979   │\n",
       "│ 6   │ -0.689374 │ 0.232254 │ -0.775774  │\n",
       "│ 7   │ 0.260577  │ 0.928602 │ 0.00350043 │"
      ]
     },
     "execution_count": 39,
     "metadata": {},
     "output_type": "execute_result"
    }
   ],
   "source": [
    "X1[1:7,:]"
   ]
  },
  {
   "cell_type": "code",
   "execution_count": 40,
   "id": "a7971142",
   "metadata": {},
   "outputs": [
    {
     "data": {
      "text/plain": [
       "10-element Vector{Float64}:\n",
       " -0.07932724112972733\n",
       " -0.1712881155911032\n",
       " -0.22855770628368077\n",
       "  0.7103985459204429\n",
       "  0.48597851809843867\n",
       " -0.7757737110124449\n",
       "  0.0035004329499658607\n",
       " -0.5564236212520725\n",
       "  0.6504833030789151\n",
       "  0.18497863920278595"
      ]
     },
     "execution_count": 40,
     "metadata": {},
     "output_type": "execute_result"
    }
   ],
   "source": [
    "X1[:, 3]"
   ]
  },
  {
   "cell_type": "code",
   "execution_count": 42,
   "id": "d302c9e2",
   "metadata": {},
   "outputs": [
    {
     "data": {
      "text/html": [
       "<table class=\"data-frame\"><thead><tr><th></th><th>x1</th><th>x2</th></tr><tr><th></th><th>Float64</th><th>Float64</th></tr></thead><tbody><p>10 rows × 2 columns</p><tr><th>1</th><td>1.63295</td><td>0.438967</td></tr><tr><th>2</th><td>0.468157</td><td>-0.38645</td></tr><tr><th>3</th><td>-1.06414</td><td>0.867431</td></tr><tr><th>4</th><td>0.859518</td><td>0.795225</td></tr><tr><th>5</th><td>-0.662665</td><td>1.49314</td></tr><tr><th>6</th><td>-0.689374</td><td>0.232254</td></tr><tr><th>7</th><td>0.260577</td><td>0.928602</td></tr><tr><th>8</th><td>1.31575</td><td>0.675672</td></tr><tr><th>9</th><td>1.75222</td><td>-0.645325</td></tr><tr><th>10</th><td>0.048894</td><td>1.7881</td></tr></tbody></table>"
      ],
      "text/latex": [
       "\\begin{tabular}{r|cc}\n",
       "\t& x1 & x2\\\\\n",
       "\t\\hline\n",
       "\t& Float64 & Float64\\\\\n",
       "\t\\hline\n",
       "\t1 & 1.63295 & 0.438967 \\\\\n",
       "\t2 & 0.468157 & -0.38645 \\\\\n",
       "\t3 & -1.06414 & 0.867431 \\\\\n",
       "\t4 & 0.859518 & 0.795225 \\\\\n",
       "\t5 & -0.662665 & 1.49314 \\\\\n",
       "\t6 & -0.689374 & 0.232254 \\\\\n",
       "\t7 & 0.260577 & 0.928602 \\\\\n",
       "\t8 & 1.31575 & 0.675672 \\\\\n",
       "\t9 & 1.75222 & -0.645325 \\\\\n",
       "\t10 & 0.048894 & 1.7881 \\\\\n",
       "\\end{tabular}\n"
      ],
      "text/plain": [
       "10×2 typename(DataFrame)\n",
       "│ Row │ x1        │ x2        │\n",
       "│     │ \u001b[90mFloat64\u001b[39m   │ \u001b[90mFloat64\u001b[39m   │\n",
       "├─────┼───────────┼───────────┤\n",
       "│ 1   │ 1.63295   │ 0.438967  │\n",
       "│ 2   │ 0.468157  │ -0.38645  │\n",
       "│ 3   │ -1.06414  │ 0.867431  │\n",
       "│ 4   │ 0.859518  │ 0.795225  │\n",
       "│ 5   │ -0.662665 │ 1.49314   │\n",
       "│ 6   │ -0.689374 │ 0.232254  │\n",
       "│ 7   │ 0.260577  │ 0.928602  │\n",
       "│ 8   │ 1.31575   │ 0.675672  │\n",
       "│ 9   │ 1.75222   │ -0.645325 │\n",
       "│ 10  │ 0.048894  │ 1.7881    │"
      ]
     },
     "execution_count": 42,
     "metadata": {},
     "output_type": "execute_result"
    }
   ],
   "source": [
    "X1[: , Between(:x1,:x2)]"
   ]
  },
  {
   "cell_type": "code",
   "execution_count": 43,
   "id": "77e1ca1f",
   "metadata": {},
   "outputs": [
    {
     "data": {
      "text/plain": [
       "10-element Vector{Float64}:\n",
       " 0.7660471331876322\n",
       " 0.8179529873344109\n",
       " 0.025535973392208255\n",
       " 0.48150811756940604\n",
       " 0.9090209627347376\n",
       " 0.10243694152976479\n",
       " 0.04063034291647116\n",
       " 0.11660306779579788\n",
       " 0.3371697981141526\n",
       " 0.22659866824774233"
      ]
     },
     "execution_count": 43,
     "metadata": {},
     "output_type": "execute_result"
    }
   ],
   "source": [
    "X1.x4 = rand(10)"
   ]
  },
  {
   "cell_type": "code",
   "execution_count": 46,
   "id": "d8cb8ef8",
   "metadata": {},
   "outputs": [
    {
     "data": {
      "text/html": [
       "<table class=\"data-frame\"><thead><tr><th></th><th>x1</th><th>x2</th><th>x3</th><th>x4</th></tr><tr><th></th><th>Float64</th><th>Float64</th><th>Float64</th><th>Float64</th></tr></thead><tbody><p>10 rows × 4 columns</p><tr><th>1</th><td>1.63295</td><td>0.438967</td><td>-0.0793272</td><td>0.766047</td></tr><tr><th>2</th><td>0.468157</td><td>-0.38645</td><td>-0.171288</td><td>0.817953</td></tr><tr><th>3</th><td>-1.06414</td><td>0.867431</td><td>-0.228558</td><td>0.025536</td></tr><tr><th>4</th><td>0.859518</td><td>0.795225</td><td>0.710399</td><td>0.481508</td></tr><tr><th>5</th><td>-0.662665</td><td>1.49314</td><td>0.485979</td><td>0.909021</td></tr><tr><th>6</th><td>-0.689374</td><td>0.232254</td><td>-0.775774</td><td>0.102437</td></tr><tr><th>7</th><td>0.260577</td><td>0.928602</td><td>0.00350043</td><td>0.0406303</td></tr><tr><th>8</th><td>1.31575</td><td>0.675672</td><td>-0.556424</td><td>0.116603</td></tr><tr><th>9</th><td>1.75222</td><td>-0.645325</td><td>0.650483</td><td>0.33717</td></tr><tr><th>10</th><td>0.048894</td><td>1.7881</td><td>0.184979</td><td>0.226599</td></tr></tbody></table>"
      ],
      "text/latex": [
       "\\begin{tabular}{r|cccc}\n",
       "\t& x1 & x2 & x3 & x4\\\\\n",
       "\t\\hline\n",
       "\t& Float64 & Float64 & Float64 & Float64\\\\\n",
       "\t\\hline\n",
       "\t1 & 1.63295 & 0.438967 & -0.0793272 & 0.766047 \\\\\n",
       "\t2 & 0.468157 & -0.38645 & -0.171288 & 0.817953 \\\\\n",
       "\t3 & -1.06414 & 0.867431 & -0.228558 & 0.025536 \\\\\n",
       "\t4 & 0.859518 & 0.795225 & 0.710399 & 0.481508 \\\\\n",
       "\t5 & -0.662665 & 1.49314 & 0.485979 & 0.909021 \\\\\n",
       "\t6 & -0.689374 & 0.232254 & -0.775774 & 0.102437 \\\\\n",
       "\t7 & 0.260577 & 0.928602 & 0.00350043 & 0.0406303 \\\\\n",
       "\t8 & 1.31575 & 0.675672 & -0.556424 & 0.116603 \\\\\n",
       "\t9 & 1.75222 & -0.645325 & 0.650483 & 0.33717 \\\\\n",
       "\t10 & 0.048894 & 1.7881 & 0.184979 & 0.226599 \\\\\n",
       "\\end{tabular}\n"
      ],
      "text/plain": [
       "10×4 typename(DataFrame)\n",
       "│ Row │ x1        │ x2        │ x3         │ x4        │\n",
       "│     │ \u001b[90mFloat64\u001b[39m   │ \u001b[90mFloat64\u001b[39m   │ \u001b[90mFloat64\u001b[39m    │ \u001b[90mFloat64\u001b[39m   │\n",
       "├─────┼───────────┼───────────┼────────────┼───────────┤\n",
       "│ 1   │ 1.63295   │ 0.438967  │ -0.0793272 │ 0.766047  │\n",
       "│ 2   │ 0.468157  │ -0.38645  │ -0.171288  │ 0.817953  │\n",
       "│ 3   │ -1.06414  │ 0.867431  │ -0.228558  │ 0.025536  │\n",
       "│ 4   │ 0.859518  │ 0.795225  │ 0.710399   │ 0.481508  │\n",
       "│ 5   │ -0.662665 │ 1.49314   │ 0.485979   │ 0.909021  │\n",
       "│ 6   │ -0.689374 │ 0.232254  │ -0.775774  │ 0.102437  │\n",
       "│ 7   │ 0.260577  │ 0.928602  │ 0.00350043 │ 0.0406303 │\n",
       "│ 8   │ 1.31575   │ 0.675672  │ -0.556424  │ 0.116603  │\n",
       "│ 9   │ 1.75222   │ -0.645325 │ 0.650483   │ 0.33717   │\n",
       "│ 10  │ 0.048894  │ 1.7881    │ 0.184979   │ 0.226599  │"
      ]
     },
     "execution_count": 46,
     "metadata": {},
     "output_type": "execute_result"
    }
   ],
   "source": [
    "X1"
   ]
  },
  {
   "cell_type": "markdown",
   "id": "c7cec875",
   "metadata": {},
   "source": [
    "## Reading and Writing DataFrames"
   ]
  },
  {
   "cell_type": "code",
   "execution_count": 47,
   "id": "5fb67ae9",
   "metadata": {},
   "outputs": [],
   "source": [
    "using DataFrames"
   ]
  },
  {
   "cell_type": "code",
   "execution_count": 48,
   "id": "a15257eb",
   "metadata": {},
   "outputs": [
    {
     "data": {
      "text/html": [
       "<table class=\"data-frame\"><thead><tr><th></th><th>A</th><th>B</th><th>C</th></tr><tr><th></th><th>Bool</th><th>Int64</th><th>Char</th></tr></thead><tbody><p>3 rows × 3 columns</p><tr><th>1</th><td>1</td><td>23</td><td>'a'</td></tr><tr><th>2</th><td>0</td><td>45</td><td>'b'</td></tr><tr><th>3</th><td>1</td><td>67</td><td>'c'</td></tr></tbody></table>"
      ],
      "text/latex": [
       "\\begin{tabular}{r|ccc}\n",
       "\t& A & B & C\\\\\n",
       "\t\\hline\n",
       "\t& Bool & Int64 & Char\\\\\n",
       "\t\\hline\n",
       "\t1 & 1 & 23 & 'a' \\\\\n",
       "\t2 & 0 & 45 & 'b' \\\\\n",
       "\t3 & 1 & 67 & 'c' \\\\\n",
       "\\end{tabular}\n"
      ],
      "text/plain": [
       "3×3 typename(DataFrame)\n",
       "│ Row │ A    │ B     │ C    │\n",
       "│     │ \u001b[90mBool\u001b[39m │ \u001b[90mInt64\u001b[39m │ \u001b[90mChar\u001b[39m │\n",
       "├─────┼──────┼───────┼──────┤\n",
       "│ 1   │ 1    │ 23    │ 'a'  │\n",
       "│ 2   │ 0    │ 45    │ 'b'  │\n",
       "│ 3   │ 1    │ 67    │ 'c'  │"
      ]
     },
     "execution_count": 48,
     "metadata": {},
     "output_type": "execute_result"
    }
   ],
   "source": [
    "df =  DataFrame(A=[true, false, true], B=[23,45,67], C =['a','b','c'])"
   ]
  },
  {
   "cell_type": "code",
   "execution_count": 49,
   "id": "581700ab",
   "metadata": {},
   "outputs": [],
   "source": [
    "Pkg.add(\"CSV\")"
   ]
  },
  {
   "cell_type": "code",
   "execution_count": 64,
   "id": "329d22b4",
   "metadata": {},
   "outputs": [],
   "source": [
    "using CSV"
   ]
  },
  {
   "cell_type": "code",
   "execution_count": 65,
   "id": "20f82a30",
   "metadata": {},
   "outputs": [
    {
     "data": {
      "text/plain": [
       "\"df.csv\""
      ]
     },
     "execution_count": 65,
     "metadata": {},
     "output_type": "execute_result"
    }
   ],
   "source": [
    "new_df = CSV.write(\"df.csv\", df)"
   ]
  },
  {
   "cell_type": "code",
   "execution_count": 70,
   "id": "dc7c22c3",
   "metadata": {},
   "outputs": [
    {
     "data": {
      "text/html": [
       "<table class=\"data-frame\"><thead><tr><th></th><th>A</th><th>B</th><th>C</th></tr><tr><th></th><th>Bool</th><th>Int64</th><th>String</th></tr></thead><tbody><p>3 rows × 3 columns</p><tr><th>1</th><td>1</td><td>23</td><td>a</td></tr><tr><th>2</th><td>0</td><td>45</td><td>b</td></tr><tr><th>3</th><td>1</td><td>67</td><td>c</td></tr></tbody></table>"
      ],
      "text/latex": [
       "\\begin{tabular}{r|ccc}\n",
       "\t& A & B & C\\\\\n",
       "\t\\hline\n",
       "\t& Bool & Int64 & String\\\\\n",
       "\t\\hline\n",
       "\t1 & 1 & 23 & a \\\\\n",
       "\t2 & 0 & 45 & b \\\\\n",
       "\t3 & 1 & 67 & c \\\\\n",
       "\\end{tabular}\n"
      ],
      "text/plain": [
       "3×3 typename(DataFrame)\n",
       "│ Row │ A    │ B     │ C      │\n",
       "│     │ \u001b[90mBool\u001b[39m │ \u001b[90mInt64\u001b[39m │ \u001b[90mString\u001b[39m │\n",
       "├─────┼──────┼───────┼────────┤\n",
       "│ 1   │ 1    │ 23    │ a      │\n",
       "│ 2   │ 0    │ 45    │ b      │\n",
       "│ 3   │ 1    │ 67    │ c      │"
      ]
     },
     "execution_count": 70,
     "metadata": {},
     "output_type": "execute_result"
    }
   ],
   "source": [
    "df_new = CSV.read(\"df.csv\",DataFrame)"
   ]
  },
  {
   "cell_type": "code",
   "execution_count": 57,
   "id": "ac62672c",
   "metadata": {},
   "outputs": [],
   "source": [
    "Pkg.add(\"Serialization\")"
   ]
  },
  {
   "cell_type": "code",
   "execution_count": 71,
   "id": "671b0cf6",
   "metadata": {},
   "outputs": [],
   "source": [
    "using Serialization\n",
    "open(\"df.bin\", \"w\") do io\n",
    "    serialize(io, df)\n",
    "end"
   ]
  },
  {
   "cell_type": "code",
   "execution_count": 72,
   "id": "6b77fd2e",
   "metadata": {},
   "outputs": [
    {
     "data": {
      "text/html": [
       "<table class=\"data-frame\"><thead><tr><th></th><th>A</th><th>B</th><th>C</th></tr><tr><th></th><th>Bool</th><th>Int64</th><th>String</th></tr></thead><tbody><p>3 rows × 3 columns</p><tr><th>1</th><td>1</td><td>23</td><td>a</td></tr><tr><th>2</th><td>0</td><td>45</td><td>b</td></tr><tr><th>3</th><td>1</td><td>67</td><td>c</td></tr></tbody></table>"
      ],
      "text/latex": [
       "\\begin{tabular}{r|ccc}\n",
       "\t& A & B & C\\\\\n",
       "\t\\hline\n",
       "\t& Bool & Int64 & String\\\\\n",
       "\t\\hline\n",
       "\t1 & 1 & 23 & a \\\\\n",
       "\t2 & 0 & 45 & b \\\\\n",
       "\t3 & 1 & 67 & c \\\\\n",
       "\\end{tabular}\n"
      ],
      "text/plain": [
       "3×3 typename(DataFrame)\n",
       "│ Row │ A    │ B     │ C      │\n",
       "│     │ \u001b[90mBool\u001b[39m │ \u001b[90mInt64\u001b[39m │ \u001b[90mString\u001b[39m │\n",
       "├─────┼──────┼───────┼────────┤\n",
       "│ 1   │ 1    │ 23    │ a      │\n",
       "│ 2   │ 0    │ 45    │ b      │\n",
       "│ 3   │ 1    │ 67    │ c      │"
      ]
     },
     "execution_count": 72,
     "metadata": {},
     "output_type": "execute_result"
    }
   ],
   "source": [
    "df_new"
   ]
  },
  {
   "cell_type": "code",
   "execution_count": 73,
   "id": "dab0a472",
   "metadata": {},
   "outputs": [
    {
     "data": {
      "text/html": [
       "<table class=\"data-frame\"><thead><tr><th></th><th>A</th><th>B</th><th>C</th></tr><tr><th></th><th>Bool</th><th>Int64</th><th>Char</th></tr></thead><tbody><p>3 rows × 3 columns</p><tr><th>1</th><td>1</td><td>23</td><td>'a'</td></tr><tr><th>2</th><td>0</td><td>45</td><td>'b'</td></tr><tr><th>3</th><td>1</td><td>67</td><td>'c'</td></tr></tbody></table>"
      ],
      "text/latex": [
       "\\begin{tabular}{r|ccc}\n",
       "\t& A & B & C\\\\\n",
       "\t\\hline\n",
       "\t& Bool & Int64 & Char\\\\\n",
       "\t\\hline\n",
       "\t1 & 1 & 23 & 'a' \\\\\n",
       "\t2 & 0 & 45 & 'b' \\\\\n",
       "\t3 & 1 & 67 & 'c' \\\\\n",
       "\\end{tabular}\n"
      ],
      "text/plain": [
       "3×3 typename(DataFrame)\n",
       "│ Row │ A    │ B     │ C    │\n",
       "│     │ \u001b[90mBool\u001b[39m │ \u001b[90mInt64\u001b[39m │ \u001b[90mChar\u001b[39m │\n",
       "├─────┼──────┼───────┼──────┤\n",
       "│ 1   │ 1    │ 23    │ 'a'  │\n",
       "│ 2   │ 0    │ 45    │ 'b'  │\n",
       "│ 3   │ 1    │ 67    │ 'c'  │"
      ]
     },
     "execution_count": 73,
     "metadata": {},
     "output_type": "execute_result"
    }
   ],
   "source": [
    "open(deserialize, \"df.bin\")"
   ]
  },
  {
   "cell_type": "code",
   "execution_count": 74,
   "id": "eb3b4967",
   "metadata": {},
   "outputs": [],
   "source": [
    "Pkg.add(\"JSONTables\")"
   ]
  },
  {
   "cell_type": "code",
   "execution_count": 75,
   "id": "2b226b8a",
   "metadata": {},
   "outputs": [],
   "source": [
    "using JSONTables"
   ]
  },
  {
   "cell_type": "code",
   "execution_count": 76,
   "id": "1035e25d",
   "metadata": {},
   "outputs": [
    {
     "data": {
      "text/plain": [
       "80"
      ]
     },
     "execution_count": 76,
     "metadata": {},
     "output_type": "execute_result"
    }
   ],
   "source": [
    "open(io -> arraytable(io, df), \"df.json\", \"w\")"
   ]
  },
  {
   "cell_type": "code",
   "execution_count": 77,
   "id": "fd27d2ce",
   "metadata": {},
   "outputs": [
    {
     "data": {
      "text/html": [
       "<table class=\"data-frame\"><thead><tr><th></th><th>A</th><th>B</th><th>C</th></tr><tr><th></th><th>Bool</th><th>Int64</th><th>String</th></tr></thead><tbody><p>3 rows × 3 columns</p><tr><th>1</th><td>1</td><td>23</td><td>a</td></tr><tr><th>2</th><td>0</td><td>45</td><td>b</td></tr><tr><th>3</th><td>1</td><td>67</td><td>c</td></tr></tbody></table>"
      ],
      "text/latex": [
       "\\begin{tabular}{r|ccc}\n",
       "\t& A & B & C\\\\\n",
       "\t\\hline\n",
       "\t& Bool & Int64 & String\\\\\n",
       "\t\\hline\n",
       "\t1 & 1 & 23 & a \\\\\n",
       "\t2 & 0 & 45 & b \\\\\n",
       "\t3 & 1 & 67 & c \\\\\n",
       "\\end{tabular}\n"
      ],
      "text/plain": [
       "3×3 typename(DataFrame)\n",
       "│ Row │ A    │ B     │ C      │\n",
       "│     │ \u001b[90mBool\u001b[39m │ \u001b[90mInt64\u001b[39m │ \u001b[90mString\u001b[39m │\n",
       "├─────┼──────┼───────┼────────┤\n",
       "│ 1   │ 1    │ 23    │ a      │\n",
       "│ 2   │ 0    │ 45    │ b      │\n",
       "│ 3   │ 1    │ 67    │ c      │"
      ]
     },
     "execution_count": 77,
     "metadata": {},
     "output_type": "execute_result"
    }
   ],
   "source": [
    "open(jsontable, \"df.json\") |> DataFrame"
   ]
  },
  {
   "cell_type": "markdown",
   "id": "aea604b3",
   "metadata": {},
   "source": [
    "## Rows and Column Operations"
   ]
  },
  {
   "cell_type": "code",
   "execution_count": 79,
   "id": "aeb7fe50",
   "metadata": {},
   "outputs": [
    {
     "data": {
      "text/html": [
       "<table class=\"data-frame\"><thead><tr><th></th><th>x1</th><th>x2</th><th>x3</th><th>x4</th></tr><tr><th></th><th>Float64</th><th>Float64</th><th>Float64</th><th>Float64</th></tr></thead><tbody><p>5 rows × 4 columns</p><tr><th>1</th><td>0.517341</td><td>0.337742</td><td>0.736594</td><td>0.747265</td></tr><tr><th>2</th><td>0.0531338</td><td>0.199773</td><td>0.982529</td><td>0.0827807</td></tr><tr><th>3</th><td>0.841607</td><td>0.984159</td><td>0.968802</td><td>0.839925</td></tr><tr><th>4</th><td>0.966777</td><td>0.285747</td><td>0.418868</td><td>0.0365868</td></tr><tr><th>5</th><td>0.954417</td><td>0.350305</td><td>0.64256</td><td>0.460602</td></tr></tbody></table>"
      ],
      "text/latex": [
       "\\begin{tabular}{r|cccc}\n",
       "\t& x1 & x2 & x3 & x4\\\\\n",
       "\t\\hline\n",
       "\t& Float64 & Float64 & Float64 & Float64\\\\\n",
       "\t\\hline\n",
       "\t1 & 0.517341 & 0.337742 & 0.736594 & 0.747265 \\\\\n",
       "\t2 & 0.0531338 & 0.199773 & 0.982529 & 0.0827807 \\\\\n",
       "\t3 & 0.841607 & 0.984159 & 0.968802 & 0.839925 \\\\\n",
       "\t4 & 0.966777 & 0.285747 & 0.418868 & 0.0365868 \\\\\n",
       "\t5 & 0.954417 & 0.350305 & 0.64256 & 0.460602 \\\\\n",
       "\\end{tabular}\n"
      ],
      "text/plain": [
       "5×4 typename(DataFrame)\n",
       "│ Row │ x1        │ x2       │ x3       │ x4        │\n",
       "│     │ \u001b[90mFloat64\u001b[39m   │ \u001b[90mFloat64\u001b[39m  │ \u001b[90mFloat64\u001b[39m  │ \u001b[90mFloat64\u001b[39m   │\n",
       "├─────┼───────────┼──────────┼──────────┼───────────┤\n",
       "│ 1   │ 0.517341  │ 0.337742 │ 0.736594 │ 0.747265  │\n",
       "│ 2   │ 0.0531338 │ 0.199773 │ 0.982529 │ 0.0827807 │\n",
       "│ 3   │ 0.841607  │ 0.984159 │ 0.968802 │ 0.839925  │\n",
       "│ 4   │ 0.966777  │ 0.285747 │ 0.418868 │ 0.0365868 │\n",
       "│ 5   │ 0.954417  │ 0.350305 │ 0.64256  │ 0.460602  │"
      ]
     },
     "execution_count": 79,
     "metadata": {},
     "output_type": "execute_result"
    }
   ],
   "source": [
    "M1 = DataFrame(rand(5,4))"
   ]
  },
  {
   "cell_type": "code",
   "execution_count": 80,
   "id": "1b9150b0",
   "metadata": {},
   "outputs": [
    {
     "data": {
      "text/html": [
       "<table class=\"data-frame\"><thead><tr><th></th><th>c1</th><th>x2</th><th>x3</th><th>x4</th></tr><tr><th></th><th>Float64</th><th>Float64</th><th>Float64</th><th>Float64</th></tr></thead><tbody><p>5 rows × 4 columns</p><tr><th>1</th><td>0.517341</td><td>0.337742</td><td>0.736594</td><td>0.747265</td></tr><tr><th>2</th><td>0.0531338</td><td>0.199773</td><td>0.982529</td><td>0.0827807</td></tr><tr><th>3</th><td>0.841607</td><td>0.984159</td><td>0.968802</td><td>0.839925</td></tr><tr><th>4</th><td>0.966777</td><td>0.285747</td><td>0.418868</td><td>0.0365868</td></tr><tr><th>5</th><td>0.954417</td><td>0.350305</td><td>0.64256</td><td>0.460602</td></tr></tbody></table>"
      ],
      "text/latex": [
       "\\begin{tabular}{r|cccc}\n",
       "\t& c1 & x2 & x3 & x4\\\\\n",
       "\t\\hline\n",
       "\t& Float64 & Float64 & Float64 & Float64\\\\\n",
       "\t\\hline\n",
       "\t1 & 0.517341 & 0.337742 & 0.736594 & 0.747265 \\\\\n",
       "\t2 & 0.0531338 & 0.199773 & 0.982529 & 0.0827807 \\\\\n",
       "\t3 & 0.841607 & 0.984159 & 0.968802 & 0.839925 \\\\\n",
       "\t4 & 0.966777 & 0.285747 & 0.418868 & 0.0365868 \\\\\n",
       "\t5 & 0.954417 & 0.350305 & 0.64256 & 0.460602 \\\\\n",
       "\\end{tabular}\n"
      ],
      "text/plain": [
       "5×4 typename(DataFrame)\n",
       "│ Row │ c1        │ x2       │ x3       │ x4        │\n",
       "│     │ \u001b[90mFloat64\u001b[39m   │ \u001b[90mFloat64\u001b[39m  │ \u001b[90mFloat64\u001b[39m  │ \u001b[90mFloat64\u001b[39m   │\n",
       "├─────┼───────────┼──────────┼──────────┼───────────┤\n",
       "│ 1   │ 0.517341  │ 0.337742 │ 0.736594 │ 0.747265  │\n",
       "│ 2   │ 0.0531338 │ 0.199773 │ 0.982529 │ 0.0827807 │\n",
       "│ 3   │ 0.841607  │ 0.984159 │ 0.968802 │ 0.839925  │\n",
       "│ 4   │ 0.966777  │ 0.285747 │ 0.418868 │ 0.0365868 │\n",
       "│ 5   │ 0.954417  │ 0.350305 │ 0.64256  │ 0.460602  │"
      ]
     },
     "execution_count": 80,
     "metadata": {},
     "output_type": "execute_result"
    }
   ],
   "source": [
    "rename(M1, :x1 => :c1)"
   ]
  },
  {
   "cell_type": "code",
   "execution_count": 81,
   "id": "b31cd85f",
   "metadata": {},
   "outputs": [
    {
     "data": {
      "text/html": [
       "<table class=\"data-frame\"><thead><tr><th></th><th>x1</th><th>x2</th><th>x3</th><th>x4</th></tr><tr><th></th><th>Float64</th><th>Float64</th><th>Float64</th><th>Float64</th></tr></thead><tbody><p>5 rows × 4 columns</p><tr><th>1</th><td>0.517341</td><td>0.337742</td><td>0.736594</td><td>0.747265</td></tr><tr><th>2</th><td>0.0531338</td><td>0.199773</td><td>0.982529</td><td>0.0827807</td></tr><tr><th>3</th><td>0.841607</td><td>0.984159</td><td>0.968802</td><td>0.839925</td></tr><tr><th>4</th><td>0.966777</td><td>0.285747</td><td>0.418868</td><td>0.0365868</td></tr><tr><th>5</th><td>0.954417</td><td>0.350305</td><td>0.64256</td><td>0.460602</td></tr></tbody></table>"
      ],
      "text/latex": [
       "\\begin{tabular}{r|cccc}\n",
       "\t& x1 & x2 & x3 & x4\\\\\n",
       "\t\\hline\n",
       "\t& Float64 & Float64 & Float64 & Float64\\\\\n",
       "\t\\hline\n",
       "\t1 & 0.517341 & 0.337742 & 0.736594 & 0.747265 \\\\\n",
       "\t2 & 0.0531338 & 0.199773 & 0.982529 & 0.0827807 \\\\\n",
       "\t3 & 0.841607 & 0.984159 & 0.968802 & 0.839925 \\\\\n",
       "\t4 & 0.966777 & 0.285747 & 0.418868 & 0.0365868 \\\\\n",
       "\t5 & 0.954417 & 0.350305 & 0.64256 & 0.460602 \\\\\n",
       "\\end{tabular}\n"
      ],
      "text/plain": [
       "5×4 typename(DataFrame)\n",
       "│ Row │ x1        │ x2       │ x3       │ x4        │\n",
       "│     │ \u001b[90mFloat64\u001b[39m   │ \u001b[90mFloat64\u001b[39m  │ \u001b[90mFloat64\u001b[39m  │ \u001b[90mFloat64\u001b[39m   │\n",
       "├─────┼───────────┼──────────┼──────────┼───────────┤\n",
       "│ 1   │ 0.517341  │ 0.337742 │ 0.736594 │ 0.747265  │\n",
       "│ 2   │ 0.0531338 │ 0.199773 │ 0.982529 │ 0.0827807 │\n",
       "│ 3   │ 0.841607  │ 0.984159 │ 0.968802 │ 0.839925  │\n",
       "│ 4   │ 0.966777  │ 0.285747 │ 0.418868 │ 0.0365868 │\n",
       "│ 5   │ 0.954417  │ 0.350305 │ 0.64256  │ 0.460602  │"
      ]
     },
     "execution_count": 81,
     "metadata": {},
     "output_type": "execute_result"
    }
   ],
   "source": [
    "M1"
   ]
  },
  {
   "cell_type": "code",
   "execution_count": 82,
   "id": "64ca6ee2",
   "metadata": {},
   "outputs": [
    {
     "data": {
      "text/html": [
       "<table class=\"data-frame\"><thead><tr><th></th><th>c1</th><th>x2</th><th>x3</th><th>x4</th></tr><tr><th></th><th>Float64</th><th>Float64</th><th>Float64</th><th>Float64</th></tr></thead><tbody><p>5 rows × 4 columns</p><tr><th>1</th><td>0.517341</td><td>0.337742</td><td>0.736594</td><td>0.747265</td></tr><tr><th>2</th><td>0.0531338</td><td>0.199773</td><td>0.982529</td><td>0.0827807</td></tr><tr><th>3</th><td>0.841607</td><td>0.984159</td><td>0.968802</td><td>0.839925</td></tr><tr><th>4</th><td>0.966777</td><td>0.285747</td><td>0.418868</td><td>0.0365868</td></tr><tr><th>5</th><td>0.954417</td><td>0.350305</td><td>0.64256</td><td>0.460602</td></tr></tbody></table>"
      ],
      "text/latex": [
       "\\begin{tabular}{r|cccc}\n",
       "\t& c1 & x2 & x3 & x4\\\\\n",
       "\t\\hline\n",
       "\t& Float64 & Float64 & Float64 & Float64\\\\\n",
       "\t\\hline\n",
       "\t1 & 0.517341 & 0.337742 & 0.736594 & 0.747265 \\\\\n",
       "\t2 & 0.0531338 & 0.199773 & 0.982529 & 0.0827807 \\\\\n",
       "\t3 & 0.841607 & 0.984159 & 0.968802 & 0.839925 \\\\\n",
       "\t4 & 0.966777 & 0.285747 & 0.418868 & 0.0365868 \\\\\n",
       "\t5 & 0.954417 & 0.350305 & 0.64256 & 0.460602 \\\\\n",
       "\\end{tabular}\n"
      ],
      "text/plain": [
       "5×4 typename(DataFrame)\n",
       "│ Row │ c1        │ x2       │ x3       │ x4        │\n",
       "│     │ \u001b[90mFloat64\u001b[39m   │ \u001b[90mFloat64\u001b[39m  │ \u001b[90mFloat64\u001b[39m  │ \u001b[90mFloat64\u001b[39m   │\n",
       "├─────┼───────────┼──────────┼──────────┼───────────┤\n",
       "│ 1   │ 0.517341  │ 0.337742 │ 0.736594 │ 0.747265  │\n",
       "│ 2   │ 0.0531338 │ 0.199773 │ 0.982529 │ 0.0827807 │\n",
       "│ 3   │ 0.841607  │ 0.984159 │ 0.968802 │ 0.839925  │\n",
       "│ 4   │ 0.966777  │ 0.285747 │ 0.418868 │ 0.0365868 │\n",
       "│ 5   │ 0.954417  │ 0.350305 │ 0.64256  │ 0.460602  │"
      ]
     },
     "execution_count": 82,
     "metadata": {},
     "output_type": "execute_result"
    }
   ],
   "source": [
    "rename!(M1, :x1 => :c1)"
   ]
  },
  {
   "cell_type": "code",
   "execution_count": 83,
   "id": "0952cf3a",
   "metadata": {},
   "outputs": [
    {
     "data": {
      "text/html": [
       "<table class=\"data-frame\"><thead><tr><th></th><th>c1</th><th>x2</th><th>x3</th><th>x4</th></tr><tr><th></th><th>Float64</th><th>Float64</th><th>Float64</th><th>Float64</th></tr></thead><tbody><p>5 rows × 4 columns</p><tr><th>1</th><td>0.517341</td><td>0.337742</td><td>0.736594</td><td>0.747265</td></tr><tr><th>2</th><td>0.0531338</td><td>0.199773</td><td>0.982529</td><td>0.0827807</td></tr><tr><th>3</th><td>0.841607</td><td>0.984159</td><td>0.968802</td><td>0.839925</td></tr><tr><th>4</th><td>0.966777</td><td>0.285747</td><td>0.418868</td><td>0.0365868</td></tr><tr><th>5</th><td>0.954417</td><td>0.350305</td><td>0.64256</td><td>0.460602</td></tr></tbody></table>"
      ],
      "text/latex": [
       "\\begin{tabular}{r|cccc}\n",
       "\t& c1 & x2 & x3 & x4\\\\\n",
       "\t\\hline\n",
       "\t& Float64 & Float64 & Float64 & Float64\\\\\n",
       "\t\\hline\n",
       "\t1 & 0.517341 & 0.337742 & 0.736594 & 0.747265 \\\\\n",
       "\t2 & 0.0531338 & 0.199773 & 0.982529 & 0.0827807 \\\\\n",
       "\t3 & 0.841607 & 0.984159 & 0.968802 & 0.839925 \\\\\n",
       "\t4 & 0.966777 & 0.285747 & 0.418868 & 0.0365868 \\\\\n",
       "\t5 & 0.954417 & 0.350305 & 0.64256 & 0.460602 \\\\\n",
       "\\end{tabular}\n"
      ],
      "text/plain": [
       "5×4 typename(DataFrame)\n",
       "│ Row │ c1        │ x2       │ x3       │ x4        │\n",
       "│     │ \u001b[90mFloat64\u001b[39m   │ \u001b[90mFloat64\u001b[39m  │ \u001b[90mFloat64\u001b[39m  │ \u001b[90mFloat64\u001b[39m   │\n",
       "├─────┼───────────┼──────────┼──────────┼───────────┤\n",
       "│ 1   │ 0.517341  │ 0.337742 │ 0.736594 │ 0.747265  │\n",
       "│ 2   │ 0.0531338 │ 0.199773 │ 0.982529 │ 0.0827807 │\n",
       "│ 3   │ 0.841607  │ 0.984159 │ 0.968802 │ 0.839925  │\n",
       "│ 4   │ 0.966777  │ 0.285747 │ 0.418868 │ 0.0365868 │\n",
       "│ 5   │ 0.954417  │ 0.350305 │ 0.64256  │ 0.460602  │"
      ]
     },
     "execution_count": 83,
     "metadata": {},
     "output_type": "execute_result"
    }
   ],
   "source": [
    "M1"
   ]
  },
  {
   "cell_type": "code",
   "execution_count": 84,
   "id": "22d884ee",
   "metadata": {},
   "outputs": [
    {
     "data": {
      "text/html": [
       "<table class=\"data-frame\"><thead><tr><th></th><th>c1</th><th>c2</th><th>c3</th><th>c4</th></tr><tr><th></th><th>Float64</th><th>Float64</th><th>Float64</th><th>Float64</th></tr></thead><tbody><p>5 rows × 4 columns</p><tr><th>1</th><td>0.517341</td><td>0.337742</td><td>0.736594</td><td>0.747265</td></tr><tr><th>2</th><td>0.0531338</td><td>0.199773</td><td>0.982529</td><td>0.0827807</td></tr><tr><th>3</th><td>0.841607</td><td>0.984159</td><td>0.968802</td><td>0.839925</td></tr><tr><th>4</th><td>0.966777</td><td>0.285747</td><td>0.418868</td><td>0.0365868</td></tr><tr><th>5</th><td>0.954417</td><td>0.350305</td><td>0.64256</td><td>0.460602</td></tr></tbody></table>"
      ],
      "text/latex": [
       "\\begin{tabular}{r|cccc}\n",
       "\t& c1 & c2 & c3 & c4\\\\\n",
       "\t\\hline\n",
       "\t& Float64 & Float64 & Float64 & Float64\\\\\n",
       "\t\\hline\n",
       "\t1 & 0.517341 & 0.337742 & 0.736594 & 0.747265 \\\\\n",
       "\t2 & 0.0531338 & 0.199773 & 0.982529 & 0.0827807 \\\\\n",
       "\t3 & 0.841607 & 0.984159 & 0.968802 & 0.839925 \\\\\n",
       "\t4 & 0.966777 & 0.285747 & 0.418868 & 0.0365868 \\\\\n",
       "\t5 & 0.954417 & 0.350305 & 0.64256 & 0.460602 \\\\\n",
       "\\end{tabular}\n"
      ],
      "text/plain": [
       "5×4 typename(DataFrame)\n",
       "│ Row │ c1        │ c2       │ c3       │ c4        │\n",
       "│     │ \u001b[90mFloat64\u001b[39m   │ \u001b[90mFloat64\u001b[39m  │ \u001b[90mFloat64\u001b[39m  │ \u001b[90mFloat64\u001b[39m   │\n",
       "├─────┼───────────┼──────────┼──────────┼───────────┤\n",
       "│ 1   │ 0.517341  │ 0.337742 │ 0.736594 │ 0.747265  │\n",
       "│ 2   │ 0.0531338 │ 0.199773 │ 0.982529 │ 0.0827807 │\n",
       "│ 3   │ 0.841607  │ 0.984159 │ 0.968802 │ 0.839925  │\n",
       "│ 4   │ 0.966777  │ 0.285747 │ 0.418868 │ 0.0365868 │\n",
       "│ 5   │ 0.954417  │ 0.350305 │ 0.64256  │ 0.460602  │"
      ]
     },
     "execution_count": 84,
     "metadata": {},
     "output_type": "execute_result"
    }
   ],
   "source": [
    "rename!(M1, [:c1,:c2,:c3,:c4])"
   ]
  },
  {
   "cell_type": "code",
   "execution_count": 85,
   "id": "fea967a8",
   "metadata": {},
   "outputs": [
    {
     "data": {
      "text/html": [
       "<table class=\"data-frame\"><thead><tr><th></th><th>a</th><th>b</th><th>c</th><th>d</th></tr><tr><th></th><th>Float64</th><th>Float64</th><th>Float64</th><th>Float64</th></tr></thead><tbody><p>5 rows × 4 columns</p><tr><th>1</th><td>0.517341</td><td>0.337742</td><td>0.736594</td><td>0.747265</td></tr><tr><th>2</th><td>0.0531338</td><td>0.199773</td><td>0.982529</td><td>0.0827807</td></tr><tr><th>3</th><td>0.841607</td><td>0.984159</td><td>0.968802</td><td>0.839925</td></tr><tr><th>4</th><td>0.966777</td><td>0.285747</td><td>0.418868</td><td>0.0365868</td></tr><tr><th>5</th><td>0.954417</td><td>0.350305</td><td>0.64256</td><td>0.460602</td></tr></tbody></table>"
      ],
      "text/latex": [
       "\\begin{tabular}{r|cccc}\n",
       "\t& a & b & c & d\\\\\n",
       "\t\\hline\n",
       "\t& Float64 & Float64 & Float64 & Float64\\\\\n",
       "\t\\hline\n",
       "\t1 & 0.517341 & 0.337742 & 0.736594 & 0.747265 \\\\\n",
       "\t2 & 0.0531338 & 0.199773 & 0.982529 & 0.0827807 \\\\\n",
       "\t3 & 0.841607 & 0.984159 & 0.968802 & 0.839925 \\\\\n",
       "\t4 & 0.966777 & 0.285747 & 0.418868 & 0.0365868 \\\\\n",
       "\t5 & 0.954417 & 0.350305 & 0.64256 & 0.460602 \\\\\n",
       "\\end{tabular}\n"
      ],
      "text/plain": [
       "5×4 typename(DataFrame)\n",
       "│ Row │ a         │ b        │ c        │ d         │\n",
       "│     │ \u001b[90mFloat64\u001b[39m   │ \u001b[90mFloat64\u001b[39m  │ \u001b[90mFloat64\u001b[39m  │ \u001b[90mFloat64\u001b[39m   │\n",
       "├─────┼───────────┼──────────┼──────────┼───────────┤\n",
       "│ 1   │ 0.517341  │ 0.337742 │ 0.736594 │ 0.747265  │\n",
       "│ 2   │ 0.0531338 │ 0.199773 │ 0.982529 │ 0.0827807 │\n",
       "│ 3   │ 0.841607  │ 0.984159 │ 0.968802 │ 0.839925  │\n",
       "│ 4   │ 0.966777  │ 0.285747 │ 0.418868 │ 0.0365868 │\n",
       "│ 5   │ 0.954417  │ 0.350305 │ 0.64256  │ 0.460602  │"
      ]
     },
     "execution_count": 85,
     "metadata": {},
     "output_type": "execute_result"
    }
   ],
   "source": [
    "rename(M1, string.('a':'d'))"
   ]
  },
  {
   "cell_type": "code",
   "execution_count": 86,
   "id": "dbb63f8f",
   "metadata": {},
   "outputs": [
    {
     "data": {
      "text/html": [
       "<table class=\"data-frame\"><thead><tr><th></th><th>x1</th><th>x2</th><th>x3</th><th>x4</th></tr><tr><th></th><th>Float64</th><th>Float64</th><th>Float64</th><th>Float64</th></tr></thead><tbody><p>5 rows × 4 columns</p><tr><th>1</th><td>0.563021</td><td>0.320162</td><td>0.434438</td><td>0.240466</td></tr><tr><th>2</th><td>0.255245</td><td>0.85241</td><td>0.151372</td><td>0.651337</td></tr><tr><th>3</th><td>0.803788</td><td>0.544438</td><td>0.346137</td><td>0.265219</td></tr><tr><th>4</th><td>0.40536</td><td>0.881521</td><td>0.52381</td><td>0.519988</td></tr><tr><th>5</th><td>0.0593337</td><td>0.435103</td><td>0.633356</td><td>0.548077</td></tr></tbody></table>"
      ],
      "text/latex": [
       "\\begin{tabular}{r|cccc}\n",
       "\t& x1 & x2 & x3 & x4\\\\\n",
       "\t\\hline\n",
       "\t& Float64 & Float64 & Float64 & Float64\\\\\n",
       "\t\\hline\n",
       "\t1 & 0.563021 & 0.320162 & 0.434438 & 0.240466 \\\\\n",
       "\t2 & 0.255245 & 0.85241 & 0.151372 & 0.651337 \\\\\n",
       "\t3 & 0.803788 & 0.544438 & 0.346137 & 0.265219 \\\\\n",
       "\t4 & 0.40536 & 0.881521 & 0.52381 & 0.519988 \\\\\n",
       "\t5 & 0.0593337 & 0.435103 & 0.633356 & 0.548077 \\\\\n",
       "\\end{tabular}\n"
      ],
      "text/plain": [
       "5×4 typename(DataFrame)\n",
       "│ Row │ x1        │ x2       │ x3       │ x4       │\n",
       "│     │ \u001b[90mFloat64\u001b[39m   │ \u001b[90mFloat64\u001b[39m  │ \u001b[90mFloat64\u001b[39m  │ \u001b[90mFloat64\u001b[39m  │\n",
       "├─────┼───────────┼──────────┼──────────┼──────────┤\n",
       "│ 1   │ 0.563021  │ 0.320162 │ 0.434438 │ 0.240466 │\n",
       "│ 2   │ 0.255245  │ 0.85241  │ 0.151372 │ 0.651337 │\n",
       "│ 3   │ 0.803788  │ 0.544438 │ 0.346137 │ 0.265219 │\n",
       "│ 4   │ 0.40536   │ 0.881521 │ 0.52381  │ 0.519988 │\n",
       "│ 5   │ 0.0593337 │ 0.435103 │ 0.633356 │ 0.548077 │"
      ]
     },
     "execution_count": 86,
     "metadata": {},
     "output_type": "execute_result"
    }
   ],
   "source": [
    "M2 = DataFrame(rand(5,4))"
   ]
  },
  {
   "cell_type": "code",
   "execution_count": 87,
   "id": "4da47d2b",
   "metadata": {},
   "outputs": [
    {
     "data": {
      "text/html": [
       "<table class=\"data-frame\"><thead><tr><th></th><th>c1</th><th>c2</th><th>c3</th><th>c4</th><th>x1</th><th>x2</th><th>x3</th><th>x4</th></tr><tr><th></th><th>Float64</th><th>Float64</th><th>Float64</th><th>Float64</th><th>Float64</th><th>Float64</th><th>Float64</th><th>Float64</th></tr></thead><tbody><p>5 rows × 8 columns</p><tr><th>1</th><td>0.517341</td><td>0.337742</td><td>0.736594</td><td>0.747265</td><td>0.563021</td><td>0.320162</td><td>0.434438</td><td>0.240466</td></tr><tr><th>2</th><td>0.0531338</td><td>0.199773</td><td>0.982529</td><td>0.0827807</td><td>0.255245</td><td>0.85241</td><td>0.151372</td><td>0.651337</td></tr><tr><th>3</th><td>0.841607</td><td>0.984159</td><td>0.968802</td><td>0.839925</td><td>0.803788</td><td>0.544438</td><td>0.346137</td><td>0.265219</td></tr><tr><th>4</th><td>0.966777</td><td>0.285747</td><td>0.418868</td><td>0.0365868</td><td>0.40536</td><td>0.881521</td><td>0.52381</td><td>0.519988</td></tr><tr><th>5</th><td>0.954417</td><td>0.350305</td><td>0.64256</td><td>0.460602</td><td>0.0593337</td><td>0.435103</td><td>0.633356</td><td>0.548077</td></tr></tbody></table>"
      ],
      "text/latex": [
       "\\begin{tabular}{r|cccccccc}\n",
       "\t& c1 & c2 & c3 & c4 & x1 & x2 & x3 & x4\\\\\n",
       "\t\\hline\n",
       "\t& Float64 & Float64 & Float64 & Float64 & Float64 & Float64 & Float64 & Float64\\\\\n",
       "\t\\hline\n",
       "\t1 & 0.517341 & 0.337742 & 0.736594 & 0.747265 & 0.563021 & 0.320162 & 0.434438 & 0.240466 \\\\\n",
       "\t2 & 0.0531338 & 0.199773 & 0.982529 & 0.0827807 & 0.255245 & 0.85241 & 0.151372 & 0.651337 \\\\\n",
       "\t3 & 0.841607 & 0.984159 & 0.968802 & 0.839925 & 0.803788 & 0.544438 & 0.346137 & 0.265219 \\\\\n",
       "\t4 & 0.966777 & 0.285747 & 0.418868 & 0.0365868 & 0.40536 & 0.881521 & 0.52381 & 0.519988 \\\\\n",
       "\t5 & 0.954417 & 0.350305 & 0.64256 & 0.460602 & 0.0593337 & 0.435103 & 0.633356 & 0.548077 \\\\\n",
       "\\end{tabular}\n"
      ],
      "text/plain": [
       "5×8 typename(DataFrame). Omitted printing of 2 columns\n",
       "│ Row │ c1        │ c2       │ c3       │ c4        │ x1        │ x2       │\n",
       "│     │ \u001b[90mFloat64\u001b[39m   │ \u001b[90mFloat64\u001b[39m  │ \u001b[90mFloat64\u001b[39m  │ \u001b[90mFloat64\u001b[39m   │ \u001b[90mFloat64\u001b[39m   │ \u001b[90mFloat64\u001b[39m  │\n",
       "├─────┼───────────┼──────────┼──────────┼───────────┼───────────┼──────────┤\n",
       "│ 1   │ 0.517341  │ 0.337742 │ 0.736594 │ 0.747265  │ 0.563021  │ 0.320162 │\n",
       "│ 2   │ 0.0531338 │ 0.199773 │ 0.982529 │ 0.0827807 │ 0.255245  │ 0.85241  │\n",
       "│ 3   │ 0.841607  │ 0.984159 │ 0.968802 │ 0.839925  │ 0.803788  │ 0.544438 │\n",
       "│ 4   │ 0.966777  │ 0.285747 │ 0.418868 │ 0.0365868 │ 0.40536   │ 0.881521 │\n",
       "│ 5   │ 0.954417  │ 0.350305 │ 0.64256  │ 0.460602  │ 0.0593337 │ 0.435103 │"
      ]
     },
     "execution_count": 87,
     "metadata": {},
     "output_type": "execute_result"
    }
   ],
   "source": [
    "hcat(M1,M2)   # it only works when column name is different"
   ]
  },
  {
   "cell_type": "code",
   "execution_count": 88,
   "id": "57aba502",
   "metadata": {},
   "outputs": [
    {
     "data": {
      "text/html": [
       "<table class=\"data-frame\"><thead><tr><th></th><th>x1</th><th>x2</th><th>x3</th><th>x4</th></tr><tr><th></th><th>Float64</th><th>Float64</th><th>Float64</th><th>Float64</th></tr></thead><tbody><p>5 rows × 4 columns</p><tr><th>1</th><td>0.91302</td><td>0.756705</td><td>0.911524</td><td>0.330197</td></tr><tr><th>2</th><td>0.198648</td><td>0.403114</td><td>0.0543178</td><td>0.974635</td></tr><tr><th>3</th><td>0.709378</td><td>0.286534</td><td>0.776781</td><td>0.505842</td></tr><tr><th>4</th><td>0.77527</td><td>0.514398</td><td>0.753273</td><td>0.694221</td></tr><tr><th>5</th><td>0.853583</td><td>0.391648</td><td>0.235674</td><td>0.268137</td></tr></tbody></table>"
      ],
      "text/latex": [
       "\\begin{tabular}{r|cccc}\n",
       "\t& x1 & x2 & x3 & x4\\\\\n",
       "\t\\hline\n",
       "\t& Float64 & Float64 & Float64 & Float64\\\\\n",
       "\t\\hline\n",
       "\t1 & 0.91302 & 0.756705 & 0.911524 & 0.330197 \\\\\n",
       "\t2 & 0.198648 & 0.403114 & 0.0543178 & 0.974635 \\\\\n",
       "\t3 & 0.709378 & 0.286534 & 0.776781 & 0.505842 \\\\\n",
       "\t4 & 0.77527 & 0.514398 & 0.753273 & 0.694221 \\\\\n",
       "\t5 & 0.853583 & 0.391648 & 0.235674 & 0.268137 \\\\\n",
       "\\end{tabular}\n"
      ],
      "text/plain": [
       "5×4 typename(DataFrame)\n",
       "│ Row │ x1       │ x2       │ x3        │ x4       │\n",
       "│     │ \u001b[90mFloat64\u001b[39m  │ \u001b[90mFloat64\u001b[39m  │ \u001b[90mFloat64\u001b[39m   │ \u001b[90mFloat64\u001b[39m  │\n",
       "├─────┼──────────┼──────────┼───────────┼──────────┤\n",
       "│ 1   │ 0.91302  │ 0.756705 │ 0.911524  │ 0.330197 │\n",
       "│ 2   │ 0.198648 │ 0.403114 │ 0.0543178 │ 0.974635 │\n",
       "│ 3   │ 0.709378 │ 0.286534 │ 0.776781  │ 0.505842 │\n",
       "│ 4   │ 0.77527  │ 0.514398 │ 0.753273  │ 0.694221 │\n",
       "│ 5   │ 0.853583 │ 0.391648 │ 0.235674  │ 0.268137 │"
      ]
     },
     "execution_count": 88,
     "metadata": {},
     "output_type": "execute_result"
    }
   ],
   "source": [
    "M3 = DataFrame(rand(5,4))"
   ]
  },
  {
   "cell_type": "code",
   "execution_count": 91,
   "id": "5d4ffc41",
   "metadata": {},
   "outputs": [
    {
     "data": {
      "text/html": [
       "<table class=\"data-frame\"><thead><tr><th></th><th>x1</th><th>x2</th><th>x3</th><th>x4</th><th>x1_1</th><th>x2_1</th><th>x3_1</th><th>x4_1</th></tr><tr><th></th><th>Float64</th><th>Float64</th><th>Float64</th><th>Float64</th><th>Float64</th><th>Float64</th><th>Float64</th><th>Float64</th></tr></thead><tbody><p>5 rows × 8 columns</p><tr><th>1</th><td>0.563021</td><td>0.320162</td><td>0.434438</td><td>0.240466</td><td>0.91302</td><td>0.756705</td><td>0.911524</td><td>0.330197</td></tr><tr><th>2</th><td>0.255245</td><td>0.85241</td><td>0.151372</td><td>0.651337</td><td>0.198648</td><td>0.403114</td><td>0.0543178</td><td>0.974635</td></tr><tr><th>3</th><td>0.803788</td><td>0.544438</td><td>0.346137</td><td>0.265219</td><td>0.709378</td><td>0.286534</td><td>0.776781</td><td>0.505842</td></tr><tr><th>4</th><td>0.40536</td><td>0.881521</td><td>0.52381</td><td>0.519988</td><td>0.77527</td><td>0.514398</td><td>0.753273</td><td>0.694221</td></tr><tr><th>5</th><td>0.0593337</td><td>0.435103</td><td>0.633356</td><td>0.548077</td><td>0.853583</td><td>0.391648</td><td>0.235674</td><td>0.268137</td></tr></tbody></table>"
      ],
      "text/latex": [
       "\\begin{tabular}{r|cccccccc}\n",
       "\t& x1 & x2 & x3 & x4 & x1\\_1 & x2\\_1 & x3\\_1 & x4\\_1\\\\\n",
       "\t\\hline\n",
       "\t& Float64 & Float64 & Float64 & Float64 & Float64 & Float64 & Float64 & Float64\\\\\n",
       "\t\\hline\n",
       "\t1 & 0.563021 & 0.320162 & 0.434438 & 0.240466 & 0.91302 & 0.756705 & 0.911524 & 0.330197 \\\\\n",
       "\t2 & 0.255245 & 0.85241 & 0.151372 & 0.651337 & 0.198648 & 0.403114 & 0.0543178 & 0.974635 \\\\\n",
       "\t3 & 0.803788 & 0.544438 & 0.346137 & 0.265219 & 0.709378 & 0.286534 & 0.776781 & 0.505842 \\\\\n",
       "\t4 & 0.40536 & 0.881521 & 0.52381 & 0.519988 & 0.77527 & 0.514398 & 0.753273 & 0.694221 \\\\\n",
       "\t5 & 0.0593337 & 0.435103 & 0.633356 & 0.548077 & 0.853583 & 0.391648 & 0.235674 & 0.268137 \\\\\n",
       "\\end{tabular}\n"
      ],
      "text/plain": [
       "5×8 typename(DataFrame). Omitted printing of 2 columns\n",
       "│ Row │ x1        │ x2       │ x3       │ x4       │ x1_1     │ x2_1     │\n",
       "│     │ \u001b[90mFloat64\u001b[39m   │ \u001b[90mFloat64\u001b[39m  │ \u001b[90mFloat64\u001b[39m  │ \u001b[90mFloat64\u001b[39m  │ \u001b[90mFloat64\u001b[39m  │ \u001b[90mFloat64\u001b[39m  │\n",
       "├─────┼───────────┼──────────┼──────────┼──────────┼──────────┼──────────┤\n",
       "│ 1   │ 0.563021  │ 0.320162 │ 0.434438 │ 0.240466 │ 0.91302  │ 0.756705 │\n",
       "│ 2   │ 0.255245  │ 0.85241  │ 0.151372 │ 0.651337 │ 0.198648 │ 0.403114 │\n",
       "│ 3   │ 0.803788  │ 0.544438 │ 0.346137 │ 0.265219 │ 0.709378 │ 0.286534 │\n",
       "│ 4   │ 0.40536   │ 0.881521 │ 0.52381  │ 0.519988 │ 0.77527  │ 0.514398 │\n",
       "│ 5   │ 0.0593337 │ 0.435103 │ 0.633356 │ 0.548077 │ 0.853583 │ 0.391648 │"
      ]
     },
     "execution_count": 91,
     "metadata": {},
     "output_type": "execute_result"
    }
   ],
   "source": [
    "hcat(M2,M3, makeunique=true) # use this when column name is same"
   ]
  },
  {
   "cell_type": "code",
   "execution_count": 93,
   "id": "eadd8f84",
   "metadata": {},
   "outputs": [
    {
     "ename": "LoadError",
     "evalue": "ArgumentError: column(s) x1, x2, x3 and x4 are missing from argument(s) 1, and column(s) c1, c2, c3 and c4 are missing from argument(s) 2",
     "output_type": "error",
     "traceback": [
      "ArgumentError: column(s) x1, x2, x3 and x4 are missing from argument(s) 1, and column(s) c1, c2, c3 and c4 are missing from argument(s) 2",
      "",
      "Stacktrace:",
      " [1] _vcat(dfs::Vector{DataFrame}; cols::Symbol)",
      "   @ DataFrames C:\\Users\\deven\\.julia\\packages\\DataFrames\\S3ZFo\\src\\abstractdataframe\\abstractdataframe.jl:1226",
      " [2] #reduce#73",
      "   @ C:\\Users\\deven\\.julia\\packages\\DataFrames\\S3ZFo\\src\\abstractdataframe\\abstractdataframe.jl:1185 [inlined]",
      " [3] #vcat#72",
      "   @ C:\\Users\\deven\\.julia\\packages\\DataFrames\\S3ZFo\\src\\abstractdataframe\\abstractdataframe.jl:1180 [inlined]",
      " [4] vcat(::DataFrame, ::DataFrame)",
      "   @ DataFrames C:\\Users\\deven\\.julia\\packages\\DataFrames\\S3ZFo\\src\\abstractdataframe\\abstractdataframe.jl:1180",
      " [5] top-level scope",
      "   @ In[93]:1",
      " [6] eval",
      "   @ .\\boot.jl:360 [inlined]",
      " [7] include_string(mapexpr::typeof(REPL.softscope), mod::Module, code::String, filename::String)",
      "   @ Base .\\loading.jl:1094"
     ]
    }
   ],
   "source": [
    "vcat(M1, M2) #this is due to column name is mismatch"
   ]
  },
  {
   "cell_type": "code",
   "execution_count": 94,
   "id": "9cd82538",
   "metadata": {},
   "outputs": [
    {
     "data": {
      "text/html": [
       "<table class=\"data-frame\"><thead><tr><th></th><th>x1</th><th>x2</th><th>x3</th><th>x4</th></tr><tr><th></th><th>Float64</th><th>Float64</th><th>Float64</th><th>Float64</th></tr></thead><tbody><p>10 rows × 4 columns</p><tr><th>1</th><td>0.563021</td><td>0.320162</td><td>0.434438</td><td>0.240466</td></tr><tr><th>2</th><td>0.255245</td><td>0.85241</td><td>0.151372</td><td>0.651337</td></tr><tr><th>3</th><td>0.803788</td><td>0.544438</td><td>0.346137</td><td>0.265219</td></tr><tr><th>4</th><td>0.40536</td><td>0.881521</td><td>0.52381</td><td>0.519988</td></tr><tr><th>5</th><td>0.0593337</td><td>0.435103</td><td>0.633356</td><td>0.548077</td></tr><tr><th>6</th><td>0.91302</td><td>0.756705</td><td>0.911524</td><td>0.330197</td></tr><tr><th>7</th><td>0.198648</td><td>0.403114</td><td>0.0543178</td><td>0.974635</td></tr><tr><th>8</th><td>0.709378</td><td>0.286534</td><td>0.776781</td><td>0.505842</td></tr><tr><th>9</th><td>0.77527</td><td>0.514398</td><td>0.753273</td><td>0.694221</td></tr><tr><th>10</th><td>0.853583</td><td>0.391648</td><td>0.235674</td><td>0.268137</td></tr></tbody></table>"
      ],
      "text/latex": [
       "\\begin{tabular}{r|cccc}\n",
       "\t& x1 & x2 & x3 & x4\\\\\n",
       "\t\\hline\n",
       "\t& Float64 & Float64 & Float64 & Float64\\\\\n",
       "\t\\hline\n",
       "\t1 & 0.563021 & 0.320162 & 0.434438 & 0.240466 \\\\\n",
       "\t2 & 0.255245 & 0.85241 & 0.151372 & 0.651337 \\\\\n",
       "\t3 & 0.803788 & 0.544438 & 0.346137 & 0.265219 \\\\\n",
       "\t4 & 0.40536 & 0.881521 & 0.52381 & 0.519988 \\\\\n",
       "\t5 & 0.0593337 & 0.435103 & 0.633356 & 0.548077 \\\\\n",
       "\t6 & 0.91302 & 0.756705 & 0.911524 & 0.330197 \\\\\n",
       "\t7 & 0.198648 & 0.403114 & 0.0543178 & 0.974635 \\\\\n",
       "\t8 & 0.709378 & 0.286534 & 0.776781 & 0.505842 \\\\\n",
       "\t9 & 0.77527 & 0.514398 & 0.753273 & 0.694221 \\\\\n",
       "\t10 & 0.853583 & 0.391648 & 0.235674 & 0.268137 \\\\\n",
       "\\end{tabular}\n"
      ],
      "text/plain": [
       "10×4 typename(DataFrame)\n",
       "│ Row │ x1        │ x2       │ x3        │ x4       │\n",
       "│     │ \u001b[90mFloat64\u001b[39m   │ \u001b[90mFloat64\u001b[39m  │ \u001b[90mFloat64\u001b[39m   │ \u001b[90mFloat64\u001b[39m  │\n",
       "├─────┼───────────┼──────────┼───────────┼──────────┤\n",
       "│ 1   │ 0.563021  │ 0.320162 │ 0.434438  │ 0.240466 │\n",
       "│ 2   │ 0.255245  │ 0.85241  │ 0.151372  │ 0.651337 │\n",
       "│ 3   │ 0.803788  │ 0.544438 │ 0.346137  │ 0.265219 │\n",
       "│ 4   │ 0.40536   │ 0.881521 │ 0.52381   │ 0.519988 │\n",
       "│ 5   │ 0.0593337 │ 0.435103 │ 0.633356  │ 0.548077 │\n",
       "│ 6   │ 0.91302   │ 0.756705 │ 0.911524  │ 0.330197 │\n",
       "│ 7   │ 0.198648  │ 0.403114 │ 0.0543178 │ 0.974635 │\n",
       "│ 8   │ 0.709378  │ 0.286534 │ 0.776781  │ 0.505842 │\n",
       "│ 9   │ 0.77527   │ 0.514398 │ 0.753273  │ 0.694221 │\n",
       "│ 10  │ 0.853583  │ 0.391648 │ 0.235674  │ 0.268137 │"
      ]
     },
     "execution_count": 94,
     "metadata": {},
     "output_type": "execute_result"
    }
   ],
   "source": [
    "vcat(M2,M3)"
   ]
  },
  {
   "cell_type": "code",
   "execution_count": 95,
   "id": "a28bdafd",
   "metadata": {},
   "outputs": [
    {
     "data": {
      "text/html": [
       "<table class=\"data-frame\"><thead><tr><th></th><th>c1</th><th>c2</th><th>c3</th><th>c4</th><th>A</th></tr><tr><th></th><th>Float64</th><th>Float64</th><th>Float64</th><th>Float64</th><th>Int64</th></tr></thead><tbody><p>5 rows × 5 columns</p><tr><th>1</th><td>0.517341</td><td>0.337742</td><td>0.736594</td><td>0.747265</td><td>1</td></tr><tr><th>2</th><td>0.0531338</td><td>0.199773</td><td>0.982529</td><td>0.0827807</td><td>2</td></tr><tr><th>3</th><td>0.841607</td><td>0.984159</td><td>0.968802</td><td>0.839925</td><td>3</td></tr><tr><th>4</th><td>0.966777</td><td>0.285747</td><td>0.418868</td><td>0.0365868</td><td>4</td></tr><tr><th>5</th><td>0.954417</td><td>0.350305</td><td>0.64256</td><td>0.460602</td><td>5</td></tr></tbody></table>"
      ],
      "text/latex": [
       "\\begin{tabular}{r|ccccc}\n",
       "\t& c1 & c2 & c3 & c4 & A\\\\\n",
       "\t\\hline\n",
       "\t& Float64 & Float64 & Float64 & Float64 & Int64\\\\\n",
       "\t\\hline\n",
       "\t1 & 0.517341 & 0.337742 & 0.736594 & 0.747265 & 1 \\\\\n",
       "\t2 & 0.0531338 & 0.199773 & 0.982529 & 0.0827807 & 2 \\\\\n",
       "\t3 & 0.841607 & 0.984159 & 0.968802 & 0.839925 & 3 \\\\\n",
       "\t4 & 0.966777 & 0.285747 & 0.418868 & 0.0365868 & 4 \\\\\n",
       "\t5 & 0.954417 & 0.350305 & 0.64256 & 0.460602 & 5 \\\\\n",
       "\\end{tabular}\n"
      ],
      "text/plain": [
       "5×5 typename(DataFrame)\n",
       "│ Row │ c1        │ c2       │ c3       │ c4        │ A     │\n",
       "│     │ \u001b[90mFloat64\u001b[39m   │ \u001b[90mFloat64\u001b[39m  │ \u001b[90mFloat64\u001b[39m  │ \u001b[90mFloat64\u001b[39m   │ \u001b[90mInt64\u001b[39m │\n",
       "├─────┼───────────┼──────────┼──────────┼───────────┼───────┤\n",
       "│ 1   │ 0.517341  │ 0.337742 │ 0.736594 │ 0.747265  │ 1     │\n",
       "│ 2   │ 0.0531338 │ 0.199773 │ 0.982529 │ 0.0827807 │ 2     │\n",
       "│ 3   │ 0.841607  │ 0.984159 │ 0.968802 │ 0.839925  │ 3     │\n",
       "│ 4   │ 0.966777  │ 0.285747 │ 0.418868 │ 0.0365868 │ 4     │\n",
       "│ 5   │ 0.954417  │ 0.350305 │ 0.64256  │ 0.460602  │ 5     │"
      ]
     },
     "execution_count": 95,
     "metadata": {},
     "output_type": "execute_result"
    }
   ],
   "source": [
    "[M1 DataFrame(A=[1,2,3,4,5])] #at last"
   ]
  },
  {
   "cell_type": "code",
   "execution_count": 96,
   "id": "9b7863dd",
   "metadata": {},
   "outputs": [
    {
     "data": {
      "text/html": [
       "<table class=\"data-frame\"><thead><tr><th></th><th>A</th><th>c1</th><th>c2</th><th>c3</th><th>c4</th></tr><tr><th></th><th>Int64</th><th>Float64</th><th>Float64</th><th>Float64</th><th>Float64</th></tr></thead><tbody><p>5 rows × 5 columns</p><tr><th>1</th><td>1</td><td>0.517341</td><td>0.337742</td><td>0.736594</td><td>0.747265</td></tr><tr><th>2</th><td>2</td><td>0.0531338</td><td>0.199773</td><td>0.982529</td><td>0.0827807</td></tr><tr><th>3</th><td>3</td><td>0.841607</td><td>0.984159</td><td>0.968802</td><td>0.839925</td></tr><tr><th>4</th><td>4</td><td>0.966777</td><td>0.285747</td><td>0.418868</td><td>0.0365868</td></tr><tr><th>5</th><td>5</td><td>0.954417</td><td>0.350305</td><td>0.64256</td><td>0.460602</td></tr></tbody></table>"
      ],
      "text/latex": [
       "\\begin{tabular}{r|ccccc}\n",
       "\t& A & c1 & c2 & c3 & c4\\\\\n",
       "\t\\hline\n",
       "\t& Int64 & Float64 & Float64 & Float64 & Float64\\\\\n",
       "\t\\hline\n",
       "\t1 & 1 & 0.517341 & 0.337742 & 0.736594 & 0.747265 \\\\\n",
       "\t2 & 2 & 0.0531338 & 0.199773 & 0.982529 & 0.0827807 \\\\\n",
       "\t3 & 3 & 0.841607 & 0.984159 & 0.968802 & 0.839925 \\\\\n",
       "\t4 & 4 & 0.966777 & 0.285747 & 0.418868 & 0.0365868 \\\\\n",
       "\t5 & 5 & 0.954417 & 0.350305 & 0.64256 & 0.460602 \\\\\n",
       "\\end{tabular}\n"
      ],
      "text/plain": [
       "5×5 typename(DataFrame)\n",
       "│ Row │ A     │ c1        │ c2       │ c3       │ c4        │\n",
       "│     │ \u001b[90mInt64\u001b[39m │ \u001b[90mFloat64\u001b[39m   │ \u001b[90mFloat64\u001b[39m  │ \u001b[90mFloat64\u001b[39m  │ \u001b[90mFloat64\u001b[39m   │\n",
       "├─────┼───────┼───────────┼──────────┼──────────┼───────────┤\n",
       "│ 1   │ 1     │ 0.517341  │ 0.337742 │ 0.736594 │ 0.747265  │\n",
       "│ 2   │ 2     │ 0.0531338 │ 0.199773 │ 0.982529 │ 0.0827807 │\n",
       "│ 3   │ 3     │ 0.841607  │ 0.984159 │ 0.968802 │ 0.839925  │\n",
       "│ 4   │ 4     │ 0.966777  │ 0.285747 │ 0.418868 │ 0.0365868 │\n",
       "│ 5   │ 5     │ 0.954417  │ 0.350305 │ 0.64256  │ 0.460602  │"
      ]
     },
     "execution_count": 96,
     "metadata": {},
     "output_type": "execute_result"
    }
   ],
   "source": [
    "[DataFrame(A=[1,2,3,4,5]) M1] #at first"
   ]
  },
  {
   "cell_type": "code",
   "execution_count": 97,
   "id": "26196956",
   "metadata": {},
   "outputs": [
    {
     "data": {
      "text/html": [
       "<table class=\"data-frame\"><thead><tr><th></th><th>c1</th><th>c2</th><th>newcol</th><th>c3</th><th>c4</th></tr><tr><th></th><th>Float64</th><th>Float64</th><th>Int64</th><th>Float64</th><th>Float64</th></tr></thead><tbody><p>5 rows × 5 columns</p><tr><th>1</th><td>0.517341</td><td>0.337742</td><td>1</td><td>0.736594</td><td>0.747265</td></tr><tr><th>2</th><td>0.0531338</td><td>0.199773</td><td>2</td><td>0.982529</td><td>0.0827807</td></tr><tr><th>3</th><td>0.841607</td><td>0.984159</td><td>3</td><td>0.968802</td><td>0.839925</td></tr><tr><th>4</th><td>0.966777</td><td>0.285747</td><td>4</td><td>0.418868</td><td>0.0365868</td></tr><tr><th>5</th><td>0.954417</td><td>0.350305</td><td>5</td><td>0.64256</td><td>0.460602</td></tr></tbody></table>"
      ],
      "text/latex": [
       "\\begin{tabular}{r|ccccc}\n",
       "\t& c1 & c2 & newcol & c3 & c4\\\\\n",
       "\t\\hline\n",
       "\t& Float64 & Float64 & Int64 & Float64 & Float64\\\\\n",
       "\t\\hline\n",
       "\t1 & 0.517341 & 0.337742 & 1 & 0.736594 & 0.747265 \\\\\n",
       "\t2 & 0.0531338 & 0.199773 & 2 & 0.982529 & 0.0827807 \\\\\n",
       "\t3 & 0.841607 & 0.984159 & 3 & 0.968802 & 0.839925 \\\\\n",
       "\t4 & 0.966777 & 0.285747 & 4 & 0.418868 & 0.0365868 \\\\\n",
       "\t5 & 0.954417 & 0.350305 & 5 & 0.64256 & 0.460602 \\\\\n",
       "\\end{tabular}\n"
      ],
      "text/plain": [
       "5×5 typename(DataFrame)\n",
       "│ Row │ c1        │ c2       │ newcol │ c3       │ c4        │\n",
       "│     │ \u001b[90mFloat64\u001b[39m   │ \u001b[90mFloat64\u001b[39m  │ \u001b[90mInt64\u001b[39m  │ \u001b[90mFloat64\u001b[39m  │ \u001b[90mFloat64\u001b[39m   │\n",
       "├─────┼───────────┼──────────┼────────┼──────────┼───────────┤\n",
       "│ 1   │ 0.517341  │ 0.337742 │ 1      │ 0.736594 │ 0.747265  │\n",
       "│ 2   │ 0.0531338 │ 0.199773 │ 2      │ 0.982529 │ 0.0827807 │\n",
       "│ 3   │ 0.841607  │ 0.984159 │ 3      │ 0.968802 │ 0.839925  │\n",
       "│ 4   │ 0.966777  │ 0.285747 │ 4      │ 0.418868 │ 0.0365868 │\n",
       "│ 5   │ 0.954417  │ 0.350305 │ 5      │ 0.64256  │ 0.460602  │"
      ]
     },
     "execution_count": 97,
     "metadata": {},
     "output_type": "execute_result"
    }
   ],
   "source": [
    "insertcols!(M1, 3 ,newcol=[1,2,3,4,5] ) # between 2 and 3"
   ]
  },
  {
   "cell_type": "code",
   "execution_count": 99,
   "id": "d014ad3a",
   "metadata": {},
   "outputs": [
    {
     "data": {
      "text/html": [
       "<table class=\"data-frame\"><thead><tr><th></th><th>c2</th><th>c3</th></tr><tr><th></th><th>Float64</th><th>Float64</th></tr></thead><tbody><p>5 rows × 2 columns</p><tr><th>1</th><td>0.337742</td><td>0.736594</td></tr><tr><th>2</th><td>0.199773</td><td>0.982529</td></tr><tr><th>3</th><td>0.984159</td><td>0.968802</td></tr><tr><th>4</th><td>0.285747</td><td>0.418868</td></tr><tr><th>5</th><td>0.350305</td><td>0.64256</td></tr></tbody></table>"
      ],
      "text/latex": [
       "\\begin{tabular}{r|cc}\n",
       "\t& c2 & c3\\\\\n",
       "\t\\hline\n",
       "\t& Float64 & Float64\\\\\n",
       "\t\\hline\n",
       "\t1 & 0.337742 & 0.736594 \\\\\n",
       "\t2 & 0.199773 & 0.982529 \\\\\n",
       "\t3 & 0.984159 & 0.968802 \\\\\n",
       "\t4 & 0.285747 & 0.418868 \\\\\n",
       "\t5 & 0.350305 & 0.64256 \\\\\n",
       "\\end{tabular}\n"
      ],
      "text/plain": [
       "5×2 typename(DataFrame)\n",
       "│ Row │ c2       │ c3       │\n",
       "│     │ \u001b[90mFloat64\u001b[39m  │ \u001b[90mFloat64\u001b[39m  │\n",
       "├─────┼──────────┼──────────┤\n",
       "│ 1   │ 0.337742 │ 0.736594 │\n",
       "│ 2   │ 0.199773 │ 0.982529 │\n",
       "│ 3   │ 0.984159 │ 0.968802 │\n",
       "│ 4   │ 0.285747 │ 0.418868 │\n",
       "│ 5   │ 0.350305 │ 0.64256  │"
      ]
     },
     "execution_count": 99,
     "metadata": {},
     "output_type": "execute_result"
    }
   ],
   "source": [
    "M1[:,[:c2, :c3]]"
   ]
  },
  {
   "cell_type": "code",
   "execution_count": 100,
   "id": "8a49c1b4",
   "metadata": {},
   "outputs": [
    {
     "data": {
      "text/html": [
       "<table class=\"data-frame\"><thead><tr><th></th><th>c1</th><th>c2</th><th>newcol</th><th>c3</th><th>c4</th></tr><tr><th></th><th>Float64</th><th>Float64</th><th>Int64</th><th>Float64</th><th>Float64</th></tr></thead><tbody><p>5 rows × 5 columns</p><tr><th>1</th><td>0.517341</td><td>0.337742</td><td>1</td><td>0.736594</td><td>0.747265</td></tr><tr><th>2</th><td>0.0531338</td><td>0.199773</td><td>2</td><td>0.982529</td><td>0.0827807</td></tr><tr><th>3</th><td>0.841607</td><td>0.984159</td><td>3</td><td>0.968802</td><td>0.839925</td></tr><tr><th>4</th><td>0.966777</td><td>0.285747</td><td>4</td><td>0.418868</td><td>0.0365868</td></tr><tr><th>5</th><td>0.954417</td><td>0.350305</td><td>5</td><td>0.64256</td><td>0.460602</td></tr></tbody></table>"
      ],
      "text/latex": [
       "\\begin{tabular}{r|ccccc}\n",
       "\t& c1 & c2 & newcol & c3 & c4\\\\\n",
       "\t\\hline\n",
       "\t& Float64 & Float64 & Int64 & Float64 & Float64\\\\\n",
       "\t\\hline\n",
       "\t1 & 0.517341 & 0.337742 & 1 & 0.736594 & 0.747265 \\\\\n",
       "\t2 & 0.0531338 & 0.199773 & 2 & 0.982529 & 0.0827807 \\\\\n",
       "\t3 & 0.841607 & 0.984159 & 3 & 0.968802 & 0.839925 \\\\\n",
       "\t4 & 0.966777 & 0.285747 & 4 & 0.418868 & 0.0365868 \\\\\n",
       "\t5 & 0.954417 & 0.350305 & 5 & 0.64256 & 0.460602 \\\\\n",
       "\\end{tabular}\n"
      ],
      "text/plain": [
       "5×5 typename(DataFrame)\n",
       "│ Row │ c1        │ c2       │ newcol │ c3       │ c4        │\n",
       "│     │ \u001b[90mFloat64\u001b[39m   │ \u001b[90mFloat64\u001b[39m  │ \u001b[90mInt64\u001b[39m  │ \u001b[90mFloat64\u001b[39m  │ \u001b[90mFloat64\u001b[39m   │\n",
       "├─────┼───────────┼──────────┼────────┼──────────┼───────────┤\n",
       "│ 1   │ 0.517341  │ 0.337742 │ 1      │ 0.736594 │ 0.747265  │\n",
       "│ 2   │ 0.0531338 │ 0.199773 │ 2      │ 0.982529 │ 0.0827807 │\n",
       "│ 3   │ 0.841607  │ 0.984159 │ 3      │ 0.968802 │ 0.839925  │\n",
       "│ 4   │ 0.966777  │ 0.285747 │ 4      │ 0.418868 │ 0.0365868 │\n",
       "│ 5   │ 0.954417  │ 0.350305 │ 5      │ 0.64256  │ 0.460602  │"
      ]
     },
     "execution_count": 100,
     "metadata": {},
     "output_type": "execute_result"
    }
   ],
   "source": [
    "cp_M1 = copy(M1) #two different datframe at two different location"
   ]
  },
  {
   "cell_type": "code",
   "execution_count": 101,
   "id": "c9209898",
   "metadata": {},
   "outputs": [
    {
     "data": {
      "text/plain": [
       "true"
      ]
     },
     "execution_count": 101,
     "metadata": {},
     "output_type": "execute_result"
    }
   ],
   "source": [
    "M1 == cp_M1"
   ]
  },
  {
   "cell_type": "code",
   "execution_count": 103,
   "id": "5ce23691",
   "metadata": {},
   "outputs": [
    {
     "data": {
      "text/html": [
       "<table class=\"data-frame\"><thead><tr><th></th><th>c1</th><th>c2</th><th>newcol</th><th>c3</th><th>c4</th></tr><tr><th></th><th>Float64</th><th>Float64</th><th>Int64</th><th>Float64</th><th>Float64</th></tr></thead><tbody><p>5 rows × 5 columns</p><tr><th>1</th><td>0.0531338</td><td>0.199773</td><td>2</td><td>0.982529</td><td>0.0827807</td></tr><tr><th>2</th><td>0.517341</td><td>0.337742</td><td>1</td><td>0.736594</td><td>0.747265</td></tr><tr><th>3</th><td>0.841607</td><td>0.984159</td><td>3</td><td>0.968802</td><td>0.839925</td></tr><tr><th>4</th><td>0.954417</td><td>0.350305</td><td>5</td><td>0.64256</td><td>0.460602</td></tr><tr><th>5</th><td>0.966777</td><td>0.285747</td><td>4</td><td>0.418868</td><td>0.0365868</td></tr></tbody></table>"
      ],
      "text/latex": [
       "\\begin{tabular}{r|ccccc}\n",
       "\t& c1 & c2 & newcol & c3 & c4\\\\\n",
       "\t\\hline\n",
       "\t& Float64 & Float64 & Int64 & Float64 & Float64\\\\\n",
       "\t\\hline\n",
       "\t1 & 0.0531338 & 0.199773 & 2 & 0.982529 & 0.0827807 \\\\\n",
       "\t2 & 0.517341 & 0.337742 & 1 & 0.736594 & 0.747265 \\\\\n",
       "\t3 & 0.841607 & 0.984159 & 3 & 0.968802 & 0.839925 \\\\\n",
       "\t4 & 0.954417 & 0.350305 & 5 & 0.64256 & 0.460602 \\\\\n",
       "\t5 & 0.966777 & 0.285747 & 4 & 0.418868 & 0.0365868 \\\\\n",
       "\\end{tabular}\n"
      ],
      "text/plain": [
       "5×5 typename(DataFrame)\n",
       "│ Row │ c1        │ c2       │ newcol │ c3       │ c4        │\n",
       "│     │ \u001b[90mFloat64\u001b[39m   │ \u001b[90mFloat64\u001b[39m  │ \u001b[90mInt64\u001b[39m  │ \u001b[90mFloat64\u001b[39m  │ \u001b[90mFloat64\u001b[39m   │\n",
       "├─────┼───────────┼──────────┼────────┼──────────┼───────────┤\n",
       "│ 1   │ 0.0531338 │ 0.199773 │ 2      │ 0.982529 │ 0.0827807 │\n",
       "│ 2   │ 0.517341  │ 0.337742 │ 1      │ 0.736594 │ 0.747265  │\n",
       "│ 3   │ 0.841607  │ 0.984159 │ 3      │ 0.968802 │ 0.839925  │\n",
       "│ 4   │ 0.954417  │ 0.350305 │ 5      │ 0.64256  │ 0.460602  │\n",
       "│ 5   │ 0.966777  │ 0.285747 │ 4      │ 0.418868 │ 0.0365868 │"
      ]
     },
     "execution_count": 103,
     "metadata": {},
     "output_type": "execute_result"
    }
   ],
   "source": [
    "sort(M1, :c1)"
   ]
  },
  {
   "cell_type": "code",
   "execution_count": 104,
   "id": "232ec28c",
   "metadata": {},
   "outputs": [
    {
     "data": {
      "text/html": [
       "<table class=\"data-frame\"><thead><tr><th></th><th>c1</th><th>c2</th><th>newcol</th><th>c3</th><th>c4</th></tr><tr><th></th><th>Float64</th><th>Float64</th><th>Int64</th><th>Float64</th><th>Float64</th></tr></thead><tbody><p>4 rows × 5 columns</p><tr><th>1</th><td>0.517341</td><td>0.337742</td><td>1</td><td>0.736594</td><td>0.747265</td></tr><tr><th>2</th><td>0.0531338</td><td>0.199773</td><td>2</td><td>0.982529</td><td>0.0827807</td></tr><tr><th>3</th><td>0.841607</td><td>0.984159</td><td>3</td><td>0.968802</td><td>0.839925</td></tr><tr><th>4</th><td>0.954417</td><td>0.350305</td><td>5</td><td>0.64256</td><td>0.460602</td></tr></tbody></table>"
      ],
      "text/latex": [
       "\\begin{tabular}{r|ccccc}\n",
       "\t& c1 & c2 & newcol & c3 & c4\\\\\n",
       "\t\\hline\n",
       "\t& Float64 & Float64 & Int64 & Float64 & Float64\\\\\n",
       "\t\\hline\n",
       "\t1 & 0.517341 & 0.337742 & 1 & 0.736594 & 0.747265 \\\\\n",
       "\t2 & 0.0531338 & 0.199773 & 2 & 0.982529 & 0.0827807 \\\\\n",
       "\t3 & 0.841607 & 0.984159 & 3 & 0.968802 & 0.839925 \\\\\n",
       "\t4 & 0.954417 & 0.350305 & 5 & 0.64256 & 0.460602 \\\\\n",
       "\\end{tabular}\n"
      ],
      "text/plain": [
       "4×5 typename(DataFrame)\n",
       "│ Row │ c1        │ c2       │ newcol │ c3       │ c4        │\n",
       "│     │ \u001b[90mFloat64\u001b[39m   │ \u001b[90mFloat64\u001b[39m  │ \u001b[90mInt64\u001b[39m  │ \u001b[90mFloat64\u001b[39m  │ \u001b[90mFloat64\u001b[39m   │\n",
       "├─────┼───────────┼──────────┼────────┼──────────┼───────────┤\n",
       "│ 1   │ 0.517341  │ 0.337742 │ 1      │ 0.736594 │ 0.747265  │\n",
       "│ 2   │ 0.0531338 │ 0.199773 │ 2      │ 0.982529 │ 0.0827807 │\n",
       "│ 3   │ 0.841607  │ 0.984159 │ 3      │ 0.968802 │ 0.839925  │\n",
       "│ 4   │ 0.954417  │ 0.350305 │ 5      │ 0.64256  │ 0.460602  │"
      ]
     },
     "execution_count": 104,
     "metadata": {},
     "output_type": "execute_result"
    }
   ],
   "source": [
    "deleterows!(M1, 4)"
   ]
  },
  {
   "cell_type": "code",
   "execution_count": 105,
   "id": "2dd7e2bb",
   "metadata": {},
   "outputs": [
    {
     "data": {
      "text/html": [
       "<table class=\"data-frame\"><thead><tr><th></th><th>c1</th><th>newcol</th><th>c3</th><th>c4</th></tr><tr><th></th><th>Float64</th><th>Int64</th><th>Float64</th><th>Float64</th></tr></thead><tbody><p>4 rows × 4 columns</p><tr><th>1</th><td>0.517341</td><td>1</td><td>0.736594</td><td>0.747265</td></tr><tr><th>2</th><td>0.0531338</td><td>2</td><td>0.982529</td><td>0.0827807</td></tr><tr><th>3</th><td>0.841607</td><td>3</td><td>0.968802</td><td>0.839925</td></tr><tr><th>4</th><td>0.954417</td><td>5</td><td>0.64256</td><td>0.460602</td></tr></tbody></table>"
      ],
      "text/latex": [
       "\\begin{tabular}{r|cccc}\n",
       "\t& c1 & newcol & c3 & c4\\\\\n",
       "\t\\hline\n",
       "\t& Float64 & Int64 & Float64 & Float64\\\\\n",
       "\t\\hline\n",
       "\t1 & 0.517341 & 1 & 0.736594 & 0.747265 \\\\\n",
       "\t2 & 0.0531338 & 2 & 0.982529 & 0.0827807 \\\\\n",
       "\t3 & 0.841607 & 3 & 0.968802 & 0.839925 \\\\\n",
       "\t4 & 0.954417 & 5 & 0.64256 & 0.460602 \\\\\n",
       "\\end{tabular}\n"
      ],
      "text/plain": [
       "4×4 typename(DataFrame)\n",
       "│ Row │ c1        │ newcol │ c3       │ c4        │\n",
       "│     │ \u001b[90mFloat64\u001b[39m   │ \u001b[90mInt64\u001b[39m  │ \u001b[90mFloat64\u001b[39m  │ \u001b[90mFloat64\u001b[39m   │\n",
       "├─────┼───────────┼────────┼──────────┼───────────┤\n",
       "│ 1   │ 0.517341  │ 1      │ 0.736594 │ 0.747265  │\n",
       "│ 2   │ 0.0531338 │ 2      │ 0.982529 │ 0.0827807 │\n",
       "│ 3   │ 0.841607  │ 3      │ 0.968802 │ 0.839925  │\n",
       "│ 4   │ 0.954417  │ 5      │ 0.64256  │ 0.460602  │"
      ]
     },
     "execution_count": 105,
     "metadata": {},
     "output_type": "execute_result"
    }
   ],
   "source": [
    "deletecols!(M1, :c2)"
   ]
  },
  {
   "cell_type": "code",
   "execution_count": 107,
   "id": "584003a4",
   "metadata": {},
   "outputs": [
    {
     "data": {
      "text/html": [
       "<table class=\"data-frame\"><thead><tr><th></th><th>c1</th><th>newcol</th><th>c3</th><th>c4</th></tr><tr><th></th><th>Float64</th><th>Int64</th><th>Float64</th><th>Float64</th></tr></thead><tbody><p>2 rows × 4 columns</p><tr><th>1</th><td>0.841607</td><td>3</td><td>0.968802</td><td>0.839925</td></tr><tr><th>2</th><td>0.954417</td><td>5</td><td>0.64256</td><td>0.460602</td></tr></tbody></table>"
      ],
      "text/latex": [
       "\\begin{tabular}{r|cccc}\n",
       "\t& c1 & newcol & c3 & c4\\\\\n",
       "\t\\hline\n",
       "\t& Float64 & Int64 & Float64 & Float64\\\\\n",
       "\t\\hline\n",
       "\t1 & 0.841607 & 3 & 0.968802 & 0.839925 \\\\\n",
       "\t2 & 0.954417 & 5 & 0.64256 & 0.460602 \\\\\n",
       "\\end{tabular}\n"
      ],
      "text/plain": [
       "2×4 typename(DataFrame)\n",
       "│ Row │ c1       │ newcol │ c3       │ c4       │\n",
       "│     │ \u001b[90mFloat64\u001b[39m  │ \u001b[90mInt64\u001b[39m  │ \u001b[90mFloat64\u001b[39m  │ \u001b[90mFloat64\u001b[39m  │\n",
       "├─────┼──────────┼────────┼──────────┼──────────┤\n",
       "│ 1   │ 0.841607 │ 3      │ 0.968802 │ 0.839925 │\n",
       "│ 2   │ 0.954417 │ 5      │ 0.64256  │ 0.460602 │"
      ]
     },
     "execution_count": 107,
     "metadata": {},
     "output_type": "execute_result"
    }
   ],
   "source": [
    "filter(r -> r.c1 > 0.7, M1)"
   ]
  },
  {
   "cell_type": "code",
   "execution_count": null,
   "id": "73e4f97f",
   "metadata": {},
   "outputs": [],
   "source": []
  }
 ],
 "metadata": {
  "kernelspec": {
   "display_name": "Julia 1.6.1",
   "language": "julia",
   "name": "julia-1.6"
  },
  "language_info": {
   "file_extension": ".jl",
   "mimetype": "application/julia",
   "name": "julia",
   "version": "1.6.1"
  }
 },
 "nbformat": 4,
 "nbformat_minor": 5
}
