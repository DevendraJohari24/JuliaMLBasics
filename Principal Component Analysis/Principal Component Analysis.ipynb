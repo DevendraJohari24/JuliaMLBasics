{
 "cells": [
  {
   "cell_type": "code",
   "execution_count": 4,
   "id": "190bee1d",
   "metadata": {},
   "outputs": [],
   "source": [
    "using MultivariateStats,  RDatasets, Plots"
   ]
  },
  {
   "cell_type": "code",
   "execution_count": 2,
   "id": "b100d930",
   "metadata": {},
   "outputs": [],
   "source": [
    "using Pkg"
   ]
  },
  {
   "cell_type": "code",
   "execution_count": 3,
   "id": "5e43cf9d",
   "metadata": {},
   "outputs": [],
   "source": [
    "Pkg.add(\"MultivariateStats\")"
   ]
  },
  {
   "cell_type": "code",
   "execution_count": null,
   "id": "a2e79bac",
   "metadata": {},
   "outputs": [],
   "source": []
  }
 ],
 "metadata": {
  "kernelspec": {
   "display_name": "Julia 1.6.1",
   "language": "julia",
   "name": "julia-1.6"
  },
  "language_info": {
   "file_extension": ".jl",
   "mimetype": "application/julia",
   "name": "julia",
   "version": "1.6.1"
  }
 },
 "nbformat": 4,
 "nbformat_minor": 5
}
