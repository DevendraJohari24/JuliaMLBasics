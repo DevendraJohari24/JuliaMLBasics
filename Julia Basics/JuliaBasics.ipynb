{
 "cells": [
  {
   "cell_type": "markdown",
   "id": "e6717fce",
   "metadata": {},
   "source": [
    "## Numbers, Variable & Comment"
   ]
  },
  {
   "cell_type": "code",
   "execution_count": 1,
   "id": "9618064a",
   "metadata": {},
   "outputs": [
    {
     "data": {
      "text/plain": [
       "42"
      ]
     },
     "execution_count": 1,
     "metadata": {},
     "output_type": "execute_result"
    }
   ],
   "source": [
    "42"
   ]
  },
  {
   "cell_type": "code",
   "execution_count": 2,
   "id": "b8043f82",
   "metadata": {},
   "outputs": [
    {
     "data": {
      "text/plain": [
       "4.4"
      ]
     },
     "execution_count": 2,
     "metadata": {},
     "output_type": "execute_result"
    }
   ],
   "source": [
    "4.4"
   ]
  },
  {
   "cell_type": "code",
   "execution_count": 3,
   "id": "bd26682e",
   "metadata": {},
   "outputs": [
    {
     "data": {
      "text/plain": [
       "Int64"
      ]
     },
     "execution_count": 3,
     "metadata": {},
     "output_type": "execute_result"
    }
   ],
   "source": [
    "typeof(42)"
   ]
  },
  {
   "cell_type": "code",
   "execution_count": 4,
   "id": "7ad7a8d4",
   "metadata": {},
   "outputs": [
    {
     "data": {
      "text/plain": [
       "Float64"
      ]
     },
     "execution_count": 4,
     "metadata": {},
     "output_type": "execute_result"
    }
   ],
   "source": [
    "typeof(4.4)"
   ]
  },
  {
   "cell_type": "code",
   "execution_count": 5,
   "id": "e8c661f5",
   "metadata": {},
   "outputs": [
    {
     "data": {
      "text/plain": [
       "45"
      ]
     },
     "execution_count": 5,
     "metadata": {},
     "output_type": "execute_result"
    }
   ],
   "source": [
    "3 + 6 *7 "
   ]
  },
  {
   "cell_type": "code",
   "execution_count": 6,
   "id": "0f717fb1",
   "metadata": {},
   "outputs": [
    {
     "data": {
      "text/plain": [
       "0.05357142857142857"
      ]
     },
     "execution_count": 6,
     "metadata": {},
     "output_type": "execute_result"
    }
   ],
   "source": [
    "3/56"
   ]
  },
  {
   "cell_type": "code",
   "execution_count": 7,
   "id": "32b41994",
   "metadata": {},
   "outputs": [
    {
     "data": {
      "text/plain": [
       "34"
      ]
     },
     "execution_count": 7,
     "metadata": {},
     "output_type": "execute_result"
    }
   ],
   "source": [
    "grade = 34"
   ]
  },
  {
   "cell_type": "code",
   "execution_count": 8,
   "id": "ca769f36",
   "metadata": {},
   "outputs": [
    {
     "data": {
      "text/plain": [
       "34"
      ]
     },
     "execution_count": 8,
     "metadata": {},
     "output_type": "execute_result"
    }
   ],
   "source": [
    "grade"
   ]
  },
  {
   "cell_type": "code",
   "execution_count": 9,
   "id": "0db341c4",
   "metadata": {},
   "outputs": [
    {
     "name": "stdout",
     "output_type": "stream",
     "text": [
      "34\n"
     ]
    }
   ],
   "source": [
    "println(grade)"
   ]
  },
  {
   "cell_type": "code",
   "execution_count": 10,
   "id": "bbbebb86",
   "metadata": {},
   "outputs": [
    {
     "data": {
      "text/plain": [
       "4"
      ]
     },
     "execution_count": 10,
     "metadata": {},
     "output_type": "execute_result"
    }
   ],
   "source": [
    "rank = 4"
   ]
  },
  {
   "cell_type": "code",
   "execution_count": 11,
   "id": "b4037993",
   "metadata": {},
   "outputs": [
    {
     "data": {
      "text/plain": [
       "38"
      ]
     },
     "execution_count": 11,
     "metadata": {},
     "output_type": "execute_result"
    }
   ],
   "source": [
    "grade + rank "
   ]
  },
  {
   "cell_type": "code",
   "execution_count": 12,
   "id": "9d4f126d",
   "metadata": {},
   "outputs": [
    {
     "data": {
      "text/plain": [
       "Int64"
      ]
     },
     "execution_count": 12,
     "metadata": {},
     "output_type": "execute_result"
    }
   ],
   "source": [
    "typeof(rank)"
   ]
  },
  {
   "cell_type": "code",
   "execution_count": 13,
   "id": "26ee7690",
   "metadata": {},
   "outputs": [
    {
     "data": {
      "text/plain": [
       "π = 3.1415926535897..."
      ]
     },
     "execution_count": 13,
     "metadata": {},
     "output_type": "execute_result"
    }
   ],
   "source": [
    "pi"
   ]
  },
  {
   "cell_type": "code",
   "execution_count": 14,
   "id": "72a991d6",
   "metadata": {},
   "outputs": [
    {
     "data": {
      "text/plain": [
       "1"
      ]
     },
     "execution_count": 14,
     "metadata": {},
     "output_type": "execute_result"
    }
   ],
   "source": [
    "100 % 3"
   ]
  },
  {
   "cell_type": "code",
   "execution_count": 15,
   "id": "405279d9",
   "metadata": {},
   "outputs": [
    {
     "data": {
      "text/plain": [
       "8"
      ]
     },
     "execution_count": 15,
     "metadata": {},
     "output_type": "execute_result"
    }
   ],
   "source": [
    "2^3"
   ]
  },
  {
   "cell_type": "code",
   "execution_count": 16,
   "id": "d0fdf1ed",
   "metadata": {},
   "outputs": [],
   "source": [
    "# Single line comment"
   ]
  },
  {
   "cell_type": "code",
   "execution_count": 18,
   "id": "3d2481fa",
   "metadata": {},
   "outputs": [],
   "source": [
    "#= 1st\n",
    "2nd\n",
    "3rd \n",
    "Multiline Comment\n",
    "=#"
   ]
  },
  {
   "cell_type": "markdown",
   "id": "d6c19535",
   "metadata": {},
   "source": [
    "## String"
   ]
  },
  {
   "cell_type": "code",
   "execution_count": 19,
   "id": "19b92e15",
   "metadata": {},
   "outputs": [
    {
     "data": {
      "text/plain": [
       "\"This is Julia\""
      ]
     },
     "execution_count": 19,
     "metadata": {},
     "output_type": "execute_result"
    }
   ],
   "source": [
    "\"This is Julia\""
   ]
  },
  {
   "cell_type": "code",
   "execution_count": 20,
   "id": "a8e07efa",
   "metadata": {},
   "outputs": [
    {
     "data": {
      "text/plain": [
       "\"This is Julia\""
      ]
     },
     "execution_count": 20,
     "metadata": {},
     "output_type": "execute_result"
    }
   ],
   "source": [
    "s1 = \"This is Julia\""
   ]
  },
  {
   "cell_type": "code",
   "execution_count": 21,
   "id": "1fef21be",
   "metadata": {},
   "outputs": [
    {
     "data": {
      "text/plain": [
       "String"
      ]
     },
     "execution_count": 21,
     "metadata": {},
     "output_type": "execute_result"
    }
   ],
   "source": [
    "typeof(s1)"
   ]
  },
  {
   "cell_type": "code",
   "execution_count": 23,
   "id": "d92169ac",
   "metadata": {},
   "outputs": [
    {
     "data": {
      "text/plain": [
       "\"This is Multi Line \\nComment\\n\""
      ]
     },
     "execution_count": 23,
     "metadata": {},
     "output_type": "execute_result"
    }
   ],
   "source": [
    "s2 = \"\"\"\n",
    "This is Multi Line \n",
    "Comment\n",
    "\"\"\""
   ]
  },
  {
   "cell_type": "code",
   "execution_count": 24,
   "id": "018678cb",
   "metadata": {},
   "outputs": [
    {
     "name": "stdout",
     "output_type": "stream",
     "text": [
      "This is Multi Line \n",
      "Comment\n",
      "\n"
     ]
    }
   ],
   "source": [
    "println(s2)"
   ]
  },
  {
   "cell_type": "code",
   "execution_count": 25,
   "id": "5191465a",
   "metadata": {},
   "outputs": [
    {
     "data": {
      "text/plain": [
       "\"It \\\"is\\\" raining outside \""
      ]
     },
     "execution_count": 25,
     "metadata": {},
     "output_type": "execute_result"
    }
   ],
   "source": [
    "\"\"\"It \"is\" raining outside \"\"\""
   ]
  },
  {
   "cell_type": "code",
   "execution_count": 26,
   "id": "6102e967",
   "metadata": {},
   "outputs": [
    {
     "name": "stdout",
     "output_type": "stream",
     "text": [
      "My grade is 34\n"
     ]
    }
   ],
   "source": [
    "println(\"My grade is $grade\")"
   ]
  },
  {
   "cell_type": "code",
   "execution_count": 27,
   "id": "4ac9c2f7",
   "metadata": {},
   "outputs": [
    {
     "name": "stdout",
     "output_type": "stream",
     "text": [
      "My grade is 34\n"
     ]
    }
   ],
   "source": [
    "println(\"My grade is $(grade)\")"
   ]
  },
  {
   "cell_type": "code",
   "execution_count": 28,
   "id": "9130d4f1",
   "metadata": {},
   "outputs": [
    {
     "data": {
      "text/plain": [
       "\"Julia\""
      ]
     },
     "execution_count": 28,
     "metadata": {},
     "output_type": "execute_result"
    }
   ],
   "source": [
    "m1 = \" I love\"\n",
    "m2 = \"Julia\""
   ]
  },
  {
   "cell_type": "code",
   "execution_count": 29,
   "id": "5cc9344d",
   "metadata": {},
   "outputs": [],
   "source": [
    "m1 = \" I love\"\n",
    "m2 = \"Julia\"; # use when dont want to print output on executing"
   ]
  },
  {
   "cell_type": "code",
   "execution_count": 30,
   "id": "17a5f77f",
   "metadata": {},
   "outputs": [
    {
     "data": {
      "text/plain": [
       "\" I loveJulia\""
      ]
     },
     "execution_count": 30,
     "metadata": {},
     "output_type": "execute_result"
    }
   ],
   "source": [
    "string(m1,m2) #concatenation"
   ]
  },
  {
   "cell_type": "code",
   "execution_count": 31,
   "id": "4ef1bc79",
   "metadata": {},
   "outputs": [
    {
     "data": {
      "text/plain": [
       "\"ILoveYou\""
      ]
     },
     "execution_count": 31,
     "metadata": {},
     "output_type": "execute_result"
    }
   ],
   "source": [
    "string(\"I\" , \"Love\", \"You\")"
   ]
  },
  {
   "cell_type": "code",
   "execution_count": 32,
   "id": "9d33f748",
   "metadata": {},
   "outputs": [
    {
     "data": {
      "text/plain": [
       "\"JuliaJuliaJuliaJuliaJuliaJuliaJuliaJuliaJuliaJuliaJuliaJuliaJuliaJuliaJuliaJuliaJuliaJuliaJuliaJuliaJuliaJuliaJuliaJuliaJuliaJuliaJuliaJuliaJuliaJuliaJuliaJuliaJuliaJuliaJuliaJuliaJuliaJuliaJuliaJuliaJuliaJuliaJuliaJuliaJuliaJuliaJuliaJuliaJuliaJuliaJuliaJuliaJuliaJuliaJuliaJuliaJuliaJuliaJuliaJuliaJuliaJuliaJuliaJuliaJuliaJuliaJuliaJuliaJuliaJuliaJuliaJuliaJuliaJuliaJuliaJuliaJuliaJuliaJuliaJuliaJuliaJuliaJuliaJuliaJuliaJuliaJuliaJuliaJuliaJuliaJuliaJuliaJuliaJuliaJuliaJuliaJuliaJuliaJuliaJulia\""
      ]
     },
     "execution_count": 32,
     "metadata": {},
     "output_type": "execute_result"
    }
   ],
   "source": [
    "m2^100"
   ]
  },
  {
   "cell_type": "code",
   "execution_count": 33,
   "id": "1c3b0ce7",
   "metadata": {},
   "outputs": [
    {
     "data": {
      "text/plain": [
       "\"DevDevDevDevDevDevDevDevDevDevDevDevDevDevDevDevDevDevDevDevDevDevDevDevDevDevDevDevDevDevDevDevDevDevDevDevDevDevDevDevDevDevDevDevDevDevDevDevDevDevDevDevDevDevDevDevDevDevDevDevDevDevDevDevDevDevDevDevDevDevDevDevDevDevDevDevDevDevDevDevDevDevDevDevDevDevDevDevDevDevDevDevDevDevDevDevDevDevDevDev\""
      ]
     },
     "execution_count": 33,
     "metadata": {},
     "output_type": "execute_result"
    }
   ],
   "source": [
    "\"Dev\" ^ 100"
   ]
  },
  {
   "cell_type": "code",
   "execution_count": 34,
   "id": "04f79cbd",
   "metadata": {},
   "outputs": [
    {
     "data": {
      "text/plain": [
       "' ': ASCII/Unicode U+0020 (category Zs: Separator, space)"
      ]
     },
     "execution_count": 34,
     "metadata": {},
     "output_type": "execute_result"
    }
   ],
   "source": [
    "m1[1]"
   ]
  },
  {
   "cell_type": "code",
   "execution_count": 35,
   "id": "90257245",
   "metadata": {},
   "outputs": [
    {
     "data": {
      "text/plain": [
       "'I': ASCII/Unicode U+0049 (category Lu: Letter, uppercase)"
      ]
     },
     "execution_count": 35,
     "metadata": {},
     "output_type": "execute_result"
    }
   ],
   "source": [
    "m1[2]"
   ]
  },
  {
   "cell_type": "code",
   "execution_count": null,
   "id": "25e0f366",
   "metadata": {},
   "outputs": [],
   "source": [
    "m1[start index: end index]"
   ]
  },
  {
   "cell_type": "code",
   "execution_count": 37,
   "id": "d625e3f9",
   "metadata": {},
   "outputs": [
    {
     "data": {
      "text/plain": [
       "\" lov\""
      ]
     },
     "execution_count": 37,
     "metadata": {},
     "output_type": "execute_result"
    }
   ],
   "source": [
    "m1[3:6]"
   ]
  },
  {
   "cell_type": "code",
   "execution_count": 39,
   "id": "9adf441f",
   "metadata": {},
   "outputs": [
    {
     "data": {
      "text/plain": [
       "'m': ASCII/Unicode U+006D (category Ll: Letter, lowercase)"
      ]
     },
     "execution_count": 39,
     "metadata": {},
     "output_type": "execute_result"
    }
   ],
   "source": [
    "ch = 'm'"
   ]
  },
  {
   "cell_type": "code",
   "execution_count": 40,
   "id": "c8336a3a",
   "metadata": {},
   "outputs": [
    {
     "data": {
      "text/plain": [
       "Char"
      ]
     },
     "execution_count": 40,
     "metadata": {},
     "output_type": "execute_result"
    }
   ],
   "source": [
    "typeof(ch)"
   ]
  },
  {
   "cell_type": "code",
   "execution_count": null,
   "id": "fcd6fa94",
   "metadata": {},
   "outputs": [],
   "source": [
    "'md' #shows error because single quotes only store one character"
   ]
  },
  {
   "cell_type": "markdown",
   "id": "c7d217c8",
   "metadata": {},
   "source": [
    "## Arrays"
   ]
  },
  {
   "cell_type": "code",
   "execution_count": 43,
   "id": "d15b8679",
   "metadata": {},
   "outputs": [
    {
     "data": {
      "text/plain": [
       "3-element Vector{Int64}:\n",
       " 3\n",
       " 5\n",
       " 9"
      ]
     },
     "execution_count": 43,
     "metadata": {},
     "output_type": "execute_result"
    }
   ],
   "source": [
    "[3,5,9]"
   ]
  },
  {
   "cell_type": "code",
   "execution_count": 44,
   "id": "722ff9b1",
   "metadata": {},
   "outputs": [
    {
     "data": {
      "text/plain": [
       "3-element Vector{Int64}:\n",
       "  5\n",
       " 10\n",
       " 15"
      ]
     },
     "execution_count": 44,
     "metadata": {},
     "output_type": "execute_result"
    }
   ],
   "source": [
    "[3,5,9] + [2,5,6]"
   ]
  },
  {
   "cell_type": "code",
   "execution_count": 48,
   "id": "1e8785e9",
   "metadata": {},
   "outputs": [
    {
     "data": {
      "text/plain": [
       "5-element Vector{Any}:\n",
       "     \"Hey\"\n",
       "     \"Hi\"\n",
       "    2\n",
       "    4.5\n",
       " true"
      ]
     },
     "execution_count": 48,
     "metadata": {},
     "output_type": "execute_result"
    }
   ],
   "source": [
    "arr = [\"Hey\", \"Hi\", 2 ,4.5, true]  "
   ]
  },
  {
   "cell_type": "code",
   "execution_count": 49,
   "id": "b241229b",
   "metadata": {},
   "outputs": [
    {
     "data": {
      "text/plain": [
       "5"
      ]
     },
     "execution_count": 49,
     "metadata": {},
     "output_type": "execute_result"
    }
   ],
   "source": [
    "length(arr)"
   ]
  },
  {
   "cell_type": "code",
   "execution_count": 50,
   "id": "af6f361a",
   "metadata": {},
   "outputs": [
    {
     "data": {
      "text/plain": [
       "Vector{Any} (alias for Array{Any, 1})"
      ]
     },
     "execution_count": 50,
     "metadata": {},
     "output_type": "execute_result"
    }
   ],
   "source": [
    "typeof(arr)"
   ]
  },
  {
   "cell_type": "code",
   "execution_count": 51,
   "id": "3bc7fbc4",
   "metadata": {},
   "outputs": [
    {
     "data": {
      "text/plain": [
       "3"
      ]
     },
     "execution_count": 51,
     "metadata": {},
     "output_type": "execute_result"
    }
   ],
   "source": [
    "minimum([3,5,9])"
   ]
  },
  {
   "cell_type": "code",
   "execution_count": 52,
   "id": "d0ce3f65",
   "metadata": {},
   "outputs": [
    {
     "data": {
      "text/plain": [
       "9"
      ]
     },
     "execution_count": 52,
     "metadata": {},
     "output_type": "execute_result"
    }
   ],
   "source": [
    "maximum([3,5,9])"
   ]
  },
  {
   "cell_type": "code",
   "execution_count": 53,
   "id": "08d6304c",
   "metadata": {},
   "outputs": [
    {
     "data": {
      "text/plain": [
       "5-element Vector{Any}:\n",
       "     \"Hey\"\n",
       "     \"Hi\"\n",
       "    2\n",
       "    4.5\n",
       " true"
      ]
     },
     "execution_count": 53,
     "metadata": {},
     "output_type": "execute_result"
    }
   ],
   "source": [
    "arr"
   ]
  },
  {
   "cell_type": "code",
   "execution_count": 54,
   "id": "10014cbc",
   "metadata": {},
   "outputs": [
    {
     "data": {
      "text/plain": [
       "2"
      ]
     },
     "execution_count": 54,
     "metadata": {},
     "output_type": "execute_result"
    }
   ],
   "source": [
    "arr[3]"
   ]
  },
  {
   "cell_type": "code",
   "execution_count": 55,
   "id": "971d258f",
   "metadata": {},
   "outputs": [
    {
     "data": {
      "text/plain": [
       "3-element Vector{Any}:\n",
       "  \"Hi\"\n",
       " 2\n",
       " 4.5"
      ]
     },
     "execution_count": 55,
     "metadata": {},
     "output_type": "execute_result"
    }
   ],
   "source": [
    "arr[2: 4]"
   ]
  },
  {
   "cell_type": "code",
   "execution_count": 56,
   "id": "ba217c68",
   "metadata": {},
   "outputs": [
    {
     "data": {
      "text/plain": [
       "1-element Vector{Any}:\n",
       " 4.5"
      ]
     },
     "execution_count": 56,
     "metadata": {},
     "output_type": "execute_result"
    }
   ],
   "source": [
    "arr[4:4]"
   ]
  },
  {
   "cell_type": "code",
   "execution_count": 57,
   "id": "b33fe861",
   "metadata": {},
   "outputs": [
    {
     "name": "stdout",
     "output_type": "stream",
     "text": [
      "Any[\"Hey\", \"Hi\", 2, 4.5, true]\n"
     ]
    }
   ],
   "source": [
    "println(arr)"
   ]
  },
  {
   "cell_type": "code",
   "execution_count": 58,
   "id": "31289dc9",
   "metadata": {},
   "outputs": [
    {
     "data": {
      "text/plain": [
       "6-element Vector{Any}:\n",
       "     \"Hey\"\n",
       "     \"Hi\"\n",
       "    2\n",
       "    4.5\n",
       " true\n",
       "     \"34\""
      ]
     },
     "execution_count": 58,
     "metadata": {},
     "output_type": "execute_result"
    }
   ],
   "source": [
    "push!(arr, \"34\")"
   ]
  },
  {
   "cell_type": "code",
   "execution_count": 59,
   "id": "cafb06f6",
   "metadata": {},
   "outputs": [
    {
     "data": {
      "text/plain": [
       "3-element Vector{Int64}:\n",
       " -1\n",
       "  3\n",
       "  5"
      ]
     },
     "execution_count": 59,
     "metadata": {},
     "output_type": "execute_result"
    }
   ],
   "source": [
    "sort([3,5,-1])"
   ]
  },
  {
   "cell_type": "code",
   "execution_count": 60,
   "id": "bf6bace9",
   "metadata": {},
   "outputs": [],
   "source": [
    "# with mazority of function you get to impletentation in Julia one is sort and other is sort! !-> this type of function is basically modification in original content or original object"
   ]
  },
  {
   "cell_type": "code",
   "execution_count": 61,
   "id": "1d12a33b",
   "metadata": {},
   "outputs": [
    {
     "data": {
      "text/plain": [
       "3-element Vector{Int64}:\n",
       " -1\n",
       "  3\n",
       "  5"
      ]
     },
     "execution_count": 61,
     "metadata": {},
     "output_type": "execute_result"
    }
   ],
   "source": [
    "sort!([3,5,-1])"
   ]
  },
  {
   "cell_type": "code",
   "execution_count": 62,
   "id": "6fa7cd82",
   "metadata": {},
   "outputs": [
    {
     "data": {
      "text/plain": [
       "1:100"
      ]
     },
     "execution_count": 62,
     "metadata": {},
     "output_type": "execute_result"
    }
   ],
   "source": [
    "range(1, stop=100)"
   ]
  },
  {
   "cell_type": "code",
   "execution_count": 65,
   "id": "c07a3128",
   "metadata": {},
   "outputs": [
    {
     "data": {
      "text/plain": [
       "-10:5:35"
      ]
     },
     "execution_count": 65,
     "metadata": {},
     "output_type": "execute_result"
    }
   ],
   "source": [
    "range(-10,step=5, length=10)"
   ]
  },
  {
   "cell_type": "code",
   "execution_count": 66,
   "id": "f1f7cd0c",
   "metadata": {},
   "outputs": [
    {
     "data": {
      "text/plain": [
       "-10:-1"
      ]
     },
     "execution_count": 66,
     "metadata": {},
     "output_type": "execute_result"
    }
   ],
   "source": [
    "range(-10, length=10)"
   ]
  },
  {
   "cell_type": "code",
   "execution_count": 67,
   "id": "56508ff8",
   "metadata": {},
   "outputs": [
    {
     "data": {
      "text/plain": [
       "6-element Vector{Any}:\n",
       "     \"Hey\"\n",
       "     \"Hi\"\n",
       "    2\n",
       "    4.5\n",
       " true\n",
       "     \"34\""
      ]
     },
     "execution_count": 67,
     "metadata": {},
     "output_type": "execute_result"
    }
   ],
   "source": [
    "arr1 = arr"
   ]
  },
  {
   "cell_type": "code",
   "execution_count": 68,
   "id": "c9690f9b",
   "metadata": {},
   "outputs": [
    {
     "data": {
      "text/plain": [
       "6-element Vector{Any}:\n",
       "     \"Hey\"\n",
       "     \"Hi\"\n",
       "    2\n",
       "    4.5\n",
       " true\n",
       "     \"34\""
      ]
     },
     "execution_count": 68,
     "metadata": {},
     "output_type": "execute_result"
    }
   ],
   "source": [
    "arr1 "
   ]
  },
  {
   "cell_type": "code",
   "execution_count": 69,
   "id": "734cde2c",
   "metadata": {},
   "outputs": [
    {
     "data": {
      "text/plain": [
       "\"Bye\""
      ]
     },
     "execution_count": 69,
     "metadata": {},
     "output_type": "execute_result"
    }
   ],
   "source": [
    "arr1[1] = \"Bye\""
   ]
  },
  {
   "cell_type": "code",
   "execution_count": 70,
   "id": "a32bf23d",
   "metadata": {},
   "outputs": [
    {
     "data": {
      "text/plain": [
       "6-element Vector{Any}:\n",
       "     \"Bye\"\n",
       "     \"Hi\"\n",
       "    2\n",
       "    4.5\n",
       " true\n",
       "     \"34\""
      ]
     },
     "execution_count": 70,
     "metadata": {},
     "output_type": "execute_result"
    }
   ],
   "source": [
    "arr"
   ]
  },
  {
   "cell_type": "code",
   "execution_count": 72,
   "id": "684b5190",
   "metadata": {},
   "outputs": [
    {
     "name": "stdout",
     "output_type": "stream",
     "text": [
      "Any[\"Bye\", \"Hi\", 2, 4.5, true, \"34\"]Any[\"Bye\", \"Hi\", 2, 4.5, true, \"34\"]\n"
     ]
    }
   ],
   "source": [
    "println(arr,arr1)"
   ]
  },
  {
   "cell_type": "code",
   "execution_count": 73,
   "id": "d9b16626",
   "metadata": {},
   "outputs": [],
   "source": [
    "# this is due to arr1 is only pointing to the arr location no new location is created"
   ]
  },
  {
   "cell_type": "code",
   "execution_count": 74,
   "id": "e16f84b3",
   "metadata": {},
   "outputs": [
    {
     "data": {
      "text/plain": [
       "6-element Vector{Any}:\n",
       "     \"Bye\"\n",
       "     \"Hi\"\n",
       "    2\n",
       "    4.5\n",
       " true\n",
       "     \"34\""
      ]
     },
     "execution_count": 74,
     "metadata": {},
     "output_type": "execute_result"
    }
   ],
   "source": [
    "arr2 = copy(arr)"
   ]
  },
  {
   "cell_type": "code",
   "execution_count": 75,
   "id": "e0daf503",
   "metadata": {},
   "outputs": [
    {
     "name": "stdout",
     "output_type": "stream",
     "text": [
      "Any[\"Bye\", \"Hi\", 2, 4.5, true, \"34\"]Any[\"Bye\", \"Hi\", 2, 4.5, true, \"34\"]\n"
     ]
    }
   ],
   "source": [
    "println(arr,arr2)"
   ]
  },
  {
   "cell_type": "code",
   "execution_count": 76,
   "id": "8abd7a31",
   "metadata": {},
   "outputs": [
    {
     "data": {
      "text/plain": [
       "\"Julia\""
      ]
     },
     "execution_count": 76,
     "metadata": {},
     "output_type": "execute_result"
    }
   ],
   "source": [
    "arr2[1] =\"Julia\""
   ]
  },
  {
   "cell_type": "code",
   "execution_count": 77,
   "id": "179457fe",
   "metadata": {},
   "outputs": [
    {
     "name": "stdout",
     "output_type": "stream",
     "text": [
      "Any[\"Bye\", \"Hi\", 2, 4.5, true, \"34\"]Any[\"Julia\", \"Hi\", 2, 4.5, true, \"34\"]\n"
     ]
    }
   ],
   "source": [
    "println(arr,arr2) "
   ]
  },
  {
   "cell_type": "code",
   "execution_count": 78,
   "id": "c598b5f9",
   "metadata": {},
   "outputs": [
    {
     "data": {
      "text/plain": [
       "true"
      ]
     },
     "execution_count": 78,
     "metadata": {},
     "output_type": "execute_result"
    }
   ],
   "source": [
    "in(2,arr)"
   ]
  },
  {
   "cell_type": "code",
   "execution_count": 79,
   "id": "596e733f",
   "metadata": {},
   "outputs": [
    {
     "data": {
      "text/plain": [
       "false"
      ]
     },
     "execution_count": 79,
     "metadata": {},
     "output_type": "execute_result"
    }
   ],
   "source": [
    "in(5,arr)"
   ]
  },
  {
   "cell_type": "markdown",
   "id": "9189f919",
   "metadata": {},
   "source": [
    "## Tuples"
   ]
  },
  {
   "cell_type": "code",
   "execution_count": 81,
   "id": "8249df28",
   "metadata": {},
   "outputs": [
    {
     "data": {
      "text/plain": [
       "(6, 6, true)"
      ]
     },
     "execution_count": 81,
     "metadata": {},
     "output_type": "execute_result"
    }
   ],
   "source": [
    "t1 = (6, 6 , true)"
   ]
  },
  {
   "cell_type": "code",
   "execution_count": 82,
   "id": "99a5c4ea",
   "metadata": {},
   "outputs": [
    {
     "data": {
      "text/plain": [
       "Tuple{Int64, Int64, Bool}"
      ]
     },
     "execution_count": 82,
     "metadata": {},
     "output_type": "execute_result"
    }
   ],
   "source": [
    "typeof(t1)"
   ]
  },
  {
   "cell_type": "code",
   "execution_count": 83,
   "id": "e62b20c4",
   "metadata": {},
   "outputs": [
    {
     "data": {
      "text/plain": [
       "6"
      ]
     },
     "execution_count": 83,
     "metadata": {},
     "output_type": "execute_result"
    }
   ],
   "source": [
    "t1[2]"
   ]
  },
  {
   "cell_type": "code",
   "execution_count": 84,
   "id": "0b65a418",
   "metadata": {},
   "outputs": [
    {
     "ename": "LoadError",
     "evalue": "MethodError: no method matching setindex!(::Tuple{Int64, Int64, Bool}, ::String, ::Int64)",
     "output_type": "error",
     "traceback": [
      "MethodError: no method matching setindex!(::Tuple{Int64, Int64, Bool}, ::String, ::Int64)",
      "",
      "Stacktrace:",
      " [1] top-level scope",
      "   @ In[84]:1",
      " [2] eval",
      "   @ .\\boot.jl:360 [inlined]",
      " [3] include_string(mapexpr::typeof(REPL.softscope), mod::Module, code::String, filename::String)",
      "   @ Base .\\loading.jl:1094"
     ]
    }
   ],
   "source": [
    "t1[2] = \"hello\" # no modification in tuple allowed"
   ]
  },
  {
   "cell_type": "code",
   "execution_count": 85,
   "id": "17a650e5",
   "metadata": {},
   "outputs": [
    {
     "data": {
      "text/plain": [
       "3"
      ]
     },
     "execution_count": 85,
     "metadata": {},
     "output_type": "execute_result"
    }
   ],
   "source": [
    "length(t1)"
   ]
  },
  {
   "cell_type": "markdown",
   "id": "596c1a7b",
   "metadata": {},
   "source": [
    "## Dictionary"
   ]
  },
  {
   "cell_type": "code",
   "execution_count": 90,
   "id": "048ce154",
   "metadata": {},
   "outputs": [
    {
     "data": {
      "text/plain": [
       "Dict{String, Any} with 3 entries:\n",
       "  \"John\"  => \"555\"\n",
       "  \"Alice\" => 111\n",
       "  \"Bob\"   => 333"
      ]
     },
     "execution_count": 90,
     "metadata": {},
     "output_type": "execute_result"
    }
   ],
   "source": [
    "#=\n",
    "John = 555\n",
    "Alice = 111\n",
    "Bob = 333\n",
    "=#\n",
    "phonebook = Dict(\"John\"=> \"555\", \"Alice\"=>111,\"Bob\"=>333)"
   ]
  },
  {
   "cell_type": "code",
   "execution_count": 91,
   "id": "1c88f305",
   "metadata": {},
   "outputs": [
    {
     "data": {
      "text/plain": [
       "KeySet for a Dict{String, Any} with 3 entries. Keys:\n",
       "  \"John\"\n",
       "  \"Alice\"\n",
       "  \"Bob\""
      ]
     },
     "execution_count": 91,
     "metadata": {},
     "output_type": "execute_result"
    }
   ],
   "source": [
    "keys(phonebook)"
   ]
  },
  {
   "cell_type": "code",
   "execution_count": 92,
   "id": "c636cd54",
   "metadata": {},
   "outputs": [
    {
     "data": {
      "text/plain": [
       "ValueIterator for a Dict{String, Any} with 3 entries. Values:\n",
       "  \"555\"\n",
       "  111\n",
       "  333"
      ]
     },
     "execution_count": 92,
     "metadata": {},
     "output_type": "execute_result"
    }
   ],
   "source": [
    "values(phonebook)"
   ]
  },
  {
   "cell_type": "code",
   "execution_count": 93,
   "id": "231b093c",
   "metadata": {},
   "outputs": [
    {
     "data": {
      "text/plain": [
       "\"555\""
      ]
     },
     "execution_count": 93,
     "metadata": {},
     "output_type": "execute_result"
    }
   ],
   "source": [
    "phonebook[\"John\"]"
   ]
  },
  {
   "cell_type": "code",
   "execution_count": 94,
   "id": "b9becd5e",
   "metadata": {},
   "outputs": [
    {
     "name": "stdout",
     "output_type": "stream",
     "text": [
      "John , 555\n",
      "Alice , 111\n",
      "Bob , 333\n"
     ]
    }
   ],
   "source": [
    "for (k, v) in phonebook\n",
    "    println(\"$k , $v\" )\n",
    "end"
   ]
  },
  {
   "cell_type": "code",
   "execution_count": 96,
   "id": "8fe344cc",
   "metadata": {},
   "outputs": [
    {
     "data": {
      "text/plain": [
       "3-element Vector{String}:\n",
       " \"John\"\n",
       " \"Alice\"\n",
       " \"Bob\""
      ]
     },
     "execution_count": 96,
     "metadata": {},
     "output_type": "execute_result"
    }
   ],
   "source": [
    "collect(keys(phonebook))"
   ]
  },
  {
   "cell_type": "code",
   "execution_count": 97,
   "id": "22518926",
   "metadata": {},
   "outputs": [
    {
     "data": {
      "text/plain": [
       "true"
      ]
     },
     "execution_count": 97,
     "metadata": {},
     "output_type": "execute_result"
    }
   ],
   "source": [
    "haskey(phonebook, \"John\")"
   ]
  },
  {
   "cell_type": "markdown",
   "id": "83c55154",
   "metadata": {},
   "source": [
    "## Sets"
   ]
  },
  {
   "cell_type": "code",
   "execution_count": 99,
   "id": "ebf10001",
   "metadata": {},
   "outputs": [
    {
     "data": {
      "text/plain": [
       "Set{Int64} with 3 elements:\n",
       "  2\n",
       "  3\n",
       "  1"
      ]
     },
     "execution_count": 99,
     "metadata": {},
     "output_type": "execute_result"
    }
   ],
   "source": [
    "Set([1,2,3])"
   ]
  },
  {
   "cell_type": "code",
   "execution_count": 101,
   "id": "6d501ccb",
   "metadata": {},
   "outputs": [
    {
     "data": {
      "text/plain": [
       "Set{Int64} with 4 elements:\n",
       "  6\n",
       "  2\n",
       "  3\n",
       "  1"
      ]
     },
     "execution_count": 101,
     "metadata": {},
     "output_type": "execute_result"
    }
   ],
   "source": [
    "s1 = Set([1,2,3, 6 , 6]) #only store unique values"
   ]
  },
  {
   "cell_type": "code",
   "execution_count": 102,
   "id": "cc74b0e2",
   "metadata": {},
   "outputs": [
    {
     "data": {
      "text/plain": [
       "Set{Int64} with 4 elements:\n",
       "  5\n",
       "  4\n",
       "  6\n",
       "  3"
      ]
     },
     "execution_count": 102,
     "metadata": {},
     "output_type": "execute_result"
    }
   ],
   "source": [
    "s2 = Set([4,5, 3, 6])"
   ]
  },
  {
   "cell_type": "code",
   "execution_count": 103,
   "id": "8c4763dc",
   "metadata": {},
   "outputs": [
    {
     "data": {
      "text/plain": [
       "Set{Int64} with 6 elements:\n",
       "  5\n",
       "  4\n",
       "  6\n",
       "  2\n",
       "  3\n",
       "  1"
      ]
     },
     "execution_count": 103,
     "metadata": {},
     "output_type": "execute_result"
    }
   ],
   "source": [
    "union(s1, s2)"
   ]
  },
  {
   "cell_type": "code",
   "execution_count": 105,
   "id": "d587f237",
   "metadata": {},
   "outputs": [
    {
     "data": {
      "text/plain": [
       "Set{Int64} with 2 elements:\n",
       "  6\n",
       "  3"
      ]
     },
     "execution_count": 105,
     "metadata": {},
     "output_type": "execute_result"
    }
   ],
   "source": [
    "intersect(s1 , s2)"
   ]
  },
  {
   "cell_type": "code",
   "execution_count": 106,
   "id": "5e5daaf6",
   "metadata": {},
   "outputs": [
    {
     "data": {
      "text/plain": [
       "false"
      ]
     },
     "execution_count": 106,
     "metadata": {},
     "output_type": "execute_result"
    }
   ],
   "source": [
    "issubset(s1, s2)"
   ]
  },
  {
   "cell_type": "markdown",
   "id": "21827003",
   "metadata": {},
   "source": [
    "## Control Flow"
   ]
  },
  {
   "cell_type": "markdown",
   "id": "d8ba433b",
   "metadata": {},
   "source": [
    "### Decision Making"
   ]
  },
  {
   "cell_type": "code",
   "execution_count": 108,
   "id": "b476d6a6",
   "metadata": {},
   "outputs": [
    {
     "data": {
      "text/plain": [
       "34"
      ]
     },
     "execution_count": 108,
     "metadata": {},
     "output_type": "execute_result"
    }
   ],
   "source": [
    "N = 34"
   ]
  },
  {
   "cell_type": "code",
   "execution_count": 109,
   "id": "35fcb808",
   "metadata": {},
   "outputs": [
    {
     "name": "stdout",
     "output_type": "stream",
     "text": [
      "N is +ve\n"
     ]
    }
   ],
   "source": [
    "if N > 0\n",
    "    println(\"N is +ve\")\n",
    "else\n",
    "    println(\"N is -ve\")\n",
    "end"
   ]
  },
  {
   "cell_type": "code",
   "execution_count": 110,
   "id": "01d618c1",
   "metadata": {},
   "outputs": [
    {
     "data": {
      "text/plain": [
       "-5"
      ]
     },
     "execution_count": 110,
     "metadata": {},
     "output_type": "execute_result"
    }
   ],
   "source": [
    "N = -5 "
   ]
  },
  {
   "cell_type": "code",
   "execution_count": 111,
   "id": "c1721cba",
   "metadata": {},
   "outputs": [
    {
     "name": "stdout",
     "output_type": "stream",
     "text": [
      "N is -ve\n"
     ]
    }
   ],
   "source": [
    "if N > 0\n",
    "    println(\"N is +ve\")\n",
    "else\n",
    "    println(\"N is -ve\")\n",
    "end"
   ]
  },
  {
   "cell_type": "code",
   "execution_count": 113,
   "id": "66417446",
   "metadata": {},
   "outputs": [
    {
     "name": "stdout",
     "output_type": "stream",
     "text": [
      "N is between 0 and 25\n"
     ]
    }
   ],
   "source": [
    "N = 14\n",
    "if N > 25\n",
    "    println(\"N is more than 25\")\n",
    "elseif (N>0 && N< 25)\n",
    "    println(\"N is between 0 and 25\")\n",
    "else\n",
    "    println(\"N is -ve\")\n",
    "end"
   ]
  },
  {
   "cell_type": "markdown",
   "id": "da6267a6",
   "metadata": {},
   "source": [
    "### Looping"
   ]
  },
  {
   "cell_type": "code",
   "execution_count": 114,
   "id": "418f9e2b",
   "metadata": {},
   "outputs": [
    {
     "name": "stdout",
     "output_type": "stream",
     "text": [
      "1\n",
      "2\n",
      "3\n",
      "4\n",
      "5\n"
     ]
    }
   ],
   "source": [
    "for i = 1:5\n",
    "    println(i)\n",
    "end"
   ]
  },
  {
   "cell_type": "code",
   "execution_count": 116,
   "id": "a5919a91",
   "metadata": {},
   "outputs": [
    {
     "name": "stdout",
     "output_type": "stream",
     "text": [
      "1 : 1\n",
      "1 : 2\n",
      "1 : 3\n",
      "1 : 4\n",
      "1 : 5\n",
      "2 : 1\n",
      "2 : 2\n",
      "2 : 3\n",
      "2 : 4\n",
      "2 : 5\n",
      "3 : 1\n",
      "3 : 2\n",
      "3 : 3\n",
      "3 : 4\n",
      "3 : 5\n",
      "4 : 1\n",
      "4 : 2\n",
      "4 : 3\n",
      "4 : 4\n",
      "4 : 5\n",
      "5 : 1\n",
      "5 : 2\n",
      "5 : 3\n",
      "5 : 4\n",
      "5 : 5\n"
     ]
    }
   ],
   "source": [
    "for i = 1:5, j =1:5\n",
    "    println(i, \" : \" , j)\n",
    "end"
   ]
  },
  {
   "cell_type": "code",
   "execution_count": 117,
   "id": "ad61b88d",
   "metadata": {},
   "outputs": [
    {
     "data": {
      "text/plain": [
       "3-element Vector{Any}:\n",
       " 3\n",
       " 5\n",
       "  \"Hello\""
      ]
     },
     "execution_count": 117,
     "metadata": {},
     "output_type": "execute_result"
    }
   ],
   "source": [
    "arr = [3, 5, \"Hello\"]"
   ]
  },
  {
   "cell_type": "code",
   "execution_count": 119,
   "id": "d441a713",
   "metadata": {},
   "outputs": [
    {
     "name": "stdout",
     "output_type": "stream",
     "text": [
      "3\n",
      "5\n",
      "Hello\n"
     ]
    }
   ],
   "source": [
    "for val in arr\n",
    "    println(val)\n",
    "end"
   ]
  },
  {
   "cell_type": "code",
   "execution_count": 120,
   "id": "331ab588",
   "metadata": {},
   "outputs": [
    {
     "name": "stdout",
     "output_type": "stream",
     "text": [
      "1\n",
      "2\n",
      "3\n",
      "4\n"
     ]
    }
   ],
   "source": [
    "i = 1\n",
    "while i < 5\n",
    "    println(i)\n",
    "    i = i+1\n",
    "end"
   ]
  },
  {
   "cell_type": "markdown",
   "id": "fbb873f2",
   "metadata": {},
   "source": [
    "## Function"
   ]
  },
  {
   "cell_type": "code",
   "execution_count": 1,
   "id": "63bf6390",
   "metadata": {},
   "outputs": [
    {
     "data": {
      "text/plain": [
       "welcome (generic function with 1 method)"
      ]
     },
     "execution_count": 1,
     "metadata": {},
     "output_type": "execute_result"
    }
   ],
   "source": [
    "function welcome()\n",
    "    println(\"Welcome\")\n",
    "end"
   ]
  },
  {
   "cell_type": "code",
   "execution_count": 2,
   "id": "d2e48cde",
   "metadata": {},
   "outputs": [
    {
     "name": "stdout",
     "output_type": "stream",
     "text": [
      "Welcome\n"
     ]
    }
   ],
   "source": [
    "welcome()"
   ]
  },
  {
   "cell_type": "code",
   "execution_count": 3,
   "id": "d68314eb",
   "metadata": {},
   "outputs": [
    {
     "data": {
      "text/plain": [
       "welcome1 (generic function with 1 method)"
      ]
     },
     "execution_count": 3,
     "metadata": {},
     "output_type": "execute_result"
    }
   ],
   "source": [
    "function welcome1(name)\n",
    "    println(\"Hi  $name\")\n",
    "end"
   ]
  },
  {
   "cell_type": "code",
   "execution_count": 4,
   "id": "dae62d1f",
   "metadata": {},
   "outputs": [
    {
     "name": "stdout",
     "output_type": "stream",
     "text": [
      "Hi  Devendra\n"
     ]
    }
   ],
   "source": [
    "welcome1(\"Devendra\")"
   ]
  },
  {
   "cell_type": "code",
   "execution_count": 5,
   "id": "6bf41974",
   "metadata": {},
   "outputs": [
    {
     "data": {
      "text/plain": [
       "welcome2 (generic function with 1 method)"
      ]
     },
     "execution_count": 5,
     "metadata": {},
     "output_type": "execute_result"
    }
   ],
   "source": [
    "welcome2(name) = println(\"Hello $name\")"
   ]
  },
  {
   "cell_type": "code",
   "execution_count": 6,
   "id": "53bf35e3",
   "metadata": {},
   "outputs": [
    {
     "name": "stdout",
     "output_type": "stream",
     "text": [
      "Hello Dev\n"
     ]
    }
   ],
   "source": [
    "welcome2(\"Dev\")"
   ]
  },
  {
   "cell_type": "code",
   "execution_count": 7,
   "id": "02d70dcb",
   "metadata": {},
   "outputs": [
    {
     "data": {
      "text/plain": [
       "#1 (generic function with 1 method)"
      ]
     },
     "execution_count": 7,
     "metadata": {},
     "output_type": "execute_result"
    }
   ],
   "source": [
    "welcome3 = name -> println(\"Hello $name\")"
   ]
  },
  {
   "cell_type": "code",
   "execution_count": 9,
   "id": "98e0f273",
   "metadata": {},
   "outputs": [
    {
     "name": "stdout",
     "output_type": "stream",
     "text": [
      "Hello data\n"
     ]
    }
   ],
   "source": [
    "welcome3(\"data\")"
   ]
  },
  {
   "cell_type": "code",
   "execution_count": 10,
   "id": "35785ebb",
   "metadata": {},
   "outputs": [
    {
     "data": {
      "text/plain": [
       "add (generic function with 1 method)"
      ]
     },
     "execution_count": 10,
     "metadata": {},
     "output_type": "execute_result"
    }
   ],
   "source": [
    "function add(x,y)\n",
    "    z = x + y\n",
    "end"
   ]
  },
  {
   "cell_type": "code",
   "execution_count": 11,
   "id": "0b56cda0",
   "metadata": {},
   "outputs": [
    {
     "data": {
      "text/plain": [
       "10"
      ]
     },
     "execution_count": 11,
     "metadata": {},
     "output_type": "execute_result"
    }
   ],
   "source": [
    "add(4,6)"
   ]
  },
  {
   "cell_type": "code",
   "execution_count": 12,
   "id": "9dda25bd",
   "metadata": {},
   "outputs": [
    {
     "data": {
      "text/plain": [
       "add (generic function with 1 method)"
      ]
     },
     "execution_count": 12,
     "metadata": {},
     "output_type": "execute_result"
    }
   ],
   "source": [
    "function add(x,y)\n",
    "    z = x + y\n",
    "    return \n",
    "end"
   ]
  },
  {
   "cell_type": "code",
   "execution_count": 13,
   "id": "e0959dfd",
   "metadata": {},
   "outputs": [
    {
     "data": {
      "text/plain": [
       "5-element Vector{Int64}:\n",
       "  2\n",
       "  3\n",
       "  6\n",
       "  0\n",
       " -4"
      ]
     },
     "execution_count": 13,
     "metadata": {},
     "output_type": "execute_result"
    }
   ],
   "source": [
    "arr = [2,3,6,0,-4]"
   ]
  },
  {
   "cell_type": "code",
   "execution_count": 14,
   "id": "adf11e29",
   "metadata": {},
   "outputs": [
    {
     "data": {
      "text/plain": [
       "5-element Vector{Int64}:\n",
       " -4\n",
       "  0\n",
       "  2\n",
       "  3\n",
       "  6"
      ]
     },
     "execution_count": 14,
     "metadata": {},
     "output_type": "execute_result"
    }
   ],
   "source": [
    "sort(arr)"
   ]
  },
  {
   "cell_type": "code",
   "execution_count": 15,
   "id": "67dbf391",
   "metadata": {},
   "outputs": [
    {
     "data": {
      "text/plain": [
       "5-element Vector{Int64}:\n",
       "  2\n",
       "  3\n",
       "  6\n",
       "  0\n",
       " -4"
      ]
     },
     "execution_count": 15,
     "metadata": {},
     "output_type": "execute_result"
    }
   ],
   "source": [
    "arr"
   ]
  },
  {
   "cell_type": "code",
   "execution_count": 16,
   "id": "97c7f908",
   "metadata": {},
   "outputs": [
    {
     "data": {
      "text/plain": [
       "5-element Vector{Int64}:\n",
       " -4\n",
       "  0\n",
       "  2\n",
       "  3\n",
       "  6"
      ]
     },
     "execution_count": 16,
     "metadata": {},
     "output_type": "execute_result"
    }
   ],
   "source": [
    "sort!(arr)"
   ]
  },
  {
   "cell_type": "code",
   "execution_count": 17,
   "id": "e1be6529",
   "metadata": {},
   "outputs": [
    {
     "data": {
      "text/plain": [
       "5-element Vector{Int64}:\n",
       " -4\n",
       "  0\n",
       "  2\n",
       "  3\n",
       "  6"
      ]
     },
     "execution_count": 17,
     "metadata": {},
     "output_type": "execute_result"
    }
   ],
   "source": [
    "arr"
   ]
  },
  {
   "cell_type": "code",
   "execution_count": 18,
   "id": "e823c55e",
   "metadata": {},
   "outputs": [
    {
     "data": {
      "text/plain": [
       "f1 (generic function with 1 method)"
      ]
     },
     "execution_count": 18,
     "metadata": {},
     "output_type": "execute_result"
    }
   ],
   "source": [
    "function f1(x)\n",
    "    x^2\n",
    "end"
   ]
  },
  {
   "cell_type": "code",
   "execution_count": 19,
   "id": "2ef7703f",
   "metadata": {},
   "outputs": [
    {
     "data": {
      "text/plain": [
       "5-element Vector{Int64}:\n",
       " 1\n",
       " 3\n",
       " 2\n",
       " 7\n",
       " 0"
      ]
     },
     "execution_count": 19,
     "metadata": {},
     "output_type": "execute_result"
    }
   ],
   "source": [
    "arr1 = [1,3,2,7,0]"
   ]
  },
  {
   "cell_type": "code",
   "execution_count": 21,
   "id": "02a77a1c",
   "metadata": {},
   "outputs": [
    {
     "data": {
      "text/plain": [
       "5-element Vector{Int64}:\n",
       "  1\n",
       "  9\n",
       "  4\n",
       " 49\n",
       "  0"
      ]
     },
     "execution_count": 21,
     "metadata": {},
     "output_type": "execute_result"
    }
   ],
   "source": [
    "map(f1, arr1)"
   ]
  },
  {
   "cell_type": "markdown",
   "id": "89de509c",
   "metadata": {},
   "source": [
    "## Package"
   ]
  },
  {
   "cell_type": "code",
   "execution_count": 2,
   "id": "7601f46c",
   "metadata": {},
   "outputs": [],
   "source": [
    "using Pkg"
   ]
  },
  {
   "cell_type": "code",
   "execution_count": 3,
   "id": "f738c5c3",
   "metadata": {},
   "outputs": [
    {
     "name": "stderr",
     "output_type": "stream",
     "text": [
      "┌ Warning: Pkg.installed() is deprecated\n",
      "└ @ Pkg C:\\buildbot\\worker\\package_win64\\build\\usr\\share\\julia\\stdlib\\v1.6\\Pkg\\src\\Pkg.jl:566\n"
     ]
    },
    {
     "data": {
      "text/plain": [
       "Dict{String, VersionNumber} with 14 entries:\n",
       "  \"CSV\"            => v\"0.8.4\"\n",
       "  \"ClassImbalance\" => v\"0.8.7\"\n",
       "  \"StatsPlots\"     => v\"0.14.20\"\n",
       "  \"ScikitLearn\"    => v\"0.6.2\"\n",
       "  \"Lathe\"          => v\"0.0.9\"\n",
       "  \"StatsBase\"      => v\"0.32.2\"\n",
       "  \"IJulia\"         => v\"1.23.2\"\n",
       "  \"Plots\"          => v\"1.13.2\"\n",
       "  \"ROCAnalysis\"    => v\"0.3.2\"\n",
       "  \"DataFrames\"     => v\"0.20.2\"\n",
       "  \"Pandas\"         => v\"1.4.0\"\n",
       "  \"GLM\"            => v\"1.4.2\"\n",
       "  \"MLBase\"         => v\"0.8.0\"\n",
       "  \"Seaborn\"        => v\"0.4.1\""
      ]
     },
     "execution_count": 3,
     "metadata": {},
     "output_type": "execute_result"
    }
   ],
   "source": [
    "Pkg.installed()"
   ]
  },
  {
   "cell_type": "code",
   "execution_count": 24,
   "id": "f712c30d",
   "metadata": {},
   "outputs": [],
   "source": [
    "Pkg.rm(\"CSV\")"
   ]
  },
  {
   "cell_type": "code",
   "execution_count": 4,
   "id": "a5df5528",
   "metadata": {},
   "outputs": [
    {
     "name": "stderr",
     "output_type": "stream",
     "text": [
      "┌ Warning: Pkg.installed() is deprecated\n",
      "└ @ Pkg C:\\buildbot\\worker\\package_win64\\build\\usr\\share\\julia\\stdlib\\v1.6\\Pkg\\src\\Pkg.jl:566\n"
     ]
    },
    {
     "data": {
      "text/plain": [
       "Dict{String, VersionNumber} with 14 entries:\n",
       "  \"CSV\"            => v\"0.8.4\"\n",
       "  \"ClassImbalance\" => v\"0.8.7\"\n",
       "  \"StatsPlots\"     => v\"0.14.20\"\n",
       "  \"ScikitLearn\"    => v\"0.6.2\"\n",
       "  \"Lathe\"          => v\"0.0.9\"\n",
       "  \"StatsBase\"      => v\"0.32.2\"\n",
       "  \"IJulia\"         => v\"1.23.2\"\n",
       "  \"Plots\"          => v\"1.13.2\"\n",
       "  \"ROCAnalysis\"    => v\"0.3.2\"\n",
       "  \"DataFrames\"     => v\"0.20.2\"\n",
       "  \"Pandas\"         => v\"1.4.0\"\n",
       "  \"GLM\"            => v\"1.4.2\"\n",
       "  \"MLBase\"         => v\"0.8.0\"\n",
       "  \"Seaborn\"        => v\"0.4.1\""
      ]
     },
     "execution_count": 4,
     "metadata": {},
     "output_type": "execute_result"
    }
   ],
   "source": [
    "Pkg.installed()"
   ]
  },
  {
   "cell_type": "code",
   "execution_count": null,
   "id": "a58f7fbb",
   "metadata": {},
   "outputs": [],
   "source": [
    "Pkg.add(\"CSV\")"
   ]
  },
  {
   "cell_type": "markdown",
   "id": "3323d7af",
   "metadata": {},
   "source": [
    "## Vector and Matrix Preprocessing"
   ]
  },
  {
   "cell_type": "code",
   "execution_count": 5,
   "id": "9dda3b02",
   "metadata": {},
   "outputs": [],
   "source": [
    "using Random"
   ]
  },
  {
   "cell_type": "code",
   "execution_count": 6,
   "id": "f4e9ee3c",
   "metadata": {},
   "outputs": [],
   "source": [
    "using Pkg\n",
    "Pkg.add(\"Random\")"
   ]
  },
  {
   "cell_type": "code",
   "execution_count": 7,
   "id": "cdec4084",
   "metadata": {},
   "outputs": [
    {
     "data": {
      "text/plain": [
       "3×4 Matrix{Float64}:\n",
       " 0.874668  0.660607  0.296858   0.510593\n",
       " 0.70033   0.139135  0.626426   0.0334084\n",
       " 0.367389  0.157146  0.0754791  0.702147"
      ]
     },
     "execution_count": 7,
     "metadata": {},
     "output_type": "execute_result"
    }
   ],
   "source": [
    "rand(3,4)"
   ]
  },
  {
   "cell_type": "code",
   "execution_count": 8,
   "id": "7aefd5e7",
   "metadata": {},
   "outputs": [
    {
     "data": {
      "text/plain": [
       "10×2 Matrix{Float64}:\n",
       "  0.275929   0.671561\n",
       " -0.161112  -0.186606\n",
       " -0.566299   0.731822\n",
       "  1.23711    1.58268\n",
       "  0.858388  -0.69708\n",
       " -0.40017   -2.03558\n",
       "  1.09876   -0.499928\n",
       "  0.456648  -0.17046\n",
       "  1.28991    0.046004\n",
       "  0.655152  -1.74222"
      ]
     },
     "execution_count": 8,
     "metadata": {},
     "output_type": "execute_result"
    }
   ],
   "source": [
    "randn(10,2)"
   ]
  },
  {
   "cell_type": "code",
   "execution_count": 9,
   "id": "fe556920",
   "metadata": {},
   "outputs": [
    {
     "data": {
      "text/plain": [
       "\"EuYGilrc\""
      ]
     },
     "execution_count": 9,
     "metadata": {},
     "output_type": "execute_result"
    }
   ],
   "source": [
    "randstring()"
   ]
  },
  {
   "cell_type": "code",
   "execution_count": 10,
   "id": "b603983c",
   "metadata": {},
   "outputs": [
    {
     "data": {
      "text/plain": [
       "\"ABAABBBBBABABAABAABBBBABAABABAABABBBAAAAABBBBBBBAA\""
      ]
     },
     "execution_count": 10,
     "metadata": {},
     "output_type": "execute_result"
    }
   ],
   "source": [
    "randstring('A':'B', 50)"
   ]
  },
  {
   "cell_type": "code",
   "execution_count": 12,
   "id": "8f9f9302",
   "metadata": {},
   "outputs": [
    {
     "data": {
      "text/plain": [
       "10-element Vector{Int64}:\n",
       "  1\n",
       "  2\n",
       "  3\n",
       "  4\n",
       "  5\n",
       "  6\n",
       "  7\n",
       "  8\n",
       "  9\n",
       " 10"
      ]
     },
     "execution_count": 12,
     "metadata": {},
     "output_type": "execute_result"
    }
   ],
   "source": [
    "v1 = Vector(1:10)"
   ]
  },
  {
   "cell_type": "code",
   "execution_count": 13,
   "id": "a866fcf5",
   "metadata": {},
   "outputs": [
    {
     "data": {
      "text/plain": [
       "2×5 Matrix{Int64}:\n",
       " 1  3  5  7   9\n",
       " 2  4  6  8  10"
      ]
     },
     "execution_count": 13,
     "metadata": {},
     "output_type": "execute_result"
    }
   ],
   "source": [
    "reshape(v1, (2,5))"
   ]
  },
  {
   "cell_type": "markdown",
   "id": "7d844d4e",
   "metadata": {},
   "source": [
    "## Algebra Operations"
   ]
  },
  {
   "cell_type": "code",
   "execution_count": 15,
   "id": "45055da0",
   "metadata": {},
   "outputs": [
    {
     "data": {
      "text/plain": [
       "3×5 Matrix{Float64}:\n",
       " 1.0  1.0  1.0  1.0  1.0\n",
       " 1.0  1.0  1.0  1.0  1.0\n",
       " 1.0  1.0  1.0  1.0  1.0"
      ]
     },
     "execution_count": 15,
     "metadata": {},
     "output_type": "execute_result"
    }
   ],
   "source": [
    "ones(3, 5)"
   ]
  },
  {
   "cell_type": "code",
   "execution_count": 16,
   "id": "03f280dd",
   "metadata": {},
   "outputs": [
    {
     "data": {
      "text/plain": [
       "2×5×6 Array{Float64, 3}:\n",
       "[:, :, 1] =\n",
       " 0.0  0.0  0.0  0.0  0.0\n",
       " 0.0  0.0  0.0  0.0  0.0\n",
       "\n",
       "[:, :, 2] =\n",
       " 0.0  0.0  0.0  0.0  0.0\n",
       " 0.0  0.0  0.0  0.0  0.0\n",
       "\n",
       "[:, :, 3] =\n",
       " 0.0  0.0  0.0  0.0  0.0\n",
       " 0.0  0.0  0.0  0.0  0.0\n",
       "\n",
       "[:, :, 4] =\n",
       " 0.0  0.0  0.0  0.0  0.0\n",
       " 0.0  0.0  0.0  0.0  0.0\n",
       "\n",
       "[:, :, 5] =\n",
       " 0.0  0.0  0.0  0.0  0.0\n",
       " 0.0  0.0  0.0  0.0  0.0\n",
       "\n",
       "[:, :, 6] =\n",
       " 0.0  0.0  0.0  0.0  0.0\n",
       " 0.0  0.0  0.0  0.0  0.0"
      ]
     },
     "execution_count": 16,
     "metadata": {},
     "output_type": "execute_result"
    }
   ],
   "source": [
    "zeros(2, 5 , 6)"
   ]
  },
  {
   "cell_type": "code",
   "execution_count": 17,
   "id": "38d355de",
   "metadata": {},
   "outputs": [],
   "source": [
    "using LinearAlgebra"
   ]
  },
  {
   "cell_type": "code",
   "execution_count": 18,
   "id": "b1f6c43d",
   "metadata": {},
   "outputs": [
    {
     "data": {
      "text/plain": [
       "4×4 Diagonal{Bool, Vector{Bool}}:\n",
       " 1  ⋅  ⋅  ⋅\n",
       " ⋅  1  ⋅  ⋅\n",
       " ⋅  ⋅  1  ⋅\n",
       " ⋅  ⋅  ⋅  1"
      ]
     },
     "execution_count": 18,
     "metadata": {},
     "output_type": "execute_result"
    }
   ],
   "source": [
    "I(4)"
   ]
  },
  {
   "cell_type": "code",
   "execution_count": 19,
   "id": "bb0f43ac",
   "metadata": {},
   "outputs": [
    {
     "data": {
      "text/plain": [
       "10×10 Diagonal{Bool, Vector{Bool}}:\n",
       " 1  ⋅  ⋅  ⋅  ⋅  ⋅  ⋅  ⋅  ⋅  ⋅\n",
       " ⋅  1  ⋅  ⋅  ⋅  ⋅  ⋅  ⋅  ⋅  ⋅\n",
       " ⋅  ⋅  1  ⋅  ⋅  ⋅  ⋅  ⋅  ⋅  ⋅\n",
       " ⋅  ⋅  ⋅  1  ⋅  ⋅  ⋅  ⋅  ⋅  ⋅\n",
       " ⋅  ⋅  ⋅  ⋅  1  ⋅  ⋅  ⋅  ⋅  ⋅\n",
       " ⋅  ⋅  ⋅  ⋅  ⋅  1  ⋅  ⋅  ⋅  ⋅\n",
       " ⋅  ⋅  ⋅  ⋅  ⋅  ⋅  1  ⋅  ⋅  ⋅\n",
       " ⋅  ⋅  ⋅  ⋅  ⋅  ⋅  ⋅  1  ⋅  ⋅\n",
       " ⋅  ⋅  ⋅  ⋅  ⋅  ⋅  ⋅  ⋅  1  ⋅\n",
       " ⋅  ⋅  ⋅  ⋅  ⋅  ⋅  ⋅  ⋅  ⋅  1"
      ]
     },
     "execution_count": 19,
     "metadata": {},
     "output_type": "execute_result"
    }
   ],
   "source": [
    "I(10)"
   ]
  },
  {
   "cell_type": "code",
   "execution_count": 23,
   "id": "37ae5fcd",
   "metadata": {},
   "outputs": [
    {
     "data": {
      "text/plain": [
       "3×3 Matrix{Int64}:\n",
       " 2  4  5\n",
       " 1  2  3\n",
       " 6  7  0"
      ]
     },
     "execution_count": 23,
     "metadata": {},
     "output_type": "execute_result"
    }
   ],
   "source": [
    "M = [2 4 5; 1 2 3; 6 7 0]"
   ]
  },
  {
   "cell_type": "code",
   "execution_count": 24,
   "id": "de93b700",
   "metadata": {},
   "outputs": [
    {
     "data": {
      "text/plain": [
       "Matrix{Int64} (alias for Array{Int64, 2})"
      ]
     },
     "execution_count": 24,
     "metadata": {},
     "output_type": "execute_result"
    }
   ],
   "source": [
    "typeof(M)"
   ]
  },
  {
   "cell_type": "code",
   "execution_count": 25,
   "id": "326a1282",
   "metadata": {},
   "outputs": [
    {
     "data": {
      "text/plain": [
       "(3, 3)"
      ]
     },
     "execution_count": 25,
     "metadata": {},
     "output_type": "execute_result"
    }
   ],
   "source": [
    "size(M)"
   ]
  },
  {
   "cell_type": "code",
   "execution_count": 26,
   "id": "d738a951",
   "metadata": {},
   "outputs": [
    {
     "data": {
      "text/plain": [
       "3-element Vector{Int64}:\n",
       " 2\n",
       " 4\n",
       " 5"
      ]
     },
     "execution_count": 26,
     "metadata": {},
     "output_type": "execute_result"
    }
   ],
   "source": [
    "M[1,: ]"
   ]
  },
  {
   "cell_type": "code",
   "execution_count": 27,
   "id": "6de5bac8",
   "metadata": {},
   "outputs": [
    {
     "data": {
      "text/plain": [
       "3-element Vector{Int64}:\n",
       " 4\n",
       " 2\n",
       " 7"
      ]
     },
     "execution_count": 27,
     "metadata": {},
     "output_type": "execute_result"
    }
   ],
   "source": [
    "M[:,2]"
   ]
  },
  {
   "cell_type": "code",
   "execution_count": 28,
   "id": "ec208e71",
   "metadata": {},
   "outputs": [
    {
     "data": {
      "text/plain": [
       "3×3 Matrix{Int64}:\n",
       " 1  2  3\n",
       " 4  5  6\n",
       " 7  8  9"
      ]
     },
     "execution_count": 28,
     "metadata": {},
     "output_type": "execute_result"
    }
   ],
   "source": [
    "N = [1 2 3 ; 4 5 6; 7 8 9]"
   ]
  },
  {
   "cell_type": "code",
   "execution_count": 29,
   "id": "fc6c7111",
   "metadata": {},
   "outputs": [
    {
     "data": {
      "text/plain": [
       "3×6 Matrix{Int64}:\n",
       " 2  4  5  1  2  3\n",
       " 1  2  3  4  5  6\n",
       " 6  7  0  7  8  9"
      ]
     },
     "execution_count": 29,
     "metadata": {},
     "output_type": "execute_result"
    }
   ],
   "source": [
    "[M N] #concatenate horizontally"
   ]
  },
  {
   "cell_type": "code",
   "execution_count": 30,
   "id": "01eaf8e1",
   "metadata": {},
   "outputs": [
    {
     "data": {
      "text/plain": [
       "6×3 Matrix{Int64}:\n",
       " 2  4  5\n",
       " 1  2  3\n",
       " 6  7  0\n",
       " 1  2  3\n",
       " 4  5  6\n",
       " 7  8  9"
      ]
     },
     "execution_count": 30,
     "metadata": {},
     "output_type": "execute_result"
    }
   ],
   "source": [
    "[M;N] #concatenate vertically"
   ]
  },
  {
   "cell_type": "code",
   "execution_count": 31,
   "id": "76d74d8b",
   "metadata": {},
   "outputs": [
    {
     "data": {
      "text/plain": [
       "3×6 Matrix{Int64}:\n",
       " 2  4  5  1  2  3\n",
       " 1  2  3  4  5  6\n",
       " 6  7  0  7  8  9"
      ]
     },
     "execution_count": 31,
     "metadata": {},
     "output_type": "execute_result"
    }
   ],
   "source": [
    "hcat(M, N)"
   ]
  },
  {
   "cell_type": "code",
   "execution_count": 32,
   "id": "33f575a3",
   "metadata": {},
   "outputs": [
    {
     "data": {
      "text/plain": [
       "6×3 Matrix{Int64}:\n",
       " 2  4  5\n",
       " 1  2  3\n",
       " 6  7  0\n",
       " 1  2  3\n",
       " 4  5  6\n",
       " 7  8  9"
      ]
     },
     "execution_count": 32,
     "metadata": {},
     "output_type": "execute_result"
    }
   ],
   "source": [
    "vcat(M, N)"
   ]
  },
  {
   "cell_type": "code",
   "execution_count": 33,
   "id": "e6732843",
   "metadata": {},
   "outputs": [
    {
     "data": {
      "text/plain": [
       "3×3 transpose(::Matrix{Int64}) with eltype Int64:\n",
       " 2  1  6\n",
       " 4  2  7\n",
       " 5  3  0"
      ]
     },
     "execution_count": 33,
     "metadata": {},
     "output_type": "execute_result"
    }
   ],
   "source": [
    "transpose(M)"
   ]
  },
  {
   "cell_type": "code",
   "execution_count": 34,
   "id": "99631b17",
   "metadata": {},
   "outputs": [
    {
     "data": {
      "text/plain": [
       "4"
      ]
     },
     "execution_count": 34,
     "metadata": {},
     "output_type": "execute_result"
    }
   ],
   "source": [
    "tr(M) #trash of M"
   ]
  },
  {
   "cell_type": "code",
   "execution_count": 35,
   "id": "84ac75a6",
   "metadata": {},
   "outputs": [
    {
     "data": {
      "text/plain": [
       "5.000000000000001"
      ]
     },
     "execution_count": 35,
     "metadata": {},
     "output_type": "execute_result"
    }
   ],
   "source": [
    "det(M) #determinant"
   ]
  },
  {
   "cell_type": "code",
   "execution_count": 36,
   "id": "ef1b42f8",
   "metadata": {},
   "outputs": [
    {
     "data": {
      "text/plain": [
       "3×3 Matrix{Float64}:\n",
       " -4.2   7.0   0.4\n",
       "  3.6  -6.0  -0.2\n",
       " -1.0   2.0   0.0"
      ]
     },
     "execution_count": 36,
     "metadata": {},
     "output_type": "execute_result"
    }
   ],
   "source": [
    "inv(M) #inverse"
   ]
  },
  {
   "cell_type": "code",
   "execution_count": 37,
   "id": "d4982d43",
   "metadata": {},
   "outputs": [
    {
     "data": {
      "text/plain": [
       "3×3 UpperTriangular{Int64, Matrix{Int64}}:\n",
       " 2  4  5\n",
       " ⋅  2  3\n",
       " ⋅  ⋅  0"
      ]
     },
     "execution_count": 37,
     "metadata": {},
     "output_type": "execute_result"
    }
   ],
   "source": [
    "UpperTriangular(M)"
   ]
  },
  {
   "cell_type": "code",
   "execution_count": 38,
   "id": "a857fcf3",
   "metadata": {},
   "outputs": [
    {
     "data": {
      "text/plain": [
       "3×3 LowerTriangular{Int64, Matrix{Int64}}:\n",
       " 2  ⋅  ⋅\n",
       " 1  2  ⋅\n",
       " 6  7  0"
      ]
     },
     "execution_count": 38,
     "metadata": {},
     "output_type": "execute_result"
    }
   ],
   "source": [
    "LowerTriangular(M)"
   ]
  },
  {
   "cell_type": "code",
   "execution_count": 39,
   "id": "b8d66dfa",
   "metadata": {},
   "outputs": [
    {
     "data": {
      "text/plain": [
       "3×3 Matrix{Float64}:\n",
       " -0.424033  -0.742562  -0.645135\n",
       " -0.292089   0.639301  -0.358268\n",
       "  0.857251  -0.19974   -0.674866"
      ]
     },
     "execution_count": 39,
     "metadata": {},
     "output_type": "execute_result"
    }
   ],
   "source": [
    "eigvecs(M)"
   ]
  },
  {
   "cell_type": "code",
   "execution_count": 40,
   "id": "8e7832fd",
   "metadata": {},
   "outputs": [
    {
     "data": {
      "text/plain": [
       "3-element Vector{Float64}:\n",
       " -5.352954259951673\n",
       " -0.09882411688237432\n",
       "  9.451778376834048"
      ]
     },
     "execution_count": 40,
     "metadata": {},
     "output_type": "execute_result"
    }
   ],
   "source": [
    "eigvals(M)"
   ]
  },
  {
   "cell_type": "code",
   "execution_count": null,
   "id": "d1bfb8af",
   "metadata": {},
   "outputs": [],
   "source": []
  }
 ],
 "metadata": {
  "kernelspec": {
   "display_name": "Julia 1.6.1",
   "language": "julia",
   "name": "julia-1.6"
  },
  "language_info": {
   "file_extension": ".jl",
   "mimetype": "application/julia",
   "name": "julia",
   "version": "1.6.1"
  }
 },
 "nbformat": 4,
 "nbformat_minor": 5
}
